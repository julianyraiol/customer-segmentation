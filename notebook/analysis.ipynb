{
 "cells": [
  {
   "cell_type": "code",
   "execution_count": 1,
   "metadata": {},
   "outputs": [],
   "source": [
    "import pandas as pd\n",
    "import plotly.express as px"
   ]
  },
  {
   "cell_type": "code",
   "execution_count": 2,
   "metadata": {},
   "outputs": [
    {
     "data": {
      "text/html": [
       "<div>\n",
       "<style scoped>\n",
       "    .dataframe tbody tr th:only-of-type {\n",
       "        vertical-align: middle;\n",
       "    }\n",
       "\n",
       "    .dataframe tbody tr th {\n",
       "        vertical-align: top;\n",
       "    }\n",
       "\n",
       "    .dataframe thead th {\n",
       "        text-align: right;\n",
       "    }\n",
       "</style>\n",
       "<table border=\"1\" class=\"dataframe\">\n",
       "  <thead>\n",
       "    <tr style=\"text-align: right;\">\n",
       "      <th></th>\n",
       "      <th>ID</th>\n",
       "      <th>Year_Birth</th>\n",
       "      <th>Education</th>\n",
       "      <th>Marital_Status</th>\n",
       "      <th>Income</th>\n",
       "      <th>Kidhome</th>\n",
       "      <th>Teenhome</th>\n",
       "      <th>Dt_Customer</th>\n",
       "      <th>Recency</th>\n",
       "      <th>MntWines</th>\n",
       "      <th>...</th>\n",
       "      <th>NumWebVisitsMonth</th>\n",
       "      <th>AcceptedCmp3</th>\n",
       "      <th>AcceptedCmp4</th>\n",
       "      <th>AcceptedCmp5</th>\n",
       "      <th>AcceptedCmp1</th>\n",
       "      <th>AcceptedCmp2</th>\n",
       "      <th>Complain</th>\n",
       "      <th>Z_CostContact</th>\n",
       "      <th>Z_Revenue</th>\n",
       "      <th>Response</th>\n",
       "    </tr>\n",
       "  </thead>\n",
       "  <tbody>\n",
       "    <tr>\n",
       "      <th>0</th>\n",
       "      <td>5524</td>\n",
       "      <td>1957</td>\n",
       "      <td>Graduation</td>\n",
       "      <td>Single</td>\n",
       "      <td>58138.0</td>\n",
       "      <td>0</td>\n",
       "      <td>0</td>\n",
       "      <td>2012-09-04</td>\n",
       "      <td>58</td>\n",
       "      <td>635</td>\n",
       "      <td>...</td>\n",
       "      <td>7</td>\n",
       "      <td>0</td>\n",
       "      <td>0</td>\n",
       "      <td>0</td>\n",
       "      <td>0</td>\n",
       "      <td>0</td>\n",
       "      <td>0</td>\n",
       "      <td>3</td>\n",
       "      <td>11</td>\n",
       "      <td>1</td>\n",
       "    </tr>\n",
       "    <tr>\n",
       "      <th>1</th>\n",
       "      <td>2174</td>\n",
       "      <td>1954</td>\n",
       "      <td>Graduation</td>\n",
       "      <td>Single</td>\n",
       "      <td>46344.0</td>\n",
       "      <td>1</td>\n",
       "      <td>1</td>\n",
       "      <td>2014-03-08</td>\n",
       "      <td>38</td>\n",
       "      <td>11</td>\n",
       "      <td>...</td>\n",
       "      <td>5</td>\n",
       "      <td>0</td>\n",
       "      <td>0</td>\n",
       "      <td>0</td>\n",
       "      <td>0</td>\n",
       "      <td>0</td>\n",
       "      <td>0</td>\n",
       "      <td>3</td>\n",
       "      <td>11</td>\n",
       "      <td>0</td>\n",
       "    </tr>\n",
       "    <tr>\n",
       "      <th>2</th>\n",
       "      <td>4141</td>\n",
       "      <td>1965</td>\n",
       "      <td>Graduation</td>\n",
       "      <td>Together</td>\n",
       "      <td>71613.0</td>\n",
       "      <td>0</td>\n",
       "      <td>0</td>\n",
       "      <td>2013-08-21</td>\n",
       "      <td>26</td>\n",
       "      <td>426</td>\n",
       "      <td>...</td>\n",
       "      <td>4</td>\n",
       "      <td>0</td>\n",
       "      <td>0</td>\n",
       "      <td>0</td>\n",
       "      <td>0</td>\n",
       "      <td>0</td>\n",
       "      <td>0</td>\n",
       "      <td>3</td>\n",
       "      <td>11</td>\n",
       "      <td>0</td>\n",
       "    </tr>\n",
       "    <tr>\n",
       "      <th>3</th>\n",
       "      <td>6182</td>\n",
       "      <td>1984</td>\n",
       "      <td>Graduation</td>\n",
       "      <td>Together</td>\n",
       "      <td>26646.0</td>\n",
       "      <td>1</td>\n",
       "      <td>0</td>\n",
       "      <td>2014-02-10</td>\n",
       "      <td>26</td>\n",
       "      <td>11</td>\n",
       "      <td>...</td>\n",
       "      <td>6</td>\n",
       "      <td>0</td>\n",
       "      <td>0</td>\n",
       "      <td>0</td>\n",
       "      <td>0</td>\n",
       "      <td>0</td>\n",
       "      <td>0</td>\n",
       "      <td>3</td>\n",
       "      <td>11</td>\n",
       "      <td>0</td>\n",
       "    </tr>\n",
       "    <tr>\n",
       "      <th>4</th>\n",
       "      <td>5324</td>\n",
       "      <td>1981</td>\n",
       "      <td>PhD</td>\n",
       "      <td>Married</td>\n",
       "      <td>58293.0</td>\n",
       "      <td>1</td>\n",
       "      <td>0</td>\n",
       "      <td>2014-01-19</td>\n",
       "      <td>94</td>\n",
       "      <td>173</td>\n",
       "      <td>...</td>\n",
       "      <td>5</td>\n",
       "      <td>0</td>\n",
       "      <td>0</td>\n",
       "      <td>0</td>\n",
       "      <td>0</td>\n",
       "      <td>0</td>\n",
       "      <td>0</td>\n",
       "      <td>3</td>\n",
       "      <td>11</td>\n",
       "      <td>0</td>\n",
       "    </tr>\n",
       "  </tbody>\n",
       "</table>\n",
       "<p>5 rows × 29 columns</p>\n",
       "</div>"
      ],
      "text/plain": [
       "     ID  Year_Birth   Education Marital_Status   Income  Kidhome  Teenhome  \\\n",
       "0  5524        1957  Graduation         Single  58138.0        0         0   \n",
       "1  2174        1954  Graduation         Single  46344.0        1         1   \n",
       "2  4141        1965  Graduation       Together  71613.0        0         0   \n",
       "3  6182        1984  Graduation       Together  26646.0        1         0   \n",
       "4  5324        1981         PhD        Married  58293.0        1         0   \n",
       "\n",
       "  Dt_Customer  Recency  MntWines  ...  NumWebVisitsMonth  AcceptedCmp3  \\\n",
       "0  2012-09-04       58       635  ...                  7             0   \n",
       "1  2014-03-08       38        11  ...                  5             0   \n",
       "2  2013-08-21       26       426  ...                  4             0   \n",
       "3  2014-02-10       26        11  ...                  6             0   \n",
       "4  2014-01-19       94       173  ...                  5             0   \n",
       "\n",
       "   AcceptedCmp4  AcceptedCmp5  AcceptedCmp1  AcceptedCmp2  Complain  \\\n",
       "0             0             0             0             0         0   \n",
       "1             0             0             0             0         0   \n",
       "2             0             0             0             0         0   \n",
       "3             0             0             0             0         0   \n",
       "4             0             0             0             0         0   \n",
       "\n",
       "   Z_CostContact  Z_Revenue  Response  \n",
       "0              3         11         1  \n",
       "1              3         11         0  \n",
       "2              3         11         0  \n",
       "3              3         11         0  \n",
       "4              3         11         0  \n",
       "\n",
       "[5 rows x 29 columns]"
      ]
     },
     "execution_count": 2,
     "metadata": {},
     "output_type": "execute_result"
    }
   ],
   "source": [
    "df = pd.read_csv(\"../data/ml_project1_data.csv\")\n",
    "df.head()"
   ]
  },
  {
   "cell_type": "code",
   "execution_count": 8,
   "metadata": {},
   "outputs": [],
   "source": [
    "df.rename(columns=str.lower, inplace=True)"
   ]
  },
  {
   "cell_type": "code",
   "execution_count": 9,
   "metadata": {},
   "outputs": [
    {
     "name": "stdout",
     "output_type": "stream",
     "text": [
      "<class 'pandas.core.frame.DataFrame'>\n",
      "RangeIndex: 2240 entries, 0 to 2239\n",
      "Data columns (total 29 columns):\n",
      " #   Column               Non-Null Count  Dtype  \n",
      "---  ------               --------------  -----  \n",
      " 0   id                   2240 non-null   int64  \n",
      " 1   year_birth           2240 non-null   int64  \n",
      " 2   education            2240 non-null   object \n",
      " 3   marital_status       2240 non-null   object \n",
      " 4   income               2216 non-null   float64\n",
      " 5   kidhome              2240 non-null   int64  \n",
      " 6   teenhome             2240 non-null   int64  \n",
      " 7   dt_customer          2240 non-null   object \n",
      " 8   recency              2240 non-null   int64  \n",
      " 9   mntwines             2240 non-null   int64  \n",
      " 10  mntfruits            2240 non-null   int64  \n",
      " 11  mntmeatproducts      2240 non-null   int64  \n",
      " 12  mntfishproducts      2240 non-null   int64  \n",
      " 13  mntsweetproducts     2240 non-null   int64  \n",
      " 14  mntgoldprods         2240 non-null   int64  \n",
      " 15  numdealspurchases    2240 non-null   int64  \n",
      " 16  numwebpurchases      2240 non-null   int64  \n",
      " 17  numcatalogpurchases  2240 non-null   int64  \n",
      " 18  numstorepurchases    2240 non-null   int64  \n",
      " 19  numwebvisitsmonth    2240 non-null   int64  \n",
      " 20  acceptedcmp3         2240 non-null   int64  \n",
      " 21  acceptedcmp4         2240 non-null   int64  \n",
      " 22  acceptedcmp5         2240 non-null   int64  \n",
      " 23  acceptedcmp1         2240 non-null   int64  \n",
      " 24  acceptedcmp2         2240 non-null   int64  \n",
      " 25  complain             2240 non-null   int64  \n",
      " 26  z_costcontact        2240 non-null   int64  \n",
      " 27  z_revenue            2240 non-null   int64  \n",
      " 28  response             2240 non-null   int64  \n",
      "dtypes: float64(1), int64(25), object(3)\n",
      "memory usage: 507.6+ KB\n"
     ]
    }
   ],
   "source": [
    "df.info()"
   ]
  },
  {
   "cell_type": "code",
   "execution_count": 37,
   "metadata": {},
   "outputs": [],
   "source": [
    "education = df.groupby([\"education\"]).size().reset_index(name=\"count\")"
   ]
  },
  {
   "cell_type": "code",
   "execution_count": 42,
   "metadata": {},
   "outputs": [
    {
     "data": {
      "application/vnd.plotly.v1+json": {
       "config": {
        "plotlyServerURL": "https://plot.ly"
       },
       "data": [
        {
         "customdata": [
          [
           "2n Cycle"
          ],
          [
           "Basic"
          ],
          [
           "Graduation"
          ],
          [
           "Master"
          ],
          [
           "PhD"
          ]
         ],
         "domain": {
          "x": [
           0,
           1
          ],
          "y": [
           0,
           1
          ]
         },
         "hovertemplate": "education=%{customdata[0]}<br>count=%{value}<extra></extra>",
         "labels": [
          "2n Cycle",
          "Basic",
          "Graduation",
          "Master",
          "PhD"
         ],
         "legendgroup": "",
         "marker": {
          "colors": [
           "#636efa",
           "#EF553B",
           "#00cc96",
           "#ab63fa",
           "#FFA15A"
          ]
         },
         "name": "",
         "showlegend": true,
         "type": "pie",
         "values": [
          203,
          54,
          1127,
          370,
          486
         ]
        }
       ],
       "layout": {
        "autosize": false,
        "height": 500,
        "legend": {
         "tracegroupgap": 0
        },
        "template": {
         "data": {
          "bar": [
           {
            "error_x": {
             "color": "#2a3f5f"
            },
            "error_y": {
             "color": "#2a3f5f"
            },
            "marker": {
             "line": {
              "color": "#E5ECF6",
              "width": 0.5
             }
            },
            "type": "bar"
           }
          ],
          "barpolar": [
           {
            "marker": {
             "line": {
              "color": "#E5ECF6",
              "width": 0.5
             }
            },
            "type": "barpolar"
           }
          ],
          "carpet": [
           {
            "aaxis": {
             "endlinecolor": "#2a3f5f",
             "gridcolor": "white",
             "linecolor": "white",
             "minorgridcolor": "white",
             "startlinecolor": "#2a3f5f"
            },
            "baxis": {
             "endlinecolor": "#2a3f5f",
             "gridcolor": "white",
             "linecolor": "white",
             "minorgridcolor": "white",
             "startlinecolor": "#2a3f5f"
            },
            "type": "carpet"
           }
          ],
          "choropleth": [
           {
            "colorbar": {
             "outlinewidth": 0,
             "ticks": ""
            },
            "type": "choropleth"
           }
          ],
          "contour": [
           {
            "colorbar": {
             "outlinewidth": 0,
             "ticks": ""
            },
            "colorscale": [
             [
              0,
              "#0d0887"
             ],
             [
              0.1111111111111111,
              "#46039f"
             ],
             [
              0.2222222222222222,
              "#7201a8"
             ],
             [
              0.3333333333333333,
              "#9c179e"
             ],
             [
              0.4444444444444444,
              "#bd3786"
             ],
             [
              0.5555555555555556,
              "#d8576b"
             ],
             [
              0.6666666666666666,
              "#ed7953"
             ],
             [
              0.7777777777777778,
              "#fb9f3a"
             ],
             [
              0.8888888888888888,
              "#fdca26"
             ],
             [
              1,
              "#f0f921"
             ]
            ],
            "type": "contour"
           }
          ],
          "contourcarpet": [
           {
            "colorbar": {
             "outlinewidth": 0,
             "ticks": ""
            },
            "type": "contourcarpet"
           }
          ],
          "heatmap": [
           {
            "colorbar": {
             "outlinewidth": 0,
             "ticks": ""
            },
            "colorscale": [
             [
              0,
              "#0d0887"
             ],
             [
              0.1111111111111111,
              "#46039f"
             ],
             [
              0.2222222222222222,
              "#7201a8"
             ],
             [
              0.3333333333333333,
              "#9c179e"
             ],
             [
              0.4444444444444444,
              "#bd3786"
             ],
             [
              0.5555555555555556,
              "#d8576b"
             ],
             [
              0.6666666666666666,
              "#ed7953"
             ],
             [
              0.7777777777777778,
              "#fb9f3a"
             ],
             [
              0.8888888888888888,
              "#fdca26"
             ],
             [
              1,
              "#f0f921"
             ]
            ],
            "type": "heatmap"
           }
          ],
          "heatmapgl": [
           {
            "colorbar": {
             "outlinewidth": 0,
             "ticks": ""
            },
            "colorscale": [
             [
              0,
              "#0d0887"
             ],
             [
              0.1111111111111111,
              "#46039f"
             ],
             [
              0.2222222222222222,
              "#7201a8"
             ],
             [
              0.3333333333333333,
              "#9c179e"
             ],
             [
              0.4444444444444444,
              "#bd3786"
             ],
             [
              0.5555555555555556,
              "#d8576b"
             ],
             [
              0.6666666666666666,
              "#ed7953"
             ],
             [
              0.7777777777777778,
              "#fb9f3a"
             ],
             [
              0.8888888888888888,
              "#fdca26"
             ],
             [
              1,
              "#f0f921"
             ]
            ],
            "type": "heatmapgl"
           }
          ],
          "histogram": [
           {
            "marker": {
             "colorbar": {
              "outlinewidth": 0,
              "ticks": ""
             }
            },
            "type": "histogram"
           }
          ],
          "histogram2d": [
           {
            "colorbar": {
             "outlinewidth": 0,
             "ticks": ""
            },
            "colorscale": [
             [
              0,
              "#0d0887"
             ],
             [
              0.1111111111111111,
              "#46039f"
             ],
             [
              0.2222222222222222,
              "#7201a8"
             ],
             [
              0.3333333333333333,
              "#9c179e"
             ],
             [
              0.4444444444444444,
              "#bd3786"
             ],
             [
              0.5555555555555556,
              "#d8576b"
             ],
             [
              0.6666666666666666,
              "#ed7953"
             ],
             [
              0.7777777777777778,
              "#fb9f3a"
             ],
             [
              0.8888888888888888,
              "#fdca26"
             ],
             [
              1,
              "#f0f921"
             ]
            ],
            "type": "histogram2d"
           }
          ],
          "histogram2dcontour": [
           {
            "colorbar": {
             "outlinewidth": 0,
             "ticks": ""
            },
            "colorscale": [
             [
              0,
              "#0d0887"
             ],
             [
              0.1111111111111111,
              "#46039f"
             ],
             [
              0.2222222222222222,
              "#7201a8"
             ],
             [
              0.3333333333333333,
              "#9c179e"
             ],
             [
              0.4444444444444444,
              "#bd3786"
             ],
             [
              0.5555555555555556,
              "#d8576b"
             ],
             [
              0.6666666666666666,
              "#ed7953"
             ],
             [
              0.7777777777777778,
              "#fb9f3a"
             ],
             [
              0.8888888888888888,
              "#fdca26"
             ],
             [
              1,
              "#f0f921"
             ]
            ],
            "type": "histogram2dcontour"
           }
          ],
          "mesh3d": [
           {
            "colorbar": {
             "outlinewidth": 0,
             "ticks": ""
            },
            "type": "mesh3d"
           }
          ],
          "parcoords": [
           {
            "line": {
             "colorbar": {
              "outlinewidth": 0,
              "ticks": ""
             }
            },
            "type": "parcoords"
           }
          ],
          "pie": [
           {
            "automargin": true,
            "type": "pie"
           }
          ],
          "scatter": [
           {
            "marker": {
             "colorbar": {
              "outlinewidth": 0,
              "ticks": ""
             }
            },
            "type": "scatter"
           }
          ],
          "scatter3d": [
           {
            "line": {
             "colorbar": {
              "outlinewidth": 0,
              "ticks": ""
             }
            },
            "marker": {
             "colorbar": {
              "outlinewidth": 0,
              "ticks": ""
             }
            },
            "type": "scatter3d"
           }
          ],
          "scattercarpet": [
           {
            "marker": {
             "colorbar": {
              "outlinewidth": 0,
              "ticks": ""
             }
            },
            "type": "scattercarpet"
           }
          ],
          "scattergeo": [
           {
            "marker": {
             "colorbar": {
              "outlinewidth": 0,
              "ticks": ""
             }
            },
            "type": "scattergeo"
           }
          ],
          "scattergl": [
           {
            "marker": {
             "colorbar": {
              "outlinewidth": 0,
              "ticks": ""
             }
            },
            "type": "scattergl"
           }
          ],
          "scattermapbox": [
           {
            "marker": {
             "colorbar": {
              "outlinewidth": 0,
              "ticks": ""
             }
            },
            "type": "scattermapbox"
           }
          ],
          "scatterpolar": [
           {
            "marker": {
             "colorbar": {
              "outlinewidth": 0,
              "ticks": ""
             }
            },
            "type": "scatterpolar"
           }
          ],
          "scatterpolargl": [
           {
            "marker": {
             "colorbar": {
              "outlinewidth": 0,
              "ticks": ""
             }
            },
            "type": "scatterpolargl"
           }
          ],
          "scatterternary": [
           {
            "marker": {
             "colorbar": {
              "outlinewidth": 0,
              "ticks": ""
             }
            },
            "type": "scatterternary"
           }
          ],
          "surface": [
           {
            "colorbar": {
             "outlinewidth": 0,
             "ticks": ""
            },
            "colorscale": [
             [
              0,
              "#0d0887"
             ],
             [
              0.1111111111111111,
              "#46039f"
             ],
             [
              0.2222222222222222,
              "#7201a8"
             ],
             [
              0.3333333333333333,
              "#9c179e"
             ],
             [
              0.4444444444444444,
              "#bd3786"
             ],
             [
              0.5555555555555556,
              "#d8576b"
             ],
             [
              0.6666666666666666,
              "#ed7953"
             ],
             [
              0.7777777777777778,
              "#fb9f3a"
             ],
             [
              0.8888888888888888,
              "#fdca26"
             ],
             [
              1,
              "#f0f921"
             ]
            ],
            "type": "surface"
           }
          ],
          "table": [
           {
            "cells": {
             "fill": {
              "color": "#EBF0F8"
             },
             "line": {
              "color": "white"
             }
            },
            "header": {
             "fill": {
              "color": "#C8D4E3"
             },
             "line": {
              "color": "white"
             }
            },
            "type": "table"
           }
          ]
         },
         "layout": {
          "annotationdefaults": {
           "arrowcolor": "#2a3f5f",
           "arrowhead": 0,
           "arrowwidth": 1
          },
          "coloraxis": {
           "colorbar": {
            "outlinewidth": 0,
            "ticks": ""
           }
          },
          "colorscale": {
           "diverging": [
            [
             0,
             "#8e0152"
            ],
            [
             0.1,
             "#c51b7d"
            ],
            [
             0.2,
             "#de77ae"
            ],
            [
             0.3,
             "#f1b6da"
            ],
            [
             0.4,
             "#fde0ef"
            ],
            [
             0.5,
             "#f7f7f7"
            ],
            [
             0.6,
             "#e6f5d0"
            ],
            [
             0.7,
             "#b8e186"
            ],
            [
             0.8,
             "#7fbc41"
            ],
            [
             0.9,
             "#4d9221"
            ],
            [
             1,
             "#276419"
            ]
           ],
           "sequential": [
            [
             0,
             "#0d0887"
            ],
            [
             0.1111111111111111,
             "#46039f"
            ],
            [
             0.2222222222222222,
             "#7201a8"
            ],
            [
             0.3333333333333333,
             "#9c179e"
            ],
            [
             0.4444444444444444,
             "#bd3786"
            ],
            [
             0.5555555555555556,
             "#d8576b"
            ],
            [
             0.6666666666666666,
             "#ed7953"
            ],
            [
             0.7777777777777778,
             "#fb9f3a"
            ],
            [
             0.8888888888888888,
             "#fdca26"
            ],
            [
             1,
             "#f0f921"
            ]
           ],
           "sequentialminus": [
            [
             0,
             "#0d0887"
            ],
            [
             0.1111111111111111,
             "#46039f"
            ],
            [
             0.2222222222222222,
             "#7201a8"
            ],
            [
             0.3333333333333333,
             "#9c179e"
            ],
            [
             0.4444444444444444,
             "#bd3786"
            ],
            [
             0.5555555555555556,
             "#d8576b"
            ],
            [
             0.6666666666666666,
             "#ed7953"
            ],
            [
             0.7777777777777778,
             "#fb9f3a"
            ],
            [
             0.8888888888888888,
             "#fdca26"
            ],
            [
             1,
             "#f0f921"
            ]
           ]
          },
          "colorway": [
           "#636efa",
           "#EF553B",
           "#00cc96",
           "#ab63fa",
           "#FFA15A",
           "#19d3f3",
           "#FF6692",
           "#B6E880",
           "#FF97FF",
           "#FECB52"
          ],
          "font": {
           "color": "#2a3f5f"
          },
          "geo": {
           "bgcolor": "white",
           "lakecolor": "white",
           "landcolor": "#E5ECF6",
           "showlakes": true,
           "showland": true,
           "subunitcolor": "white"
          },
          "hoverlabel": {
           "align": "left"
          },
          "hovermode": "closest",
          "mapbox": {
           "style": "light"
          },
          "paper_bgcolor": "white",
          "plot_bgcolor": "#E5ECF6",
          "polar": {
           "angularaxis": {
            "gridcolor": "white",
            "linecolor": "white",
            "ticks": ""
           },
           "bgcolor": "#E5ECF6",
           "radialaxis": {
            "gridcolor": "white",
            "linecolor": "white",
            "ticks": ""
           }
          },
          "scene": {
           "xaxis": {
            "backgroundcolor": "#E5ECF6",
            "gridcolor": "white",
            "gridwidth": 2,
            "linecolor": "white",
            "showbackground": true,
            "ticks": "",
            "zerolinecolor": "white"
           },
           "yaxis": {
            "backgroundcolor": "#E5ECF6",
            "gridcolor": "white",
            "gridwidth": 2,
            "linecolor": "white",
            "showbackground": true,
            "ticks": "",
            "zerolinecolor": "white"
           },
           "zaxis": {
            "backgroundcolor": "#E5ECF6",
            "gridcolor": "white",
            "gridwidth": 2,
            "linecolor": "white",
            "showbackground": true,
            "ticks": "",
            "zerolinecolor": "white"
           }
          },
          "shapedefaults": {
           "line": {
            "color": "#2a3f5f"
           }
          },
          "ternary": {
           "aaxis": {
            "gridcolor": "white",
            "linecolor": "white",
            "ticks": ""
           },
           "baxis": {
            "gridcolor": "white",
            "linecolor": "white",
            "ticks": ""
           },
           "bgcolor": "#E5ECF6",
           "caxis": {
            "gridcolor": "white",
            "linecolor": "white",
            "ticks": ""
           }
          },
          "title": {
           "x": 0.05
          },
          "xaxis": {
           "automargin": true,
           "gridcolor": "white",
           "linecolor": "white",
           "ticks": "",
           "title": {
            "standoff": 15
           },
           "zerolinecolor": "white",
           "zerolinewidth": 2
          },
          "yaxis": {
           "automargin": true,
           "gridcolor": "white",
           "linecolor": "white",
           "ticks": "",
           "title": {
            "standoff": 15
           },
           "zerolinecolor": "white",
           "zerolinewidth": 2
          }
         }
        },
        "title": {
         "text": "Population of European continent"
        },
        "width": 500
       }
      },
      "image/png": "[encoded data removed]",
      "text/html": [
       "<div>                            <div id=\"f71d052f-3133-45ab-8347-1cff39cc70c2\" class=\"plotly-graph-div\" style=\"height:500px; width:500px;\"></div>            <script type=\"text/javascript\">                require([\"plotly\"], function(Plotly) {                    window.PLOTLYENV=window.PLOTLYENV || {};                                    if (document.getElementById(\"f71d052f-3133-45ab-8347-1cff39cc70c2\")) {                    Plotly.newPlot(                        \"f71d052f-3133-45ab-8347-1cff39cc70c2\",                        [{\"customdata\": [[\"2n Cycle\"], [\"Basic\"], [\"Graduation\"], [\"Master\"], [\"PhD\"]], \"domain\": {\"x\": [0.0, 1.0], \"y\": [0.0, 1.0]}, \"hovertemplate\": \"education=%{customdata[0]}<br>count=%{value}<extra></extra>\", \"labels\": [\"2n Cycle\", \"Basic\", \"Graduation\", \"Master\", \"PhD\"], \"legendgroup\": \"\", \"marker\": {\"colors\": [\"#636efa\", \"#EF553B\", \"#00cc96\", \"#ab63fa\", \"#FFA15A\"]}, \"name\": \"\", \"showlegend\": true, \"type\": \"pie\", \"values\": [203, 54, 1127, 370, 486]}],                        {\"autosize\": false, \"height\": 500, \"legend\": {\"tracegroupgap\": 0}, \"template\": {\"data\": {\"bar\": [{\"error_x\": {\"color\": \"#2a3f5f\"}, \"error_y\": {\"color\": \"#2a3f5f\"}, \"marker\": {\"line\": {\"color\": \"#E5ECF6\", \"width\": 0.5}}, \"type\": \"bar\"}], \"barpolar\": [{\"marker\": {\"line\": {\"color\": \"#E5ECF6\", \"width\": 0.5}}, \"type\": \"barpolar\"}], \"carpet\": [{\"aaxis\": {\"endlinecolor\": \"#2a3f5f\", \"gridcolor\": \"white\", \"linecolor\": \"white\", \"minorgridcolor\": \"white\", \"startlinecolor\": \"#2a3f5f\"}, \"baxis\": {\"endlinecolor\": \"#2a3f5f\", \"gridcolor\": \"white\", \"linecolor\": \"white\", \"minorgridcolor\": \"white\", \"startlinecolor\": \"#2a3f5f\"}, \"type\": \"carpet\"}], \"choropleth\": [{\"colorbar\": {\"outlinewidth\": 0, \"ticks\": \"\"}, \"type\": \"choropleth\"}], \"contour\": [{\"colorbar\": {\"outlinewidth\": 0, \"ticks\": \"\"}, \"colorscale\": [[0.0, \"#0d0887\"], [0.1111111111111111, \"#46039f\"], [0.2222222222222222, \"#7201a8\"], [0.3333333333333333, \"#9c179e\"], [0.4444444444444444, \"#bd3786\"], [0.5555555555555556, \"#d8576b\"], [0.6666666666666666, \"#ed7953\"], [0.7777777777777778, \"#fb9f3a\"], [0.8888888888888888, \"#fdca26\"], [1.0, \"#f0f921\"]], \"type\": \"contour\"}], \"contourcarpet\": [{\"colorbar\": {\"outlinewidth\": 0, \"ticks\": \"\"}, \"type\": \"contourcarpet\"}], \"heatmap\": [{\"colorbar\": {\"outlinewidth\": 0, \"ticks\": \"\"}, \"colorscale\": [[0.0, \"#0d0887\"], [0.1111111111111111, \"#46039f\"], [0.2222222222222222, \"#7201a8\"], [0.3333333333333333, \"#9c179e\"], [0.4444444444444444, \"#bd3786\"], [0.5555555555555556, \"#d8576b\"], [0.6666666666666666, \"#ed7953\"], [0.7777777777777778, \"#fb9f3a\"], [0.8888888888888888, \"#fdca26\"], [1.0, \"#f0f921\"]], \"type\": \"heatmap\"}], \"heatmapgl\": [{\"colorbar\": {\"outlinewidth\": 0, \"ticks\": \"\"}, \"colorscale\": [[0.0, \"#0d0887\"], [0.1111111111111111, \"#46039f\"], [0.2222222222222222, \"#7201a8\"], [0.3333333333333333, \"#9c179e\"], [0.4444444444444444, \"#bd3786\"], [0.5555555555555556, \"#d8576b\"], [0.6666666666666666, \"#ed7953\"], [0.7777777777777778, \"#fb9f3a\"], [0.8888888888888888, \"#fdca26\"], [1.0, \"#f0f921\"]], \"type\": \"heatmapgl\"}], \"histogram\": [{\"marker\": {\"colorbar\": {\"outlinewidth\": 0, \"ticks\": \"\"}}, \"type\": \"histogram\"}], \"histogram2d\": [{\"colorbar\": {\"outlinewidth\": 0, \"ticks\": \"\"}, \"colorscale\": [[0.0, \"#0d0887\"], [0.1111111111111111, \"#46039f\"], [0.2222222222222222, \"#7201a8\"], [0.3333333333333333, \"#9c179e\"], [0.4444444444444444, \"#bd3786\"], [0.5555555555555556, \"#d8576b\"], [0.6666666666666666, \"#ed7953\"], [0.7777777777777778, \"#fb9f3a\"], [0.8888888888888888, \"#fdca26\"], [1.0, \"#f0f921\"]], \"type\": \"histogram2d\"}], \"histogram2dcontour\": [{\"colorbar\": {\"outlinewidth\": 0, \"ticks\": \"\"}, \"colorscale\": [[0.0, \"#0d0887\"], [0.1111111111111111, \"#46039f\"], [0.2222222222222222, \"#7201a8\"], [0.3333333333333333, \"#9c179e\"], [0.4444444444444444, \"#bd3786\"], [0.5555555555555556, \"#d8576b\"], [0.6666666666666666, \"#ed7953\"], [0.7777777777777778, \"#fb9f3a\"], [0.8888888888888888, \"#fdca26\"], [1.0, \"#f0f921\"]], \"type\": \"histogram2dcontour\"}], \"mesh3d\": [{\"colorbar\": {\"outlinewidth\": 0, \"ticks\": \"\"}, \"type\": \"mesh3d\"}], \"parcoords\": [{\"line\": {\"colorbar\": {\"outlinewidth\": 0, \"ticks\": \"\"}}, \"type\": \"parcoords\"}], \"pie\": [{\"automargin\": true, \"type\": \"pie\"}], \"scatter\": [{\"marker\": {\"colorbar\": {\"outlinewidth\": 0, \"ticks\": \"\"}}, \"type\": \"scatter\"}], \"scatter3d\": [{\"line\": {\"colorbar\": {\"outlinewidth\": 0, \"ticks\": \"\"}}, \"marker\": {\"colorbar\": {\"outlinewidth\": 0, \"ticks\": \"\"}}, \"type\": \"scatter3d\"}], \"scattercarpet\": [{\"marker\": {\"colorbar\": {\"outlinewidth\": 0, \"ticks\": \"\"}}, \"type\": \"scattercarpet\"}], \"scattergeo\": [{\"marker\": {\"colorbar\": {\"outlinewidth\": 0, \"ticks\": \"\"}}, \"type\": \"scattergeo\"}], \"scattergl\": [{\"marker\": {\"colorbar\": {\"outlinewidth\": 0, \"ticks\": \"\"}}, \"type\": \"scattergl\"}], \"scattermapbox\": [{\"marker\": {\"colorbar\": {\"outlinewidth\": 0, \"ticks\": \"\"}}, \"type\": \"scattermapbox\"}], \"scatterpolar\": [{\"marker\": {\"colorbar\": {\"outlinewidth\": 0, \"ticks\": \"\"}}, \"type\": \"scatterpolar\"}], \"scatterpolargl\": [{\"marker\": {\"colorbar\": {\"outlinewidth\": 0, \"ticks\": \"\"}}, \"type\": \"scatterpolargl\"}], \"scatterternary\": [{\"marker\": {\"colorbar\": {\"outlinewidth\": 0, \"ticks\": \"\"}}, \"type\": \"scatterternary\"}], \"surface\": [{\"colorbar\": {\"outlinewidth\": 0, \"ticks\": \"\"}, \"colorscale\": [[0.0, \"#0d0887\"], [0.1111111111111111, \"#46039f\"], [0.2222222222222222, \"#7201a8\"], [0.3333333333333333, \"#9c179e\"], [0.4444444444444444, \"#bd3786\"], [0.5555555555555556, \"#d8576b\"], [0.6666666666666666, \"#ed7953\"], [0.7777777777777778, \"#fb9f3a\"], [0.8888888888888888, \"#fdca26\"], [1.0, \"#f0f921\"]], \"type\": \"surface\"}], \"table\": [{\"cells\": {\"fill\": {\"color\": \"#EBF0F8\"}, \"line\": {\"color\": \"white\"}}, \"header\": {\"fill\": {\"color\": \"#C8D4E3\"}, \"line\": {\"color\": \"white\"}}, \"type\": \"table\"}]}, \"layout\": {\"annotationdefaults\": {\"arrowcolor\": \"#2a3f5f\", \"arrowhead\": 0, \"arrowwidth\": 1}, \"coloraxis\": {\"colorbar\": {\"outlinewidth\": 0, \"ticks\": \"\"}}, \"colorscale\": {\"diverging\": [[0, \"#8e0152\"], [0.1, \"#c51b7d\"], [0.2, \"#de77ae\"], [0.3, \"#f1b6da\"], [0.4, \"#fde0ef\"], [0.5, \"#f7f7f7\"], [0.6, \"#e6f5d0\"], [0.7, \"#b8e186\"], [0.8, \"#7fbc41\"], [0.9, \"#4d9221\"], [1, \"#276419\"]], \"sequential\": [[0.0, \"#0d0887\"], [0.1111111111111111, \"#46039f\"], [0.2222222222222222, \"#7201a8\"], [0.3333333333333333, \"#9c179e\"], [0.4444444444444444, \"#bd3786\"], [0.5555555555555556, \"#d8576b\"], [0.6666666666666666, \"#ed7953\"], [0.7777777777777778, \"#fb9f3a\"], [0.8888888888888888, \"#fdca26\"], [1.0, \"#f0f921\"]], \"sequentialminus\": [[0.0, \"#0d0887\"], [0.1111111111111111, \"#46039f\"], [0.2222222222222222, \"#7201a8\"], [0.3333333333333333, \"#9c179e\"], [0.4444444444444444, \"#bd3786\"], [0.5555555555555556, \"#d8576b\"], [0.6666666666666666, \"#ed7953\"], [0.7777777777777778, \"#fb9f3a\"], [0.8888888888888888, \"#fdca26\"], [1.0, \"#f0f921\"]]}, \"colorway\": [\"#636efa\", \"#EF553B\", \"#00cc96\", \"#ab63fa\", \"#FFA15A\", \"#19d3f3\", \"#FF6692\", \"#B6E880\", \"#FF97FF\", \"#FECB52\"], \"font\": {\"color\": \"#2a3f5f\"}, \"geo\": {\"bgcolor\": \"white\", \"lakecolor\": \"white\", \"landcolor\": \"#E5ECF6\", \"showlakes\": true, \"showland\": true, \"subunitcolor\": \"white\"}, \"hoverlabel\": {\"align\": \"left\"}, \"hovermode\": \"closest\", \"mapbox\": {\"style\": \"light\"}, \"paper_bgcolor\": \"white\", \"plot_bgcolor\": \"#E5ECF6\", \"polar\": {\"angularaxis\": {\"gridcolor\": \"white\", \"linecolor\": \"white\", \"ticks\": \"\"}, \"bgcolor\": \"#E5ECF6\", \"radialaxis\": {\"gridcolor\": \"white\", \"linecolor\": \"white\", \"ticks\": \"\"}}, \"scene\": {\"xaxis\": {\"backgroundcolor\": \"#E5ECF6\", \"gridcolor\": \"white\", \"gridwidth\": 2, \"linecolor\": \"white\", \"showbackground\": true, \"ticks\": \"\", \"zerolinecolor\": \"white\"}, \"yaxis\": {\"backgroundcolor\": \"#E5ECF6\", \"gridcolor\": \"white\", \"gridwidth\": 2, \"linecolor\": \"white\", \"showbackground\": true, \"ticks\": \"\", \"zerolinecolor\": \"white\"}, \"zaxis\": {\"backgroundcolor\": \"#E5ECF6\", \"gridcolor\": \"white\", \"gridwidth\": 2, \"linecolor\": \"white\", \"showbackground\": true, \"ticks\": \"\", \"zerolinecolor\": \"white\"}}, \"shapedefaults\": {\"line\": {\"color\": \"#2a3f5f\"}}, \"ternary\": {\"aaxis\": {\"gridcolor\": \"white\", \"linecolor\": \"white\", \"ticks\": \"\"}, \"baxis\": {\"gridcolor\": \"white\", \"linecolor\": \"white\", \"ticks\": \"\"}, \"bgcolor\": \"#E5ECF6\", \"caxis\": {\"gridcolor\": \"white\", \"linecolor\": \"white\", \"ticks\": \"\"}}, \"title\": {\"x\": 0.05}, \"xaxis\": {\"automargin\": true, \"gridcolor\": \"white\", \"linecolor\": \"white\", \"ticks\": \"\", \"title\": {\"standoff\": 15}, \"zerolinecolor\": \"white\", \"zerolinewidth\": 2}, \"yaxis\": {\"automargin\": true, \"gridcolor\": \"white\", \"linecolor\": \"white\", \"ticks\": \"\", \"title\": {\"standoff\": 15}, \"zerolinecolor\": \"white\", \"zerolinewidth\": 2}}}, \"title\": {\"text\": \"Population of European continent\"}, \"width\": 500},                        {\"responsive\": true}                    ).then(function(){\n",
       "                            \n",
       "var gd = document.getElementById('f71d052f-3133-45ab-8347-1cff39cc70c2');\n",
       "var x = new MutationObserver(function (mutations, observer) {{\n",
       "        var display = window.getComputedStyle(gd).display;\n",
       "        if (!display || display === 'none') {{\n",
       "            console.log([gd, 'removed!']);\n",
       "            Plotly.purge(gd);\n",
       "            observer.disconnect();\n",
       "        }}\n",
       "}});\n",
       "\n",
       "// Listen for the removal of the full notebook cells\n",
       "var notebookContainer = gd.closest('#notebook-container');\n",
       "if (notebookContainer) {{\n",
       "    x.observe(notebookContainer, {childList: true});\n",
       "}}\n",
       "\n",
       "// Listen for the clearing of the current output cell\n",
       "var outputEl = gd.closest('.output');\n",
       "if (outputEl) {{\n",
       "    x.observe(outputEl, {childList: true});\n",
       "}}\n",
       "\n",
       "                        })                };                });            </script>        </div>"
      ]
     },
     "metadata": {},
     "output_type": "display_data"
    }
   ],
   "source": [
    "fig = px.pie(education, \n",
    "             values='count', \n",
    "             names='education', \n",
    "             color=\"education\", \n",
    "             title='Population of European continent')\n",
    "\n",
    "\n",
    "fig.update_layout(\n",
    "    autosize=False,\n",
    "    width=500,\n",
    "    height=500\n",
    ")\n",
    "\n",
    "fig.show()"
   ]
  },
  {
   "cell_type": "code",
   "execution_count": 12,
   "metadata": {},
   "outputs": [],
   "source": [
    "marital_status = df.groupby([\"marital_status\"]).size().reset_index(name=\"count\")"
   ]
  },
  {
   "cell_type": "code",
   "execution_count": 13,
   "metadata": {},
   "outputs": [
    {
     "data": {
      "application/vnd.plotly.v1+json": {
       "config": {
        "plotlyServerURL": "https://plot.ly"
       },
       "data": [
        {
         "alignmentgroup": "True",
         "hovertemplate": "marital_status=%{x}<br>count=%{y}<extra></extra>",
         "legendgroup": "Absurd",
         "marker": {
          "color": "#636efa",
          "opacity": 0.65
         },
         "name": "Absurd",
         "offsetgroup": "Absurd",
         "orientation": "v",
         "showlegend": true,
         "textposition": "auto",
         "type": "bar",
         "x": [
          "Absurd"
         ],
         "xaxis": "x",
         "y": [
          2
         ],
         "yaxis": "y"
        },
        {
         "alignmentgroup": "True",
         "hovertemplate": "marital_status=%{x}<br>count=%{y}<extra></extra>",
         "legendgroup": "Alone",
         "marker": {
          "color": "#EF553B",
          "opacity": 0.65
         },
         "name": "Alone",
         "offsetgroup": "Alone",
         "orientation": "v",
         "showlegend": true,
         "textposition": "auto",
         "type": "bar",
         "x": [
          "Alone"
         ],
         "xaxis": "x",
         "y": [
          3
         ],
         "yaxis": "y"
        },
        {
         "alignmentgroup": "True",
         "hovertemplate": "marital_status=%{x}<br>count=%{y}<extra></extra>",
         "legendgroup": "Divorced",
         "marker": {
          "color": "#00cc96",
          "opacity": 0.65
         },
         "name": "Divorced",
         "offsetgroup": "Divorced",
         "orientation": "v",
         "showlegend": true,
         "textposition": "auto",
         "type": "bar",
         "x": [
          "Divorced"
         ],
         "xaxis": "x",
         "y": [
          232
         ],
         "yaxis": "y"
        },
        {
         "alignmentgroup": "True",
         "hovertemplate": "marital_status=%{x}<br>count=%{y}<extra></extra>",
         "legendgroup": "Married",
         "marker": {
          "color": "#ab63fa",
          "opacity": 0.65
         },
         "name": "Married",
         "offsetgroup": "Married",
         "orientation": "v",
         "showlegend": true,
         "textposition": "auto",
         "type": "bar",
         "x": [
          "Married"
         ],
         "xaxis": "x",
         "y": [
          864
         ],
         "yaxis": "y"
        },
        {
         "alignmentgroup": "True",
         "hovertemplate": "marital_status=%{x}<br>count=%{y}<extra></extra>",
         "legendgroup": "Single",
         "marker": {
          "color": "#FFA15A",
          "opacity": 0.65
         },
         "name": "Single",
         "offsetgroup": "Single",
         "orientation": "v",
         "showlegend": true,
         "textposition": "auto",
         "type": "bar",
         "x": [
          "Single"
         ],
         "xaxis": "x",
         "y": [
          480
         ],
         "yaxis": "y"
        },
        {
         "alignmentgroup": "True",
         "hovertemplate": "marital_status=%{x}<br>count=%{y}<extra></extra>",
         "legendgroup": "Together",
         "marker": {
          "color": "#19d3f3",
          "opacity": 0.65
         },
         "name": "Together",
         "offsetgroup": "Together",
         "orientation": "v",
         "showlegend": true,
         "textposition": "auto",
         "type": "bar",
         "x": [
          "Together"
         ],
         "xaxis": "x",
         "y": [
          580
         ],
         "yaxis": "y"
        },
        {
         "alignmentgroup": "True",
         "hovertemplate": "marital_status=%{x}<br>count=%{y}<extra></extra>",
         "legendgroup": "Widow",
         "marker": {
          "color": "#FF6692",
          "opacity": 0.65
         },
         "name": "Widow",
         "offsetgroup": "Widow",
         "orientation": "v",
         "showlegend": true,
         "textposition": "auto",
         "type": "bar",
         "x": [
          "Widow"
         ],
         "xaxis": "x",
         "y": [
          77
         ],
         "yaxis": "y"
        },
        {
         "alignmentgroup": "True",
         "hovertemplate": "marital_status=%{x}<br>count=%{y}<extra></extra>",
         "legendgroup": "YOLO",
         "marker": {
          "color": "#B6E880",
          "opacity": 0.65
         },
         "name": "YOLO",
         "offsetgroup": "YOLO",
         "orientation": "v",
         "showlegend": true,
         "textposition": "auto",
         "type": "bar",
         "x": [
          "YOLO"
         ],
         "xaxis": "x",
         "y": [
          2
         ],
         "yaxis": "y"
        }
       ],
       "layout": {
        "autosize": false,
        "barmode": "stack",
        "height": 500,
        "legend": {
         "title": {
          "text": "marital_status"
         },
         "tracegroupgap": 0
        },
        "margin": {
         "t": 60
        },
        "template": {
         "data": {
          "bar": [
           {
            "error_x": {
             "color": "#2a3f5f"
            },
            "error_y": {
             "color": "#2a3f5f"
            },
            "marker": {
             "line": {
              "color": "#E5ECF6",
              "width": 0.5
             }
            },
            "type": "bar"
           }
          ],
          "barpolar": [
           {
            "marker": {
             "line": {
              "color": "#E5ECF6",
              "width": 0.5
             }
            },
            "type": "barpolar"
           }
          ],
          "carpet": [
           {
            "aaxis": {
             "endlinecolor": "#2a3f5f",
             "gridcolor": "white",
             "linecolor": "white",
             "minorgridcolor": "white",
             "startlinecolor": "#2a3f5f"
            },
            "baxis": {
             "endlinecolor": "#2a3f5f",
             "gridcolor": "white",
             "linecolor": "white",
             "minorgridcolor": "white",
             "startlinecolor": "#2a3f5f"
            },
            "type": "carpet"
           }
          ],
          "choropleth": [
           {
            "colorbar": {
             "outlinewidth": 0,
             "ticks": ""
            },
            "type": "choropleth"
           }
          ],
          "contour": [
           {
            "colorbar": {
             "outlinewidth": 0,
             "ticks": ""
            },
            "colorscale": [
             [
              0,
              "#0d0887"
             ],
             [
              0.1111111111111111,
              "#46039f"
             ],
             [
              0.2222222222222222,
              "#7201a8"
             ],
             [
              0.3333333333333333,
              "#9c179e"
             ],
             [
              0.4444444444444444,
              "#bd3786"
             ],
             [
              0.5555555555555556,
              "#d8576b"
             ],
             [
              0.6666666666666666,
              "#ed7953"
             ],
             [
              0.7777777777777778,
              "#fb9f3a"
             ],
             [
              0.8888888888888888,
              "#fdca26"
             ],
             [
              1,
              "#f0f921"
             ]
            ],
            "type": "contour"
           }
          ],
          "contourcarpet": [
           {
            "colorbar": {
             "outlinewidth": 0,
             "ticks": ""
            },
            "type": "contourcarpet"
           }
          ],
          "heatmap": [
           {
            "colorbar": {
             "outlinewidth": 0,
             "ticks": ""
            },
            "colorscale": [
             [
              0,
              "#0d0887"
             ],
             [
              0.1111111111111111,
              "#46039f"
             ],
             [
              0.2222222222222222,
              "#7201a8"
             ],
             [
              0.3333333333333333,
              "#9c179e"
             ],
             [
              0.4444444444444444,
              "#bd3786"
             ],
             [
              0.5555555555555556,
              "#d8576b"
             ],
             [
              0.6666666666666666,
              "#ed7953"
             ],
             [
              0.7777777777777778,
              "#fb9f3a"
             ],
             [
              0.8888888888888888,
              "#fdca26"
             ],
             [
              1,
              "#f0f921"
             ]
            ],
            "type": "heatmap"
           }
          ],
          "heatmapgl": [
           {
            "colorbar": {
             "outlinewidth": 0,
             "ticks": ""
            },
            "colorscale": [
             [
              0,
              "#0d0887"
             ],
             [
              0.1111111111111111,
              "#46039f"
             ],
             [
              0.2222222222222222,
              "#7201a8"
             ],
             [
              0.3333333333333333,
              "#9c179e"
             ],
             [
              0.4444444444444444,
              "#bd3786"
             ],
             [
              0.5555555555555556,
              "#d8576b"
             ],
             [
              0.6666666666666666,
              "#ed7953"
             ],
             [
              0.7777777777777778,
              "#fb9f3a"
             ],
             [
              0.8888888888888888,
              "#fdca26"
             ],
             [
              1,
              "#f0f921"
             ]
            ],
            "type": "heatmapgl"
           }
          ],
          "histogram": [
           {
            "marker": {
             "colorbar": {
              "outlinewidth": 0,
              "ticks": ""
             }
            },
            "type": "histogram"
           }
          ],
          "histogram2d": [
           {
            "colorbar": {
             "outlinewidth": 0,
             "ticks": ""
            },
            "colorscale": [
             [
              0,
              "#0d0887"
             ],
             [
              0.1111111111111111,
              "#46039f"
             ],
             [
              0.2222222222222222,
              "#7201a8"
             ],
             [
              0.3333333333333333,
              "#9c179e"
             ],
             [
              0.4444444444444444,
              "#bd3786"
             ],
             [
              0.5555555555555556,
              "#d8576b"
             ],
             [
              0.6666666666666666,
              "#ed7953"
             ],
             [
              0.7777777777777778,
              "#fb9f3a"
             ],
             [
              0.8888888888888888,
              "#fdca26"
             ],
             [
              1,
              "#f0f921"
             ]
            ],
            "type": "histogram2d"
           }
          ],
          "histogram2dcontour": [
           {
            "colorbar": {
             "outlinewidth": 0,
             "ticks": ""
            },
            "colorscale": [
             [
              0,
              "#0d0887"
             ],
             [
              0.1111111111111111,
              "#46039f"
             ],
             [
              0.2222222222222222,
              "#7201a8"
             ],
             [
              0.3333333333333333,
              "#9c179e"
             ],
             [
              0.4444444444444444,
              "#bd3786"
             ],
             [
              0.5555555555555556,
              "#d8576b"
             ],
             [
              0.6666666666666666,
              "#ed7953"
             ],
             [
              0.7777777777777778,
              "#fb9f3a"
             ],
             [
              0.8888888888888888,
              "#fdca26"
             ],
             [
              1,
              "#f0f921"
             ]
            ],
            "type": "histogram2dcontour"
           }
          ],
          "mesh3d": [
           {
            "colorbar": {
             "outlinewidth": 0,
             "ticks": ""
            },
            "type": "mesh3d"
           }
          ],
          "parcoords": [
           {
            "line": {
             "colorbar": {
              "outlinewidth": 0,
              "ticks": ""
             }
            },
            "type": "parcoords"
           }
          ],
          "pie": [
           {
            "automargin": true,
            "type": "pie"
           }
          ],
          "scatter": [
           {
            "marker": {
             "colorbar": {
              "outlinewidth": 0,
              "ticks": ""
             }
            },
            "type": "scatter"
           }
          ],
          "scatter3d": [
           {
            "line": {
             "colorbar": {
              "outlinewidth": 0,
              "ticks": ""
             }
            },
            "marker": {
             "colorbar": {
              "outlinewidth": 0,
              "ticks": ""
             }
            },
            "type": "scatter3d"
           }
          ],
          "scattercarpet": [
           {
            "marker": {
             "colorbar": {
              "outlinewidth": 0,
              "ticks": ""
             }
            },
            "type": "scattercarpet"
           }
          ],
          "scattergeo": [
           {
            "marker": {
             "colorbar": {
              "outlinewidth": 0,
              "ticks": ""
             }
            },
            "type": "scattergeo"
           }
          ],
          "scattergl": [
           {
            "marker": {
             "colorbar": {
              "outlinewidth": 0,
              "ticks": ""
             }
            },
            "type": "scattergl"
           }
          ],
          "scattermapbox": [
           {
            "marker": {
             "colorbar": {
              "outlinewidth": 0,
              "ticks": ""
             }
            },
            "type": "scattermapbox"
           }
          ],
          "scatterpolar": [
           {
            "marker": {
             "colorbar": {
              "outlinewidth": 0,
              "ticks": ""
             }
            },
            "type": "scatterpolar"
           }
          ],
          "scatterpolargl": [
           {
            "marker": {
             "colorbar": {
              "outlinewidth": 0,
              "ticks": ""
             }
            },
            "type": "scatterpolargl"
           }
          ],
          "scatterternary": [
           {
            "marker": {
             "colorbar": {
              "outlinewidth": 0,
              "ticks": ""
             }
            },
            "type": "scatterternary"
           }
          ],
          "surface": [
           {
            "colorbar": {
             "outlinewidth": 0,
             "ticks": ""
            },
            "colorscale": [
             [
              0,
              "#0d0887"
             ],
             [
              0.1111111111111111,
              "#46039f"
             ],
             [
              0.2222222222222222,
              "#7201a8"
             ],
             [
              0.3333333333333333,
              "#9c179e"
             ],
             [
              0.4444444444444444,
              "#bd3786"
             ],
             [
              0.5555555555555556,
              "#d8576b"
             ],
             [
              0.6666666666666666,
              "#ed7953"
             ],
             [
              0.7777777777777778,
              "#fb9f3a"
             ],
             [
              0.8888888888888888,
              "#fdca26"
             ],
             [
              1,
              "#f0f921"
             ]
            ],
            "type": "surface"
           }
          ],
          "table": [
           {
            "cells": {
             "fill": {
              "color": "#EBF0F8"
             },
             "line": {
              "color": "white"
             }
            },
            "header": {
             "fill": {
              "color": "#C8D4E3"
             },
             "line": {
              "color": "white"
             }
            },
            "type": "table"
           }
          ]
         },
         "layout": {
          "annotationdefaults": {
           "arrowcolor": "#2a3f5f",
           "arrowhead": 0,
           "arrowwidth": 1
          },
          "coloraxis": {
           "colorbar": {
            "outlinewidth": 0,
            "ticks": ""
           }
          },
          "colorscale": {
           "diverging": [
            [
             0,
             "#8e0152"
            ],
            [
             0.1,
             "#c51b7d"
            ],
            [
             0.2,
             "#de77ae"
            ],
            [
             0.3,
             "#f1b6da"
            ],
            [
             0.4,
             "#fde0ef"
            ],
            [
             0.5,
             "#f7f7f7"
            ],
            [
             0.6,
             "#e6f5d0"
            ],
            [
             0.7,
             "#b8e186"
            ],
            [
             0.8,
             "#7fbc41"
            ],
            [
             0.9,
             "#4d9221"
            ],
            [
             1,
             "#276419"
            ]
           ],
           "sequential": [
            [
             0,
             "#0d0887"
            ],
            [
             0.1111111111111111,
             "#46039f"
            ],
            [
             0.2222222222222222,
             "#7201a8"
            ],
            [
             0.3333333333333333,
             "#9c179e"
            ],
            [
             0.4444444444444444,
             "#bd3786"
            ],
            [
             0.5555555555555556,
             "#d8576b"
            ],
            [
             0.6666666666666666,
             "#ed7953"
            ],
            [
             0.7777777777777778,
             "#fb9f3a"
            ],
            [
             0.8888888888888888,
             "#fdca26"
            ],
            [
             1,
             "#f0f921"
            ]
           ],
           "sequentialminus": [
            [
             0,
             "#0d0887"
            ],
            [
             0.1111111111111111,
             "#46039f"
            ],
            [
             0.2222222222222222,
             "#7201a8"
            ],
            [
             0.3333333333333333,
             "#9c179e"
            ],
            [
             0.4444444444444444,
             "#bd3786"
            ],
            [
             0.5555555555555556,
             "#d8576b"
            ],
            [
             0.6666666666666666,
             "#ed7953"
            ],
            [
             0.7777777777777778,
             "#fb9f3a"
            ],
            [
             0.8888888888888888,
             "#fdca26"
            ],
            [
             1,
             "#f0f921"
            ]
           ]
          },
          "colorway": [
           "#636efa",
           "#EF553B",
           "#00cc96",
           "#ab63fa",
           "#FFA15A",
           "#19d3f3",
           "#FF6692",
           "#B6E880",
           "#FF97FF",
           "#FECB52"
          ],
          "font": {
           "color": "#2a3f5f"
          },
          "geo": {
           "bgcolor": "white",
           "lakecolor": "white",
           "landcolor": "#E5ECF6",
           "showlakes": true,
           "showland": true,
           "subunitcolor": "white"
          },
          "hoverlabel": {
           "align": "left"
          },
          "hovermode": "closest",
          "mapbox": {
           "style": "light"
          },
          "paper_bgcolor": "white",
          "plot_bgcolor": "#E5ECF6",
          "polar": {
           "angularaxis": {
            "gridcolor": "white",
            "linecolor": "white",
            "ticks": ""
           },
           "bgcolor": "#E5ECF6",
           "radialaxis": {
            "gridcolor": "white",
            "linecolor": "white",
            "ticks": ""
           }
          },
          "scene": {
           "xaxis": {
            "backgroundcolor": "#E5ECF6",
            "gridcolor": "white",
            "gridwidth": 2,
            "linecolor": "white",
            "showbackground": true,
            "ticks": "",
            "zerolinecolor": "white"
           },
           "yaxis": {
            "backgroundcolor": "#E5ECF6",
            "gridcolor": "white",
            "gridwidth": 2,
            "linecolor": "white",
            "showbackground": true,
            "ticks": "",
            "zerolinecolor": "white"
           },
           "zaxis": {
            "backgroundcolor": "#E5ECF6",
            "gridcolor": "white",
            "gridwidth": 2,
            "linecolor": "white",
            "showbackground": true,
            "ticks": "",
            "zerolinecolor": "white"
           }
          },
          "shapedefaults": {
           "line": {
            "color": "#2a3f5f"
           }
          },
          "ternary": {
           "aaxis": {
            "gridcolor": "white",
            "linecolor": "white",
            "ticks": ""
           },
           "baxis": {
            "gridcolor": "white",
            "linecolor": "white",
            "ticks": ""
           },
           "bgcolor": "#E5ECF6",
           "caxis": {
            "gridcolor": "white",
            "linecolor": "white",
            "ticks": ""
           }
          },
          "title": {
           "x": 0.05
          },
          "xaxis": {
           "automargin": true,
           "gridcolor": "white",
           "linecolor": "white",
           "ticks": "",
           "title": {
            "standoff": 15
           },
           "zerolinecolor": "white",
           "zerolinewidth": 2
          },
          "yaxis": {
           "automargin": true,
           "gridcolor": "white",
           "linecolor": "white",
           "ticks": "",
           "title": {
            "standoff": 15
           },
           "zerolinecolor": "white",
           "zerolinewidth": 2
          }
         }
        },
        "width": 500,
        "xaxis": {
         "anchor": "y",
         "autorange": true,
         "categoryarray": [
          "Absurd",
          "Alone",
          "Divorced",
          "Married",
          "Single",
          "Together",
          "Widow",
          "YOLO"
         ],
         "categoryorder": "array",
         "domain": [
          0,
          1
         ],
         "range": [
          -0.5,
          7.5
         ],
         "title": {
          "text": "marital_status"
         },
         "type": "category"
        },
        "yaxis": {
         "anchor": "x",
         "autorange": true,
         "domain": [
          0,
          1
         ],
         "range": [
          0,
          909.4736842105264
         ],
         "title": {
          "text": "count"
         },
         "type": "linear"
        }
       }
      },
      "image/png": "[encoded data removed]",
      "text/html": [
       "<div>                            <div id=\"9439ce2d-6169-4049-b3ae-8e8fbb7c88f9\" class=\"plotly-graph-div\" style=\"height:500px; width:500px;\"></div>            <script type=\"text/javascript\">                require([\"plotly\"], function(Plotly) {                    window.PLOTLYENV=window.PLOTLYENV || {};                                    if (document.getElementById(\"9439ce2d-6169-4049-b3ae-8e8fbb7c88f9\")) {                    Plotly.newPlot(                        \"9439ce2d-6169-4049-b3ae-8e8fbb7c88f9\",                        [{\"alignmentgroup\": \"True\", \"hovertemplate\": \"marital_status=%{x}<br>count=%{y}<extra></extra>\", \"legendgroup\": \"Absurd\", \"marker\": {\"color\": \"#636efa\", \"opacity\": 0.65}, \"name\": \"Absurd\", \"offsetgroup\": \"Absurd\", \"orientation\": \"v\", \"showlegend\": true, \"textposition\": \"auto\", \"type\": \"bar\", \"x\": [\"Absurd\"], \"xaxis\": \"x\", \"y\": [2], \"yaxis\": \"y\"}, {\"alignmentgroup\": \"True\", \"hovertemplate\": \"marital_status=%{x}<br>count=%{y}<extra></extra>\", \"legendgroup\": \"Alone\", \"marker\": {\"color\": \"#EF553B\", \"opacity\": 0.65}, \"name\": \"Alone\", \"offsetgroup\": \"Alone\", \"orientation\": \"v\", \"showlegend\": true, \"textposition\": \"auto\", \"type\": \"bar\", \"x\": [\"Alone\"], \"xaxis\": \"x\", \"y\": [3], \"yaxis\": \"y\"}, {\"alignmentgroup\": \"True\", \"hovertemplate\": \"marital_status=%{x}<br>count=%{y}<extra></extra>\", \"legendgroup\": \"Divorced\", \"marker\": {\"color\": \"#00cc96\", \"opacity\": 0.65}, \"name\": \"Divorced\", \"offsetgroup\": \"Divorced\", \"orientation\": \"v\", \"showlegend\": true, \"textposition\": \"auto\", \"type\": \"bar\", \"x\": [\"Divorced\"], \"xaxis\": \"x\", \"y\": [232], \"yaxis\": \"y\"}, {\"alignmentgroup\": \"True\", \"hovertemplate\": \"marital_status=%{x}<br>count=%{y}<extra></extra>\", \"legendgroup\": \"Married\", \"marker\": {\"color\": \"#ab63fa\", \"opacity\": 0.65}, \"name\": \"Married\", \"offsetgroup\": \"Married\", \"orientation\": \"v\", \"showlegend\": true, \"textposition\": \"auto\", \"type\": \"bar\", \"x\": [\"Married\"], \"xaxis\": \"x\", \"y\": [864], \"yaxis\": \"y\"}, {\"alignmentgroup\": \"True\", \"hovertemplate\": \"marital_status=%{x}<br>count=%{y}<extra></extra>\", \"legendgroup\": \"Single\", \"marker\": {\"color\": \"#FFA15A\", \"opacity\": 0.65}, \"name\": \"Single\", \"offsetgroup\": \"Single\", \"orientation\": \"v\", \"showlegend\": true, \"textposition\": \"auto\", \"type\": \"bar\", \"x\": [\"Single\"], \"xaxis\": \"x\", \"y\": [480], \"yaxis\": \"y\"}, {\"alignmentgroup\": \"True\", \"hovertemplate\": \"marital_status=%{x}<br>count=%{y}<extra></extra>\", \"legendgroup\": \"Together\", \"marker\": {\"color\": \"#19d3f3\", \"opacity\": 0.65}, \"name\": \"Together\", \"offsetgroup\": \"Together\", \"orientation\": \"v\", \"showlegend\": true, \"textposition\": \"auto\", \"type\": \"bar\", \"x\": [\"Together\"], \"xaxis\": \"x\", \"y\": [580], \"yaxis\": \"y\"}, {\"alignmentgroup\": \"True\", \"hovertemplate\": \"marital_status=%{x}<br>count=%{y}<extra></extra>\", \"legendgroup\": \"Widow\", \"marker\": {\"color\": \"#FF6692\", \"opacity\": 0.65}, \"name\": \"Widow\", \"offsetgroup\": \"Widow\", \"orientation\": \"v\", \"showlegend\": true, \"textposition\": \"auto\", \"type\": \"bar\", \"x\": [\"Widow\"], \"xaxis\": \"x\", \"y\": [77], \"yaxis\": \"y\"}, {\"alignmentgroup\": \"True\", \"hovertemplate\": \"marital_status=%{x}<br>count=%{y}<extra></extra>\", \"legendgroup\": \"YOLO\", \"marker\": {\"color\": \"#B6E880\", \"opacity\": 0.65}, \"name\": \"YOLO\", \"offsetgroup\": \"YOLO\", \"orientation\": \"v\", \"showlegend\": true, \"textposition\": \"auto\", \"type\": \"bar\", \"x\": [\"YOLO\"], \"xaxis\": \"x\", \"y\": [2], \"yaxis\": \"y\"}],                        {\"autosize\": false, \"barmode\": \"stack\", \"height\": 500, \"legend\": {\"title\": {\"text\": \"marital_status\"}, \"tracegroupgap\": 0}, \"margin\": {\"t\": 60}, \"template\": {\"data\": {\"bar\": [{\"error_x\": {\"color\": \"#2a3f5f\"}, \"error_y\": {\"color\": \"#2a3f5f\"}, \"marker\": {\"line\": {\"color\": \"#E5ECF6\", \"width\": 0.5}}, \"type\": \"bar\"}], \"barpolar\": [{\"marker\": {\"line\": {\"color\": \"#E5ECF6\", \"width\": 0.5}}, \"type\": \"barpolar\"}], \"carpet\": [{\"aaxis\": {\"endlinecolor\": \"#2a3f5f\", \"gridcolor\": \"white\", \"linecolor\": \"white\", \"minorgridcolor\": \"white\", \"startlinecolor\": \"#2a3f5f\"}, \"baxis\": {\"endlinecolor\": \"#2a3f5f\", \"gridcolor\": \"white\", \"linecolor\": \"white\", \"minorgridcolor\": \"white\", \"startlinecolor\": \"#2a3f5f\"}, \"type\": \"carpet\"}], \"choropleth\": [{\"colorbar\": {\"outlinewidth\": 0, \"ticks\": \"\"}, \"type\": \"choropleth\"}], \"contour\": [{\"colorbar\": {\"outlinewidth\": 0, \"ticks\": \"\"}, \"colorscale\": [[0.0, \"#0d0887\"], [0.1111111111111111, \"#46039f\"], [0.2222222222222222, \"#7201a8\"], [0.3333333333333333, \"#9c179e\"], [0.4444444444444444, \"#bd3786\"], [0.5555555555555556, \"#d8576b\"], [0.6666666666666666, \"#ed7953\"], [0.7777777777777778, \"#fb9f3a\"], [0.8888888888888888, \"#fdca26\"], [1.0, \"#f0f921\"]], \"type\": \"contour\"}], \"contourcarpet\": [{\"colorbar\": {\"outlinewidth\": 0, \"ticks\": \"\"}, \"type\": \"contourcarpet\"}], \"heatmap\": [{\"colorbar\": {\"outlinewidth\": 0, \"ticks\": \"\"}, \"colorscale\": [[0.0, \"#0d0887\"], [0.1111111111111111, \"#46039f\"], [0.2222222222222222, \"#7201a8\"], [0.3333333333333333, \"#9c179e\"], [0.4444444444444444, \"#bd3786\"], [0.5555555555555556, \"#d8576b\"], [0.6666666666666666, \"#ed7953\"], [0.7777777777777778, \"#fb9f3a\"], [0.8888888888888888, \"#fdca26\"], [1.0, \"#f0f921\"]], \"type\": \"heatmap\"}], \"heatmapgl\": [{\"colorbar\": {\"outlinewidth\": 0, \"ticks\": \"\"}, \"colorscale\": [[0.0, \"#0d0887\"], [0.1111111111111111, \"#46039f\"], [0.2222222222222222, \"#7201a8\"], [0.3333333333333333, \"#9c179e\"], [0.4444444444444444, \"#bd3786\"], [0.5555555555555556, \"#d8576b\"], [0.6666666666666666, \"#ed7953\"], [0.7777777777777778, \"#fb9f3a\"], [0.8888888888888888, \"#fdca26\"], [1.0, \"#f0f921\"]], \"type\": \"heatmapgl\"}], \"histogram\": [{\"marker\": {\"colorbar\": {\"outlinewidth\": 0, \"ticks\": \"\"}}, \"type\": \"histogram\"}], \"histogram2d\": [{\"colorbar\": {\"outlinewidth\": 0, \"ticks\": \"\"}, \"colorscale\": [[0.0, \"#0d0887\"], [0.1111111111111111, \"#46039f\"], [0.2222222222222222, \"#7201a8\"], [0.3333333333333333, \"#9c179e\"], [0.4444444444444444, \"#bd3786\"], [0.5555555555555556, \"#d8576b\"], [0.6666666666666666, \"#ed7953\"], [0.7777777777777778, \"#fb9f3a\"], [0.8888888888888888, \"#fdca26\"], [1.0, \"#f0f921\"]], \"type\": \"histogram2d\"}], \"histogram2dcontour\": [{\"colorbar\": {\"outlinewidth\": 0, \"ticks\": \"\"}, \"colorscale\": [[0.0, \"#0d0887\"], [0.1111111111111111, \"#46039f\"], [0.2222222222222222, \"#7201a8\"], [0.3333333333333333, \"#9c179e\"], [0.4444444444444444, \"#bd3786\"], [0.5555555555555556, \"#d8576b\"], [0.6666666666666666, \"#ed7953\"], [0.7777777777777778, \"#fb9f3a\"], [0.8888888888888888, \"#fdca26\"], [1.0, \"#f0f921\"]], \"type\": \"histogram2dcontour\"}], \"mesh3d\": [{\"colorbar\": {\"outlinewidth\": 0, \"ticks\": \"\"}, \"type\": \"mesh3d\"}], \"parcoords\": [{\"line\": {\"colorbar\": {\"outlinewidth\": 0, \"ticks\": \"\"}}, \"type\": \"parcoords\"}], \"pie\": [{\"automargin\": true, \"type\": \"pie\"}], \"scatter\": [{\"marker\": {\"colorbar\": {\"outlinewidth\": 0, \"ticks\": \"\"}}, \"type\": \"scatter\"}], \"scatter3d\": [{\"line\": {\"colorbar\": {\"outlinewidth\": 0, \"ticks\": \"\"}}, \"marker\": {\"colorbar\": {\"outlinewidth\": 0, \"ticks\": \"\"}}, \"type\": \"scatter3d\"}], \"scattercarpet\": [{\"marker\": {\"colorbar\": {\"outlinewidth\": 0, \"ticks\": \"\"}}, \"type\": \"scattercarpet\"}], \"scattergeo\": [{\"marker\": {\"colorbar\": {\"outlinewidth\": 0, \"ticks\": \"\"}}, \"type\": \"scattergeo\"}], \"scattergl\": [{\"marker\": {\"colorbar\": {\"outlinewidth\": 0, \"ticks\": \"\"}}, \"type\": \"scattergl\"}], \"scattermapbox\": [{\"marker\": {\"colorbar\": {\"outlinewidth\": 0, \"ticks\": \"\"}}, \"type\": \"scattermapbox\"}], \"scatterpolar\": [{\"marker\": {\"colorbar\": {\"outlinewidth\": 0, \"ticks\": \"\"}}, \"type\": \"scatterpolar\"}], \"scatterpolargl\": [{\"marker\": {\"colorbar\": {\"outlinewidth\": 0, \"ticks\": \"\"}}, \"type\": \"scatterpolargl\"}], \"scatterternary\": [{\"marker\": {\"colorbar\": {\"outlinewidth\": 0, \"ticks\": \"\"}}, \"type\": \"scatterternary\"}], \"surface\": [{\"colorbar\": {\"outlinewidth\": 0, \"ticks\": \"\"}, \"colorscale\": [[0.0, \"#0d0887\"], [0.1111111111111111, \"#46039f\"], [0.2222222222222222, \"#7201a8\"], [0.3333333333333333, \"#9c179e\"], [0.4444444444444444, \"#bd3786\"], [0.5555555555555556, \"#d8576b\"], [0.6666666666666666, \"#ed7953\"], [0.7777777777777778, \"#fb9f3a\"], [0.8888888888888888, \"#fdca26\"], [1.0, \"#f0f921\"]], \"type\": \"surface\"}], \"table\": [{\"cells\": {\"fill\": {\"color\": \"#EBF0F8\"}, \"line\": {\"color\": \"white\"}}, \"header\": {\"fill\": {\"color\": \"#C8D4E3\"}, \"line\": {\"color\": \"white\"}}, \"type\": \"table\"}]}, \"layout\": {\"annotationdefaults\": {\"arrowcolor\": \"#2a3f5f\", \"arrowhead\": 0, \"arrowwidth\": 1}, \"coloraxis\": {\"colorbar\": {\"outlinewidth\": 0, \"ticks\": \"\"}}, \"colorscale\": {\"diverging\": [[0, \"#8e0152\"], [0.1, \"#c51b7d\"], [0.2, \"#de77ae\"], [0.3, \"#f1b6da\"], [0.4, \"#fde0ef\"], [0.5, \"#f7f7f7\"], [0.6, \"#e6f5d0\"], [0.7, \"#b8e186\"], [0.8, \"#7fbc41\"], [0.9, \"#4d9221\"], [1, \"#276419\"]], \"sequential\": [[0.0, \"#0d0887\"], [0.1111111111111111, \"#46039f\"], [0.2222222222222222, \"#7201a8\"], [0.3333333333333333, \"#9c179e\"], [0.4444444444444444, \"#bd3786\"], [0.5555555555555556, \"#d8576b\"], [0.6666666666666666, \"#ed7953\"], [0.7777777777777778, \"#fb9f3a\"], [0.8888888888888888, \"#fdca26\"], [1.0, \"#f0f921\"]], \"sequentialminus\": [[0.0, \"#0d0887\"], [0.1111111111111111, \"#46039f\"], [0.2222222222222222, \"#7201a8\"], [0.3333333333333333, \"#9c179e\"], [0.4444444444444444, \"#bd3786\"], [0.5555555555555556, \"#d8576b\"], [0.6666666666666666, \"#ed7953\"], [0.7777777777777778, \"#fb9f3a\"], [0.8888888888888888, \"#fdca26\"], [1.0, \"#f0f921\"]]}, \"colorway\": [\"#636efa\", \"#EF553B\", \"#00cc96\", \"#ab63fa\", \"#FFA15A\", \"#19d3f3\", \"#FF6692\", \"#B6E880\", \"#FF97FF\", \"#FECB52\"], \"font\": {\"color\": \"#2a3f5f\"}, \"geo\": {\"bgcolor\": \"white\", \"lakecolor\": \"white\", \"landcolor\": \"#E5ECF6\", \"showlakes\": true, \"showland\": true, \"subunitcolor\": \"white\"}, \"hoverlabel\": {\"align\": \"left\"}, \"hovermode\": \"closest\", \"mapbox\": {\"style\": \"light\"}, \"paper_bgcolor\": \"white\", \"plot_bgcolor\": \"#E5ECF6\", \"polar\": {\"angularaxis\": {\"gridcolor\": \"white\", \"linecolor\": \"white\", \"ticks\": \"\"}, \"bgcolor\": \"#E5ECF6\", \"radialaxis\": {\"gridcolor\": \"white\", \"linecolor\": \"white\", \"ticks\": \"\"}}, \"scene\": {\"xaxis\": {\"backgroundcolor\": \"#E5ECF6\", \"gridcolor\": \"white\", \"gridwidth\": 2, \"linecolor\": \"white\", \"showbackground\": true, \"ticks\": \"\", \"zerolinecolor\": \"white\"}, \"yaxis\": {\"backgroundcolor\": \"#E5ECF6\", \"gridcolor\": \"white\", \"gridwidth\": 2, \"linecolor\": \"white\", \"showbackground\": true, \"ticks\": \"\", \"zerolinecolor\": \"white\"}, \"zaxis\": {\"backgroundcolor\": \"#E5ECF6\", \"gridcolor\": \"white\", \"gridwidth\": 2, \"linecolor\": \"white\", \"showbackground\": true, \"ticks\": \"\", \"zerolinecolor\": \"white\"}}, \"shapedefaults\": {\"line\": {\"color\": \"#2a3f5f\"}}, \"ternary\": {\"aaxis\": {\"gridcolor\": \"white\", \"linecolor\": \"white\", \"ticks\": \"\"}, \"baxis\": {\"gridcolor\": \"white\", \"linecolor\": \"white\", \"ticks\": \"\"}, \"bgcolor\": \"#E5ECF6\", \"caxis\": {\"gridcolor\": \"white\", \"linecolor\": \"white\", \"ticks\": \"\"}}, \"title\": {\"x\": 0.05}, \"xaxis\": {\"automargin\": true, \"gridcolor\": \"white\", \"linecolor\": \"white\", \"ticks\": \"\", \"title\": {\"standoff\": 15}, \"zerolinecolor\": \"white\", \"zerolinewidth\": 2}, \"yaxis\": {\"automargin\": true, \"gridcolor\": \"white\", \"linecolor\": \"white\", \"ticks\": \"\", \"title\": {\"standoff\": 15}, \"zerolinecolor\": \"white\", \"zerolinewidth\": 2}}}, \"width\": 500, \"xaxis\": {\"anchor\": \"y\", \"categoryarray\": [\"Absurd\", \"Alone\", \"Divorced\", \"Married\", \"Single\", \"Together\", \"Widow\", \"YOLO\"], \"categoryorder\": \"array\", \"domain\": [0.0, 1.0], \"title\": {\"text\": \"marital_status\"}}, \"yaxis\": {\"anchor\": \"x\", \"domain\": [0.0, 1.0], \"title\": {\"text\": \"count\"}}},                        {\"responsive\": true}                    ).then(function(){\n",
       "                            \n",
       "var gd = document.getElementById('9439ce2d-6169-4049-b3ae-8e8fbb7c88f9');\n",
       "var x = new MutationObserver(function (mutations, observer) {{\n",
       "        var display = window.getComputedStyle(gd).display;\n",
       "        if (!display || display === 'none') {{\n",
       "            console.log([gd, 'removed!']);\n",
       "            Plotly.purge(gd);\n",
       "            observer.disconnect();\n",
       "        }}\n",
       "}});\n",
       "\n",
       "// Listen for the removal of the full notebook cells\n",
       "var notebookContainer = gd.closest('#notebook-container');\n",
       "if (notebookContainer) {{\n",
       "    x.observe(notebookContainer, {childList: true});\n",
       "}}\n",
       "\n",
       "// Listen for the clearing of the current output cell\n",
       "var outputEl = gd.closest('.output');\n",
       "if (outputEl) {{\n",
       "    x.observe(outputEl, {childList: true});\n",
       "}}\n",
       "\n",
       "                        })                };                });            </script>        </div>"
      ]
     },
     "metadata": {},
     "output_type": "display_data"
    }
   ],
   "source": [
    "fig = px.bar(marital_status, \n",
    "             x = \"marital_status\", \n",
    "             y = \"count\",\n",
    "             color=\"marital_status\",\n",
    "             barmode='stack',\n",
    "             opacity=0.65)\n",
    "\n",
    "fig.update_layout(\n",
    "    autosize=False,\n",
    "    width=500,\n",
    "    height=500\n",
    ")\n",
    "\n",
    "fig.show()"
   ]
  },
  {
   "cell_type": "code",
   "execution_count": 46,
   "metadata": {},
   "outputs": [
    {
     "data": {
      "application/vnd.plotly.v1+json": {
       "config": {
        "plotlyServerURL": "https://plot.ly"
       },
       "data": [
        {
         "hovertemplate": "marital_status=%{x}<br>mntwines=%{y}<extra></extra>",
         "legendgroup": "Single",
         "marker": {
          "color": "#636efa",
          "symbol": "circle"
         },
         "mode": "markers",
         "name": "Single",
         "showlegend": true,
         "type": "scattergl",
         "x": [
          "Single",
          "Single",
          "Single",
          "Single",
          "Single",
          "Single",
          "Single",
          "Single",
          "Single",
          "Single",
          "Single",
          "Single",
          "Single",
          "Single",
          "Single",
          "Single",
          "Single",
          "Single",
          "Single",
          "Single",
          "Single",
          "Single",
          "Single",
          "Single",
          "Single",
          "Single",
          "Single",
          "Single",
          "Single",
          "Single",
          "Single",
          "Single",
          "Single",
          "Single",
          "Single",
          "Single",
          "Single",
          "Single",
          "Single",
          "Single",
          "Single",
          "Single",
          "Single",
          "Single",
          "Single",
          "Single",
          "Single",
          "Single",
          "Single",
          "Single",
          "Single",
          "Single",
          "Single",
          "Single",
          "Single",
          "Single",
          "Single",
          "Single",
          "Single",
          "Single",
          "Single",
          "Single",
          "Single",
          "Single",
          "Single",
          "Single",
          "Single",
          "Single",
          "Single",
          "Single",
          "Single",
          "Single",
          "Single",
          "Single",
          "Single",
          "Single",
          "Single",
          "Single",
          "Single",
          "Single",
          "Single",
          "Single",
          "Single",
          "Single",
          "Single",
          "Single",
          "Single",
          "Single",
          "Single",
          "Single",
          "Single",
          "Single",
          "Single",
          "Single",
          "Single",
          "Single",
          "Single",
          "Single",
          "Single",
          "Single",
          "Single",
          "Single",
          "Single",
          "Single",
          "Single",
          "Single",
          "Single",
          "Single",
          "Single",
          "Single",
          "Single",
          "Single",
          "Single",
          "Single",
          "Single",
          "Single",
          "Single",
          "Single",
          "Single",
          "Single",
          "Single",
          "Single",
          "Single",
          "Single",
          "Single",
          "Single",
          "Single",
          "Single",
          "Single",
          "Single",
          "Single",
          "Single",
          "Single",
          "Single",
          "Single",
          "Single",
          "Single",
          "Single",
          "Single",
          "Single",
          "Single",
          "Single",
          "Single",
          "Single",
          "Single",
          "Single",
          "Single",
          "Single",
          "Single",
          "Single",
          "Single",
          "Single",
          "Single",
          "Single",
          "Single",
          "Single",
          "Single",
          "Single",
          "Single",
          "Single",
          "Single",
          "Single",
          "Single",
          "Single",
          "Single",
          "Single",
          "Single",
          "Single",
          "Single",
          "Single",
          "Single",
          "Single",
          "Single",
          "Single",
          "Single",
          "Single",
          "Single",
          "Single",
          "Single",
          "Single",
          "Single",
          "Single",
          "Single",
          "Single",
          "Single",
          "Single",
          "Single",
          "Single",
          "Single",
          "Single",
          "Single",
          "Single",
          "Single",
          "Single",
          "Single",
          "Single",
          "Single",
          "Single",
          "Single",
          "Single",
          "Single",
          "Single",
          "Single",
          "Single",
          "Single",
          "Single",
          "Single",
          "Single",
          "Single",
          "Single",
          "Single",
          "Single",
          "Single",
          "Single",
          "Single",
          "Single",
          "Single",
          "Single",
          "Single",
          "Single",
          "Single",
          "Single",
          "Single",
          "Single",
          "Single",
          "Single",
          "Single",
          "Single",
          "Single",
          "Single",
          "Single",
          "Single",
          "Single",
          "Single",
          "Single",
          "Single",
          "Single",
          "Single",
          "Single",
          "Single",
          "Single",
          "Single",
          "Single",
          "Single",
          "Single",
          "Single",
          "Single",
          "Single",
          "Single",
          "Single",
          "Single",
          "Single",
          "Single",
          "Single",
          "Single",
          "Single",
          "Single",
          "Single",
          "Single",
          "Single",
          "Single",
          "Single",
          "Single",
          "Single",
          "Single",
          "Single",
          "Single",
          "Single",
          "Single",
          "Single",
          "Single",
          "Single",
          "Single",
          "Single",
          "Single",
          "Single",
          "Single",
          "Single",
          "Single",
          "Single",
          "Single",
          "Single",
          "Single",
          "Single",
          "Single",
          "Single",
          "Single",
          "Single",
          "Single",
          "Single",
          "Single",
          "Single",
          "Single",
          "Single",
          "Single",
          "Single",
          "Single",
          "Single",
          "Single",
          "Single",
          "Single",
          "Single",
          "Single",
          "Single",
          "Single",
          "Single",
          "Single",
          "Single",
          "Single",
          "Single",
          "Single",
          "Single",
          "Single",
          "Single",
          "Single",
          "Single",
          "Single",
          "Single",
          "Single",
          "Single",
          "Single",
          "Single",
          "Single",
          "Single",
          "Single",
          "Single",
          "Single",
          "Single",
          "Single",
          "Single",
          "Single",
          "Single",
          "Single",
          "Single",
          "Single",
          "Single",
          "Single",
          "Single",
          "Single",
          "Single",
          "Single",
          "Single",
          "Single",
          "Single",
          "Single",
          "Single",
          "Single",
          "Single",
          "Single",
          "Single",
          "Single",
          "Single",
          "Single",
          "Single",
          "Single",
          "Single",
          "Single",
          "Single",
          "Single",
          "Single",
          "Single",
          "Single",
          "Single",
          "Single",
          "Single",
          "Single",
          "Single",
          "Single",
          "Single",
          "Single",
          "Single",
          "Single",
          "Single",
          "Single",
          "Single",
          "Single",
          "Single",
          "Single",
          "Single",
          "Single",
          "Single",
          "Single",
          "Single",
          "Single",
          "Single",
          "Single",
          "Single",
          "Single",
          "Single",
          "Single",
          "Single",
          "Single",
          "Single",
          "Single",
          "Single",
          "Single",
          "Single",
          "Single",
          "Single",
          "Single",
          "Single",
          "Single",
          "Single",
          "Single",
          "Single",
          "Single",
          "Single",
          "Single",
          "Single",
          "Single",
          "Single",
          "Single",
          "Single",
          "Single",
          "Single",
          "Single",
          "Single",
          "Single",
          "Single",
          "Single",
          "Single",
          "Single",
          "Single",
          "Single",
          "Single",
          "Single",
          "Single",
          "Single",
          "Single",
          "Single",
          "Single",
          "Single",
          "Single",
          "Single",
          "Single",
          "Single",
          "Single",
          "Single",
          "Single",
          "Single",
          "Single",
          "Single",
          "Single",
          "Single",
          "Single",
          "Single",
          "Single",
          "Single",
          "Single",
          "Single",
          "Single",
          "Single",
          "Single",
          "Single",
          "Single",
          "Single",
          "Single",
          "Single",
          "Single",
          "Single",
          "Single",
          "Single",
          "Single",
          "Single",
          "Single",
          "Single",
          "Single",
          "Single",
          "Single",
          "Single",
          "Single",
          "Single",
          "Single",
          "Single",
          "Single",
          "Single",
          "Single",
          "Single",
          "Single",
          "Single"
         ],
         "xaxis": "x",
         "y": [
          635,
          11,
          1006,
          4,
          6,
          5,
          40,
          81,
          123,
          48,
          12,
          13,
          11,
          712,
          523,
          688,
          1032,
          64,
          292,
          7,
          15,
          53,
          41,
          76,
          1332,
          490,
          64,
          34,
          722,
          450,
          962,
          614,
          212,
          8,
          536,
          5,
          277,
          59,
          35,
          96,
          265,
          22,
          6,
          12,
          231,
          0,
          415,
          5,
          8,
          14,
          16,
          3,
          24,
          138,
          12,
          11,
          778,
          16,
          216,
          196,
          395,
          80,
          675,
          768,
          91,
          738,
          424,
          68,
          9,
          40,
          456,
          452,
          1048,
          22,
          404,
          789,
          7,
          977,
          38,
          57,
          3,
          10,
          3,
          12,
          4,
          375,
          2,
          67,
          416,
          19,
          4,
          85,
          822,
          1248,
          25,
          10,
          398,
          430,
          14,
          606,
          789,
          4,
          20,
          138,
          691,
          493,
          325,
          1288,
          11,
          982,
          1000,
          619,
          11,
          19,
          252,
          15,
          6,
          458,
          308,
          249,
          747,
          14,
          51,
          19,
          292,
          36,
          400,
          88,
          101,
          389,
          27,
          17,
          10,
          215,
          41,
          10,
          514,
          387,
          305,
          1000,
          100,
          1,
          327,
          789,
          187,
          365,
          899,
          466,
          4,
          20,
          273,
          1184,
          664,
          6,
          8,
          948,
          28,
          283,
          4,
          245,
          39,
          203,
          392,
          70,
          26,
          522,
          412,
          2,
          4,
          31,
          219,
          606,
          604,
          12,
          184,
          68,
          840,
          464,
          351,
          191,
          31,
          479,
          5,
          605,
          547,
          104,
          224,
          265,
          88,
          275,
          6,
          515,
          48,
          387,
          6,
          899,
          189,
          852,
          0,
          825,
          494,
          464,
          604,
          770,
          156,
          960,
          315,
          15,
          871,
          375,
          31,
          819,
          203,
          371,
          480,
          7,
          20,
          263,
          492,
          311,
          218,
          4,
          1285,
          157,
          10,
          154,
          18,
          19,
          4,
          576,
          39,
          68,
          73,
          80,
          347,
          631,
          124,
          530,
          234,
          251,
          918,
          4,
          336,
          68,
          38,
          162,
          160,
          760,
          709,
          12,
          1000,
          19,
          381,
          23,
          957,
          1,
          6,
          1067,
          56,
          10,
          35,
          364,
          1156,
          6,
          4,
          5,
          899,
          87,
          48,
          279,
          62,
          1,
          618,
          95,
          1,
          411,
          10,
          46,
          630,
          420,
          125,
          14,
          4,
          52,
          6,
          556,
          37,
          173,
          67,
          774,
          139,
          2,
          6,
          420,
          231,
          182,
          557,
          79,
          543,
          254,
          143,
          27,
          283,
          347,
          5,
          8,
          204,
          52,
          191,
          279,
          977,
          7,
          33,
          9,
          703,
          37,
          1302,
          29,
          556,
          112,
          265,
          553,
          1181,
          57,
          60,
          3,
          910,
          34,
          2,
          784,
          57,
          104,
          9,
          448,
          14,
          51,
          268,
          928,
          1006,
          1156,
          255,
          85,
          322,
          141,
          342,
          456,
          836,
          100,
          158,
          313,
          479,
          980,
          30,
          1003,
          239,
          19,
          40,
          21,
          202,
          1,
          493,
          493,
          494,
          1,
          6,
          2,
          520,
          704,
          172,
          5,
          9,
          204,
          245,
          56,
          3,
          3,
          80,
          16,
          347,
          64,
          0,
          93,
          153,
          52,
          34,
          163,
          29,
          231,
          81,
          12,
          965,
          777,
          503,
          79,
          37,
          2,
          536,
          712,
          68,
          162,
          3,
          31,
          502,
          1,
          581,
          6,
          185,
          273,
          1020,
          6,
          15,
          957,
          159,
          23,
          18,
          23,
          1324,
          1193,
          505,
          652,
          154,
          22,
          18,
          144,
          483,
          338,
          172,
          448,
          50,
          23,
          58,
          3,
          280,
          1276,
          1017,
          90,
          7,
          10,
          68,
          94,
          995,
          240,
          202,
          433,
          45,
          676,
          367,
          51,
          28,
          23,
          124,
          264,
          16,
          178,
          830,
          816,
          960,
          2,
          654,
          912,
          89,
          1,
          62,
          162,
          23,
          492,
          2,
          671,
          12,
          56,
          5,
          266,
          158,
          594,
          712,
          580,
          229,
          24,
          853,
          5
         ],
         "yaxis": "y"
        },
        {
         "hovertemplate": "marital_status=%{x}<br>mntwines=%{y}<extra></extra>",
         "legendgroup": "Together",
         "marker": {
          "color": "#EF553B",
          "symbol": "circle"
         },
         "mode": "markers",
         "name": "Together",
         "showlegend": true,
         "type": "scattergl",
         "x": [
          "Together",
          "Together",
          "Together",
          "Together",
          "Together",
          "Together",
          "Together",
          "Together",
          "Together",
          "Together",
          "Together",
          "Together",
          "Together",
          "Together",
          "Together",
          "Together",
          "Together",
          "Together",
          "Together",
          "Together",
          "Together",
          "Together",
          "Together",
          "Together",
          "Together",
          "Together",
          "Together",
          "Together",
          "Together",
          "Together",
          "Together",
          "Together",
          "Together",
          "Together",
          "Together",
          "Together",
          "Together",
          "Together",
          "Together",
          "Together",
          "Together",
          "Together",
          "Together",
          "Together",
          "Together",
          "Together",
          "Together",
          "Together",
          "Together",
          "Together",
          "Together",
          "Together",
          "Together",
          "Together",
          "Together",
          "Together",
          "Together",
          "Together",
          "Together",
          "Together",
          "Together",
          "Together",
          "Together",
          "Together",
          "Together",
          "Together",
          "Together",
          "Together",
          "Together",
          "Together",
          "Together",
          "Together",
          "Together",
          "Together",
          "Together",
          "Together",
          "Together",
          "Together",
          "Together",
          "Together",
          "Together",
          "Together",
          "Together",
          "Together",
          "Together",
          "Together",
          "Together",
          "Together",
          "Together",
          "Together",
          "Together",
          "Together",
          "Together",
          "Together",
          "Together",
          "Together",
          "Together",
          "Together",
          "Together",
          "Together",
          "Together",
          "Together",
          "Together",
          "Together",
          "Together",
          "Together",
          "Together",
          "Together",
          "Together",
          "Together",
          "Together",
          "Together",
          "Together",
          "Together",
          "Together",
          "Together",
          "Together",
          "Together",
          "Together",
          "Together",
          "Together",
          "Together",
          "Together",
          "Together",
          "Together",
          "Together",
          "Together",
          "Together",
          "Together",
          "Together",
          "Together",
          "Together",
          "Together",
          "Together",
          "Together",
          "Together",
          "Together",
          "Together",
          "Together",
          "Together",
          "Together",
          "Together",
          "Together",
          "Together",
          "Together",
          "Together",
          "Together",
          "Together",
          "Together",
          "Together",
          "Together",
          "Together",
          "Together",
          "Together",
          "Together",
          "Together",
          "Together",
          "Together",
          "Together",
          "Together",
          "Together",
          "Together",
          "Together",
          "Together",
          "Together",
          "Together",
          "Together",
          "Together",
          "Together",
          "Together",
          "Together",
          "Together",
          "Together",
          "Together",
          "Together",
          "Together",
          "Together",
          "Together",
          "Together",
          "Together",
          "Together",
          "Together",
          "Together",
          "Together",
          "Together",
          "Together",
          "Together",
          "Together",
          "Together",
          "Together",
          "Together",
          "Together",
          "Together",
          "Together",
          "Together",
          "Together",
          "Together",
          "Together",
          "Together",
          "Together",
          "Together",
          "Together",
          "Together",
          "Together",
          "Together",
          "Together",
          "Together",
          "Together",
          "Together",
          "Together",
          "Together",
          "Together",
          "Together",
          "Together",
          "Together",
          "Together",
          "Together",
          "Together",
          "Together",
          "Together",
          "Together",
          "Together",
          "Together",
          "Together",
          "Together",
          "Together",
          "Together",
          "Together",
          "Together",
          "Together",
          "Together",
          "Together",
          "Together",
          "Together",
          "Together",
          "Together",
          "Together",
          "Together",
          "Together",
          "Together",
          "Together",
          "Together",
          "Together",
          "Together",
          "Together",
          "Together",
          "Together",
          "Together",
          "Together",
          "Together",
          "Together",
          "Together",
          "Together",
          "Together",
          "Together",
          "Together",
          "Together",
          "Together",
          "Together",
          "Together",
          "Together",
          "Together",
          "Together",
          "Together",
          "Together",
          "Together",
          "Together",
          "Together",
          "Together",
          "Together",
          "Together",
          "Together",
          "Together",
          "Together",
          "Together",
          "Together",
          "Together",
          "Together",
          "Together",
          "Together",
          "Together",
          "Together",
          "Together",
          "Together",
          "Together",
          "Together",
          "Together",
          "Together",
          "Together",
          "Together",
          "Together",
          "Together",
          "Together",
          "Together",
          "Together",
          "Together",
          "Together",
          "Together",
          "Together",
          "Together",
          "Together",
          "Together",
          "Together",
          "Together",
          "Together",
          "Together",
          "Together",
          "Together",
          "Together",
          "Together",
          "Together",
          "Together",
          "Together",
          "Together",
          "Together",
          "Together",
          "Together",
          "Together",
          "Together",
          "Together",
          "Together",
          "Together",
          "Together",
          "Together",
          "Together",
          "Together",
          "Together",
          "Together",
          "Together",
          "Together",
          "Together",
          "Together",
          "Together",
          "Together",
          "Together",
          "Together",
          "Together",
          "Together",
          "Together",
          "Together",
          "Together",
          "Together",
          "Together",
          "Together",
          "Together",
          "Together",
          "Together",
          "Together",
          "Together",
          "Together",
          "Together",
          "Together",
          "Together",
          "Together",
          "Together",
          "Together",
          "Together",
          "Together",
          "Together",
          "Together",
          "Together",
          "Together",
          "Together",
          "Together",
          "Together",
          "Together",
          "Together",
          "Together",
          "Together",
          "Together",
          "Together",
          "Together",
          "Together",
          "Together",
          "Together",
          "Together",
          "Together",
          "Together",
          "Together",
          "Together",
          "Together",
          "Together",
          "Together",
          "Together",
          "Together",
          "Together",
          "Together",
          "Together",
          "Together",
          "Together",
          "Together",
          "Together",
          "Together",
          "Together",
          "Together",
          "Together",
          "Together",
          "Together",
          "Together",
          "Together",
          "Together",
          "Together",
          "Together",
          "Together",
          "Together",
          "Together",
          "Together",
          "Together",
          "Together",
          "Together",
          "Together",
          "Together",
          "Together",
          "Together",
          "Together",
          "Together",
          "Together",
          "Together",
          "Together",
          "Together",
          "Together",
          "Together",
          "Together",
          "Together",
          "Together",
          "Together",
          "Together",
          "Together",
          "Together",
          "Together",
          "Together",
          "Together",
          "Together",
          "Together",
          "Together",
          "Together",
          "Together",
          "Together",
          "Together",
          "Together",
          "Together",
          "Together",
          "Together",
          "Together",
          "Together",
          "Together",
          "Together",
          "Together",
          "Together",
          "Together",
          "Together",
          "Together",
          "Together",
          "Together",
          "Together",
          "Together",
          "Together",
          "Together",
          "Together",
          "Together",
          "Together",
          "Together",
          "Together",
          "Together",
          "Together",
          "Together",
          "Together",
          "Together",
          "Together",
          "Together",
          "Together",
          "Together",
          "Together",
          "Together",
          "Together",
          "Together",
          "Together",
          "Together",
          "Together",
          "Together",
          "Together",
          "Together",
          "Together",
          "Together",
          "Together",
          "Together",
          "Together",
          "Together",
          "Together",
          "Together",
          "Together",
          "Together",
          "Together",
          "Together",
          "Together",
          "Together",
          "Together",
          "Together",
          "Together",
          "Together",
          "Together",
          "Together",
          "Together",
          "Together",
          "Together",
          "Together",
          "Together",
          "Together",
          "Together",
          "Together",
          "Together",
          "Together",
          "Together",
          "Together",
          "Together",
          "Together",
          "Together",
          "Together",
          "Together",
          "Together",
          "Together",
          "Together",
          "Together",
          "Together",
          "Together",
          "Together",
          "Together",
          "Together",
          "Together",
          "Together",
          "Together",
          "Together",
          "Together",
          "Together",
          "Together",
          "Together",
          "Together",
          "Together",
          "Together",
          "Together",
          "Together",
          "Together",
          "Together",
          "Together",
          "Together",
          "Together",
          "Together",
          "Together",
          "Together",
          "Together",
          "Together",
          "Together",
          "Together",
          "Together",
          "Together",
          "Together",
          "Together",
          "Together",
          "Together",
          "Together",
          "Together",
          "Together",
          "Together",
          "Together",
          "Together",
          "Together",
          "Together",
          "Together",
          "Together",
          "Together",
          "Together",
          "Together",
          "Together",
          "Together",
          "Together",
          "Together",
          "Together",
          "Together",
          "Together",
          "Together"
         ],
         "xaxis": "x",
         "y": [
          426,
          11,
          520,
          14,
          28,
          84,
          270,
          112,
          110,
          9,
          13,
          984,
          452,
          398,
          10,
          247,
          856,
          1,
          577,
          112,
          135,
          445,
          386,
          1,
          425,
          527,
          12,
          1,
          320,
          162,
          492,
          796,
          738,
          32,
          6,
          233,
          888,
          997,
          42,
          18,
          15,
          7,
          81,
          2,
          1,
          466,
          763,
          7,
          72,
          613,
          410,
          824,
          30,
          520,
          131,
          297,
          4,
          3,
          18,
          382,
          960,
          45,
          650,
          918,
          177,
          10,
          167,
          625,
          68,
          297,
          84,
          204,
          304,
          285,
          20,
          39,
          8,
          9,
          1241,
          65,
          513,
          14,
          154,
          24,
          11,
          856,
          755,
          378,
          1,
          269,
          833,
          1043,
          314,
          571,
          70,
          594,
          140,
          919,
          5,
          6,
          610,
          65,
          14,
          583,
          2,
          966,
          2,
          2,
          515,
          31,
          398,
          1239,
          639,
          746,
          407,
          738,
          1170,
          983,
          1396,
          529,
          13,
          28,
          31,
          127,
          1168,
          284,
          227,
          881,
          456,
          172,
          78,
          99,
          1,
          198,
          90,
          1492,
          465,
          189,
          6,
          12,
          200,
          56,
          145,
          270,
          9,
          46,
          31,
          399,
          8,
          12,
          6,
          31,
          526,
          80,
          85,
          1001,
          603,
          571,
          586,
          1200,
          1009,
          315,
          16,
          30,
          111,
          45,
          410,
          509,
          4,
          14,
          34,
          116,
          565,
          760,
          260,
          67,
          2,
          434,
          712,
          299,
          99,
          9,
          412,
          349,
          138,
          509,
          39,
          13,
          901,
          518,
          350,
          709,
          359,
          799,
          595,
          107,
          13,
          680,
          6,
          6,
          18,
          521,
          627,
          410,
          376,
          1492,
          3,
          421,
          2,
          18,
          724,
          24,
          27,
          13,
          167,
          46,
          243,
          121,
          4,
          1308,
          4,
          562,
          769,
          12,
          889,
          230,
          316,
          243,
          181,
          151,
          29,
          571,
          741,
          38,
          812,
          73,
          471,
          26,
          354,
          517,
          1111,
          6,
          11,
          42,
          30,
          14,
          197,
          186,
          59,
          829,
          1206,
          729,
          393,
          795,
          15,
          4,
          901,
          1230,
          81,
          63,
          127,
          38,
          986,
          61,
          806,
          380,
          458,
          26,
          292,
          14,
          75,
          8,
          336,
          743,
          26,
          736,
          473,
          288,
          1050,
          9,
          5,
          152,
          8,
          227,
          6,
          211,
          1224,
          2,
          41,
          717,
          166,
          320,
          29,
          46,
          454,
          897,
          777,
          258,
          454,
          241,
          28,
          5,
          373,
          108,
          291,
          35,
          87,
          309,
          172,
          625,
          972,
          132,
          919,
          23,
          18,
          18,
          97,
          997,
          244,
          152,
          12,
          5,
          736,
          1142,
          25,
          817,
          113,
          62,
          20,
          545,
          39,
          1111,
          606,
          266,
          771,
          202,
          209,
          171,
          20,
          170,
          491,
          345,
          358,
          274,
          641,
          794,
          1,
          368,
          488,
          51,
          280,
          187,
          84,
          19,
          25,
          9,
          19,
          709,
          10,
          25,
          172,
          2,
          68,
          7,
          30,
          5,
          26,
          14,
          966,
          587,
          399,
          56,
          167,
          458,
          15,
          290,
          38,
          2,
          901,
          846,
          69,
          526,
          2,
          378,
          751,
          406,
          123,
          1259,
          344,
          896,
          931,
          216,
          350,
          620,
          2,
          252,
          53,
          7,
          215,
          33,
          505,
          65,
          292,
          167,
          459,
          233,
          35,
          1252,
          8,
          368,
          33,
          45,
          108,
          2,
          202,
          18,
          23,
          6,
          98,
          398,
          109,
          16,
          11,
          410,
          159,
          5,
          269,
          9,
          8,
          230,
          1,
          340,
          1,
          213,
          284,
          51,
          446,
          8,
          690,
          43,
          691,
          11,
          582,
          6,
          962,
          112,
          44,
          75,
          87,
          194,
          505,
          48,
          482,
          136,
          275,
          303,
          1,
          918,
          178,
          358,
          376,
          194,
          71,
          653,
          199,
          46,
          600,
          425,
          18,
          734,
          135,
          734,
          340,
          453,
          1073,
          135,
          620,
          27,
          438,
          17,
          402,
          5,
          362,
          367,
          298,
          16,
          159,
          97,
          56,
          86,
          389,
          239,
          2,
          539,
          36,
          174,
          28,
          284,
          938,
          664,
          355,
          957,
          1,
          378,
          45,
          493,
          829,
          15,
          8,
          19,
          69,
          1285,
          8,
          499,
          381,
          631,
          913,
          199,
          9,
          6,
          226,
          561,
          908,
          12,
          8,
          22,
          9,
          520,
          5,
          384,
          208,
          848,
          25,
          375,
          39,
          587,
          29,
          16,
          376,
          161,
          0,
          121,
          520,
          240,
          529,
          728,
          7,
          35,
          742,
          750,
          37,
          4,
          54,
          997,
          890,
          4,
          25,
          24,
          141,
          9,
          11,
          224,
          200,
          224,
          116,
          240,
          293,
          41,
          3,
          519,
          4,
          18,
          5,
          171,
          2,
          368,
          32,
          9,
          406,
          428
         ],
         "yaxis": "y"
        },
        {
         "hovertemplate": "marital_status=%{x}<br>mntwines=%{y}<extra></extra>",
         "legendgroup": "Married",
         "marker": {
          "color": "#00cc96",
          "symbol": "circle"
         },
         "mode": "markers",
         "name": "Married",
         "showlegend": true,
         "type": "scattergl",
         "x": [
          "Married",
          "Married",
          "Married",
          "Married",
          "Married",
          "Married",
          "Married",
          "Married",
          "Married",
          "Married",
          "Married",
          "Married",
          "Married",
          "Married",
          "Married",
          "Married",
          "Married",
          "Married",
          "Married",
          "Married",
          "Married",
          "Married",
          "Married",
          "Married",
          "Married",
          "Married",
          "Married",
          "Married",
          "Married",
          "Married",
          "Married",
          "Married",
          "Married",
          "Married",
          "Married",
          "Married",
          "Married",
          "Married",
          "Married",
          "Married",
          "Married",
          "Married",
          "Married",
          "Married",
          "Married",
          "Married",
          "Married",
          "Married",
          "Married",
          "Married",
          "Married",
          "Married",
          "Married",
          "Married",
          "Married",
          "Married",
          "Married",
          "Married",
          "Married",
          "Married",
          "Married",
          "Married",
          "Married",
          "Married",
          "Married",
          "Married",
          "Married",
          "Married",
          "Married",
          "Married",
          "Married",
          "Married",
          "Married",
          "Married",
          "Married",
          "Married",
          "Married",
          "Married",
          "Married",
          "Married",
          "Married",
          "Married",
          "Married",
          "Married",
          "Married",
          "Married",
          "Married",
          "Married",
          "Married",
          "Married",
          "Married",
          "Married",
          "Married",
          "Married",
          "Married",
          "Married",
          "Married",
          "Married",
          "Married",
          "Married",
          "Married",
          "Married",
          "Married",
          "Married",
          "Married",
          "Married",
          "Married",
          "Married",
          "Married",
          "Married",
          "Married",
          "Married",
          "Married",
          "Married",
          "Married",
          "Married",
          "Married",
          "Married",
          "Married",
          "Married",
          "Married",
          "Married",
          "Married",
          "Married",
          "Married",
          "Married",
          "Married",
          "Married",
          "Married",
          "Married",
          "Married",
          "Married",
          "Married",
          "Married",
          "Married",
          "Married",
          "Married",
          "Married",
          "Married",
          "Married",
          "Married",
          "Married",
          "Married",
          "Married",
          "Married",
          "Married",
          "Married",
          "Married",
          "Married",
          "Married",
          "Married",
          "Married",
          "Married",
          "Married",
          "Married",
          "Married",
          "Married",
          "Married",
          "Married",
          "Married",
          "Married",
          "Married",
          "Married",
          "Married",
          "Married",
          "Married",
          "Married",
          "Married",
          "Married",
          "Married",
          "Married",
          "Married",
          "Married",
          "Married",
          "Married",
          "Married",
          "Married",
          "Married",
          "Married",
          "Married",
          "Married",
          "Married",
          "Married",
          "Married",
          "Married",
          "Married",
          "Married",
          "Married",
          "Married",
          "Married",
          "Married",
          "Married",
          "Married",
          "Married",
          "Married",
          "Married",
          "Married",
          "Married",
          "Married",
          "Married",
          "Married",
          "Married",
          "Married",
          "Married",
          "Married",
          "Married",
          "Married",
          "Married",
          "Married",
          "Married",
          "Married",
          "Married",
          "Married",
          "Married",
          "Married",
          "Married",
          "Married",
          "Married",
          "Married",
          "Married",
          "Married",
          "Married",
          "Married",
          "Married",
          "Married",
          "Married",
          "Married",
          "Married",
          "Married",
          "Married",
          "Married",
          "Married",
          "Married",
          "Married",
          "Married",
          "Married",
          "Married",
          "Married",
          "Married",
          "Married",
          "Married",
          "Married",
          "Married",
          "Married",
          "Married",
          "Married",
          "Married",
          "Married",
          "Married",
          "Married",
          "Married",
          "Married",
          "Married",
          "Married",
          "Married",
          "Married",
          "Married",
          "Married",
          "Married",
          "Married",
          "Married",
          "Married",
          "Married",
          "Married",
          "Married",
          "Married",
          "Married",
          "Married",
          "Married",
          "Married",
          "Married",
          "Married",
          "Married",
          "Married",
          "Married",
          "Married",
          "Married",
          "Married",
          "Married",
          "Married",
          "Married",
          "Married",
          "Married",
          "Married",
          "Married",
          "Married",
          "Married",
          "Married",
          "Married",
          "Married",
          "Married",
          "Married",
          "Married",
          "Married",
          "Married",
          "Married",
          "Married",
          "Married",
          "Married",
          "Married",
          "Married",
          "Married",
          "Married",
          "Married",
          "Married",
          "Married",
          "Married",
          "Married",
          "Married",
          "Married",
          "Married",
          "Married",
          "Married",
          "Married",
          "Married",
          "Married",
          "Married",
          "Married",
          "Married",
          "Married",
          "Married",
          "Married",
          "Married",
          "Married",
          "Married",
          "Married",
          "Married",
          "Married",
          "Married",
          "Married",
          "Married",
          "Married",
          "Married",
          "Married",
          "Married",
          "Married",
          "Married",
          "Married",
          "Married",
          "Married",
          "Married",
          "Married",
          "Married",
          "Married",
          "Married",
          "Married",
          "Married",
          "Married",
          "Married",
          "Married",
          "Married",
          "Married",
          "Married",
          "Married",
          "Married",
          "Married",
          "Married",
          "Married",
          "Married",
          "Married",
          "Married",
          "Married",
          "Married",
          "Married",
          "Married",
          "Married",
          "Married",
          "Married",
          "Married",
          "Married",
          "Married",
          "Married",
          "Married",
          "Married",
          "Married",
          "Married",
          "Married",
          "Married",
          "Married",
          "Married",
          "Married",
          "Married",
          "Married",
          "Married",
          "Married",
          "Married",
          "Married",
          "Married",
          "Married",
          "Married",
          "Married",
          "Married",
          "Married",
          "Married",
          "Married",
          "Married",
          "Married",
          "Married",
          "Married",
          "Married",
          "Married",
          "Married",
          "Married",
          "Married",
          "Married",
          "Married",
          "Married",
          "Married",
          "Married",
          "Married",
          "Married",
          "Married",
          "Married",
          "Married",
          "Married",
          "Married",
          "Married",
          "Married",
          "Married",
          "Married",
          "Married",
          "Married",
          "Married",
          "Married",
          "Married",
          "Married",
          "Married",
          "Married",
          "Married",
          "Married",
          "Married",
          "Married",
          "Married",
          "Married",
          "Married",
          "Married",
          "Married",
          "Married",
          "Married",
          "Married",
          "Married",
          "Married",
          "Married",
          "Married",
          "Married",
          "Married",
          "Married",
          "Married",
          "Married",
          "Married",
          "Married",
          "Married",
          "Married",
          "Married",
          "Married",
          "Married",
          "Married",
          "Married",
          "Married",
          "Married",
          "Married",
          "Married",
          "Married",
          "Married",
          "Married",
          "Married",
          "Married",
          "Married",
          "Married",
          "Married",
          "Married",
          "Married",
          "Married",
          "Married",
          "Married",
          "Married",
          "Married",
          "Married",
          "Married",
          "Married",
          "Married",
          "Married",
          "Married",
          "Married",
          "Married",
          "Married",
          "Married",
          "Married",
          "Married",
          "Married",
          "Married",
          "Married",
          "Married",
          "Married",
          "Married",
          "Married",
          "Married",
          "Married",
          "Married",
          "Married",
          "Married",
          "Married",
          "Married",
          "Married",
          "Married",
          "Married",
          "Married",
          "Married",
          "Married",
          "Married",
          "Married",
          "Married",
          "Married",
          "Married",
          "Married",
          "Married",
          "Married",
          "Married",
          "Married",
          "Married",
          "Married",
          "Married",
          "Married",
          "Married",
          "Married",
          "Married",
          "Married",
          "Married",
          "Married",
          "Married",
          "Married",
          "Married",
          "Married",
          "Married",
          "Married",
          "Married",
          "Married",
          "Married",
          "Married",
          "Married",
          "Married",
          "Married",
          "Married",
          "Married",
          "Married",
          "Married",
          "Married",
          "Married",
          "Married",
          "Married",
          "Married",
          "Married",
          "Married",
          "Married",
          "Married",
          "Married",
          "Married",
          "Married",
          "Married",
          "Married",
          "Married",
          "Married",
          "Married",
          "Married",
          "Married",
          "Married",
          "Married",
          "Married",
          "Married",
          "Married",
          "Married",
          "Married",
          "Married",
          "Married",
          "Married",
          "Married",
          "Married",
          "Married",
          "Married",
          "Married",
          "Married",
          "Married",
          "Married",
          "Married",
          "Married",
          "Married",
          "Married",
          "Married",
          "Married",
          "Married",
          "Married",
          "Married",
          "Married",
          "Married",
          "Married",
          "Married",
          "Married",
          "Married",
          "Married",
          "Married",
          "Married",
          "Married",
          "Married",
          "Married",
          "Married",
          "Married",
          "Married",
          "Married",
          "Married",
          "Married",
          "Married",
          "Married",
          "Married",
          "Married",
          "Married",
          "Married",
          "Married",
          "Married",
          "Married",
          "Married",
          "Married",
          "Married",
          "Married",
          "Married",
          "Married",
          "Married",
          "Married",
          "Married",
          "Married",
          "Married",
          "Married",
          "Married",
          "Married",
          "Married",
          "Married",
          "Married",
          "Married",
          "Married",
          "Married",
          "Married",
          "Married",
          "Married",
          "Married",
          "Married",
          "Married",
          "Married",
          "Married",
          "Married",
          "Married",
          "Married",
          "Married",
          "Married",
          "Married",
          "Married",
          "Married",
          "Married",
          "Married",
          "Married",
          "Married",
          "Married",
          "Married",
          "Married",
          "Married",
          "Married",
          "Married",
          "Married",
          "Married",
          "Married",
          "Married",
          "Married",
          "Married",
          "Married",
          "Married",
          "Married",
          "Married",
          "Married",
          "Married",
          "Married",
          "Married",
          "Married",
          "Married",
          "Married",
          "Married",
          "Married",
          "Married",
          "Married",
          "Married",
          "Married",
          "Married",
          "Married",
          "Married",
          "Married",
          "Married",
          "Married",
          "Married",
          "Married",
          "Married",
          "Married",
          "Married",
          "Married",
          "Married",
          "Married",
          "Married",
          "Married",
          "Married",
          "Married",
          "Married",
          "Married",
          "Married",
          "Married",
          "Married",
          "Married",
          "Married",
          "Married",
          "Married",
          "Married",
          "Married",
          "Married",
          "Married",
          "Married",
          "Married",
          "Married",
          "Married",
          "Married",
          "Married",
          "Married",
          "Married",
          "Married",
          "Married",
          "Married",
          "Married",
          "Married",
          "Married",
          "Married",
          "Married",
          "Married",
          "Married",
          "Married",
          "Married",
          "Married",
          "Married",
          "Married",
          "Married",
          "Married",
          "Married",
          "Married",
          "Married",
          "Married",
          "Married",
          "Married",
          "Married",
          "Married",
          "Married",
          "Married",
          "Married",
          "Married",
          "Married",
          "Married",
          "Married",
          "Married",
          "Married",
          "Married",
          "Married",
          "Married",
          "Married",
          "Married",
          "Married",
          "Married",
          "Married",
          "Married",
          "Married",
          "Married",
          "Married",
          "Married",
          "Married",
          "Married",
          "Married",
          "Married",
          "Married",
          "Married",
          "Married",
          "Married",
          "Married",
          "Married",
          "Married",
          "Married",
          "Married",
          "Married",
          "Married",
          "Married",
          "Married",
          "Married",
          "Married",
          "Married",
          "Married",
          "Married",
          "Married",
          "Married",
          "Married",
          "Married",
          "Married",
          "Married",
          "Married",
          "Married",
          "Married",
          "Married",
          "Married",
          "Married",
          "Married",
          "Married",
          "Married",
          "Married",
          "Married",
          "Married",
          "Married",
          "Married",
          "Married",
          "Married",
          "Married",
          "Married",
          "Married",
          "Married",
          "Married",
          "Married",
          "Married",
          "Married",
          "Married",
          "Married",
          "Married",
          "Married",
          "Married",
          "Married",
          "Married",
          "Married",
          "Married",
          "Married",
          "Married",
          "Married",
          "Married",
          "Married",
          "Married",
          "Married",
          "Married",
          "Married",
          "Married",
          "Married",
          "Married",
          "Married",
          "Married",
          "Married",
          "Married",
          "Married",
          "Married",
          "Married",
          "Married",
          "Married",
          "Married",
          "Married",
          "Married",
          "Married",
          "Married",
          "Married",
          "Married",
          "Married"
         ],
         "xaxis": "x",
         "y": [
          173,
          76,
          5,
          6,
          3,
          53,
          1012,
          86,
          1,
          867,
          384,
          173,
          36,
          684,
          482,
          702,
          6,
          421,
          13,
          3,
          3,
          826,
          650,
          328,
          447,
          1,
          496,
          25,
          258,
          565,
          14,
          721,
          4,
          25,
          17,
          130,
          350,
          230,
          27,
          5,
          207,
          135,
          562,
          217,
          144,
          295,
          454,
          378,
          547,
          47,
          9,
          70,
          352,
          120,
          236,
          231,
          220,
          53,
          399,
          598,
          2,
          73,
          42,
          295,
          346,
          1349,
          53,
          20,
          12,
          85,
          1149,
          847,
          29,
          207,
          152,
          12,
          620,
          47,
          1,
          10,
          356,
          783,
          42,
          23,
          235,
          10,
          656,
          519,
          344,
          54,
          224,
          239,
          171,
          1076,
          377,
          155,
          792,
          562,
          5,
          559,
          789,
          11,
          1218,
          925,
          864,
          167,
          9,
          38,
          483,
          77,
          182,
          13,
          4,
          26,
          15,
          777,
          37,
          525,
          509,
          25,
          861,
          185,
          44,
          11,
          412,
          3,
          792,
          22,
          33,
          909,
          23,
          10,
          1103,
          30,
          9,
          495,
          656,
          546,
          78,
          561,
          629,
          736,
          19,
          9,
          247,
          333,
          10,
          159,
          11,
          3,
          73,
          102,
          554,
          96,
          23,
          370,
          407,
          1200,
          483,
          604,
          19,
          5,
          1076,
          1285,
          10,
          551,
          800,
          378,
          235,
          438,
          99,
          1,
          5,
          77,
          3,
          0,
          14,
          208,
          656,
          141,
          507,
          164,
          116,
          143,
          522,
          483,
          7,
          335,
          563,
          2,
          22,
          478,
          451,
          371,
          281,
          19,
          213,
          502,
          11,
          388,
          16,
          1047,
          225,
          34,
          238,
          65,
          1035,
          179,
          1379,
          32,
          8,
          141,
          206,
          112,
          1478,
          8,
          42,
          14,
          17,
          30,
          179,
          557,
          7,
          30,
          129,
          98,
          32,
          25,
          1050,
          117,
          9,
          203,
          37,
          264,
          817,
          130,
          19,
          4,
          410,
          8,
          410,
          2,
          25,
          215,
          179,
          352,
          390,
          10,
          1181,
          129,
          121,
          707,
          163,
          721,
          757,
          3,
          2,
          6,
          26,
          111,
          418,
          275,
          1,
          1004,
          56,
          55,
          92,
          212,
          656,
          23,
          1,
          749,
          670,
          524,
          6,
          597,
          7,
          54,
          445,
          292,
          328,
          967,
          432,
          0,
          307,
          2,
          769,
          778,
          895,
          40,
          76,
          11,
          647,
          138,
          587,
          43,
          301,
          180,
          794,
          39,
          1,
          4,
          327,
          184,
          183,
          479,
          24,
          330,
          28,
          1039,
          411,
          34,
          161,
          623,
          3,
          393,
          7,
          642,
          8,
          7,
          30,
          1279,
          25,
          336,
          91,
          2,
          362,
          8,
          384,
          556,
          408,
          34,
          374,
          600,
          0,
          29,
          27,
          22,
          48,
          35,
          255,
          194,
          183,
          102,
          63,
          398,
          1478,
          19,
          372,
          760,
          1,
          1253,
          1166,
          261,
          20,
          115,
          69,
          80,
          97,
          693,
          43,
          14,
          434,
          16,
          318,
          292,
          30,
          674,
          284,
          1023,
          1394,
          3,
          384,
          349,
          223,
          397,
          14,
          30,
          90,
          635,
          13,
          45,
          4,
          201,
          5,
          350,
          45,
          359,
          403,
          34,
          30,
          463,
          538,
          635,
          1315,
          12,
          192,
          241,
          1099,
          397,
          10,
          444,
          32,
          1001,
          7,
          172,
          565,
          652,
          938,
          105,
          614,
          70,
          120,
          11,
          53,
          7,
          391,
          199,
          16,
          88,
          508,
          74,
          110,
          815,
          8,
          29,
          229,
          23,
          350,
          5,
          162,
          342,
          658,
          356,
          213,
          457,
          210,
          441,
          19,
          476,
          0,
          0,
          863,
          349,
          184,
          8,
          277,
          134,
          24,
          27,
          57,
          43,
          964,
          572,
          63,
          221,
          140,
          544,
          684,
          1,
          157,
          2,
          51,
          952,
          11,
          318,
          56,
          303,
          5,
          46,
          790,
          882,
          615,
          1004,
          133,
          293,
          313,
          151,
          15,
          28,
          489,
          145,
          760,
          464,
          1090,
          3,
          24,
          254,
          13,
          7,
          462,
          22,
          968,
          283,
          1,
          30,
          558,
          4,
          546,
          1142,
          1074,
          371,
          35,
          12,
          44,
          779,
          7,
          1205,
          10,
          97,
          6,
          73,
          711,
          163,
          82,
          66,
          262,
          1099,
          32,
          6,
          135,
          86,
          823,
          8,
          6,
          5,
          134,
          689,
          5,
          18,
          992,
          158,
          14,
          622,
          100,
          201,
          642,
          97,
          513,
          88,
          329,
          296,
          422,
          1218,
          5,
          507,
          20,
          20,
          6,
          3,
          14,
          10,
          12,
          693,
          16,
          201,
          14,
          29,
          9,
          99,
          482,
          714,
          227,
          153,
          30,
          443,
          9,
          8,
          72,
          169,
          460,
          73,
          944,
          2,
          1449,
          267,
          22,
          247,
          758,
          244,
          539,
          750,
          306,
          331,
          434,
          811,
          423,
          675,
          30,
          40,
          19,
          490,
          1171,
          674,
          5,
          1000,
          267,
          10,
          11,
          173,
          423,
          757,
          12,
          29,
          411,
          5,
          46,
          483,
          733,
          34,
          7,
          244,
          34,
          48,
          158,
          754,
          199,
          739,
          18,
          378,
          1083,
          12,
          35,
          548,
          365,
          397,
          5,
          10,
          238,
          86,
          856,
          4,
          216,
          105,
          629,
          217,
          24,
          298,
          3,
          539,
          593,
          21,
          1181,
          1004,
          1184,
          390,
          726,
          50,
          308,
          22,
          27,
          6,
          205,
          24,
          9,
          12,
          532,
          387,
          56,
          70,
          293,
          199,
          1060,
          940,
          342,
          5,
          462,
          2,
          979,
          533,
          6,
          560,
          173,
          22,
          324,
          620,
          1493,
          98,
          24,
          31,
          138,
          166,
          707,
          5,
          465,
          1,
          123,
          102,
          21,
          206,
          71,
          920,
          376,
          11,
          18,
          292,
          572,
          369,
          387,
          15,
          674,
          686,
          63,
          209,
          198,
          313,
          179,
          5,
          2,
          383,
          322,
          707,
          666,
          407,
          823,
          407,
          1218,
          15,
          22,
          175,
          864,
          25,
          42,
          272,
          279,
          398,
          637,
          21,
          15,
          1017,
          32,
          200,
          2,
          1103,
          353,
          379,
          46,
          162,
          8,
          17,
          340,
          8,
          2,
          1050,
          274,
          68,
          145,
          217,
          256,
          512,
          20,
          261,
          111,
          16,
          63,
          29,
          28,
          879,
          62,
          182,
          83,
          38,
          228,
          85,
          448,
          504,
          239,
          16,
          35,
          575,
          228,
          11,
          3,
          14,
          106,
          820,
          753,
          13,
          315,
          15,
          110,
          555,
          11,
          6,
          37,
          167,
          129,
          713,
          450,
          22,
          724,
          757,
          40,
          1245,
          19,
          184,
          15,
          627,
          14,
          71,
          8,
          293,
          758,
          656,
          196,
          835,
          9,
          26,
          1486,
          1115,
          29,
          13,
          934,
          2,
          4,
          62,
          173,
          188,
          0,
          99,
          176,
          356,
          1311,
          2,
          1,
          301,
          23,
          4,
          71,
          35,
          496,
          9,
          26,
          576,
          1013,
          675,
          572,
          626,
          1074,
          254,
          22,
          516,
          14,
          28,
          530,
          519,
          611,
          4,
          9,
          556,
          833,
          297,
          39,
          366,
          32,
          269,
          12,
          270,
          21,
          457,
          3,
          3,
          709,
          84
         ],
         "yaxis": "y"
        },
        {
         "hovertemplate": "marital_status=%{x}<br>mntwines=%{y}<extra></extra>",
         "legendgroup": "Divorced",
         "marker": {
          "color": "#ab63fa",
          "symbol": "circle"
         },
         "mode": "markers",
         "name": "Divorced",
         "showlegend": true,
         "type": "scattergl",
         "x": [
          "Divorced",
          "Divorced",
          "Divorced",
          "Divorced",
          "Divorced",
          "Divorced",
          "Divorced",
          "Divorced",
          "Divorced",
          "Divorced",
          "Divorced",
          "Divorced",
          "Divorced",
          "Divorced",
          "Divorced",
          "Divorced",
          "Divorced",
          "Divorced",
          "Divorced",
          "Divorced",
          "Divorced",
          "Divorced",
          "Divorced",
          "Divorced",
          "Divorced",
          "Divorced",
          "Divorced",
          "Divorced",
          "Divorced",
          "Divorced",
          "Divorced",
          "Divorced",
          "Divorced",
          "Divorced",
          "Divorced",
          "Divorced",
          "Divorced",
          "Divorced",
          "Divorced",
          "Divorced",
          "Divorced",
          "Divorced",
          "Divorced",
          "Divorced",
          "Divorced",
          "Divorced",
          "Divorced",
          "Divorced",
          "Divorced",
          "Divorced",
          "Divorced",
          "Divorced",
          "Divorced",
          "Divorced",
          "Divorced",
          "Divorced",
          "Divorced",
          "Divorced",
          "Divorced",
          "Divorced",
          "Divorced",
          "Divorced",
          "Divorced",
          "Divorced",
          "Divorced",
          "Divorced",
          "Divorced",
          "Divorced",
          "Divorced",
          "Divorced",
          "Divorced",
          "Divorced",
          "Divorced",
          "Divorced",
          "Divorced",
          "Divorced",
          "Divorced",
          "Divorced",
          "Divorced",
          "Divorced",
          "Divorced",
          "Divorced",
          "Divorced",
          "Divorced",
          "Divorced",
          "Divorced",
          "Divorced",
          "Divorced",
          "Divorced",
          "Divorced",
          "Divorced",
          "Divorced",
          "Divorced",
          "Divorced",
          "Divorced",
          "Divorced",
          "Divorced",
          "Divorced",
          "Divorced",
          "Divorced",
          "Divorced",
          "Divorced",
          "Divorced",
          "Divorced",
          "Divorced",
          "Divorced",
          "Divorced",
          "Divorced",
          "Divorced",
          "Divorced",
          "Divorced",
          "Divorced",
          "Divorced",
          "Divorced",
          "Divorced",
          "Divorced",
          "Divorced",
          "Divorced",
          "Divorced",
          "Divorced",
          "Divorced",
          "Divorced",
          "Divorced",
          "Divorced",
          "Divorced",
          "Divorced",
          "Divorced",
          "Divorced",
          "Divorced",
          "Divorced",
          "Divorced",
          "Divorced",
          "Divorced",
          "Divorced",
          "Divorced",
          "Divorced",
          "Divorced",
          "Divorced",
          "Divorced",
          "Divorced",
          "Divorced",
          "Divorced",
          "Divorced",
          "Divorced",
          "Divorced",
          "Divorced",
          "Divorced",
          "Divorced",
          "Divorced",
          "Divorced",
          "Divorced",
          "Divorced",
          "Divorced",
          "Divorced",
          "Divorced",
          "Divorced",
          "Divorced",
          "Divorced",
          "Divorced",
          "Divorced",
          "Divorced",
          "Divorced",
          "Divorced",
          "Divorced",
          "Divorced",
          "Divorced",
          "Divorced",
          "Divorced",
          "Divorced",
          "Divorced",
          "Divorced",
          "Divorced",
          "Divorced",
          "Divorced",
          "Divorced",
          "Divorced",
          "Divorced",
          "Divorced",
          "Divorced",
          "Divorced",
          "Divorced",
          "Divorced",
          "Divorced",
          "Divorced",
          "Divorced",
          "Divorced",
          "Divorced",
          "Divorced",
          "Divorced",
          "Divorced",
          "Divorced",
          "Divorced",
          "Divorced",
          "Divorced",
          "Divorced",
          "Divorced",
          "Divorced",
          "Divorced",
          "Divorced",
          "Divorced",
          "Divorced",
          "Divorced",
          "Divorced",
          "Divorced",
          "Divorced",
          "Divorced",
          "Divorced",
          "Divorced",
          "Divorced",
          "Divorced",
          "Divorced",
          "Divorced",
          "Divorced",
          "Divorced",
          "Divorced",
          "Divorced",
          "Divorced",
          "Divorced",
          "Divorced",
          "Divorced",
          "Divorced",
          "Divorced",
          "Divorced",
          "Divorced",
          "Divorced",
          "Divorced",
          "Divorced",
          "Divorced",
          "Divorced",
          "Divorced",
          "Divorced",
          "Divorced"
         ],
         "xaxis": "x",
         "y": [
          235,
          194,
          233,
          8,
          96,
          437,
          510,
          295,
          2,
          163,
          51,
          17,
          0,
          17,
          1001,
          125,
          212,
          15,
          448,
          587,
          81,
          1170,
          897,
          787,
          983,
          168,
          1,
          554,
          33,
          635,
          248,
          6,
          801,
          36,
          3,
          16,
          731,
          21,
          317,
          797,
          37,
          204,
          189,
          2,
          866,
          23,
          155,
          357,
          0,
          76,
          26,
          483,
          185,
          504,
          317,
          29,
          382,
          27,
          464,
          174,
          16,
          5,
          19,
          14,
          965,
          1063,
          125,
          219,
          1,
          595,
          1132,
          372,
          459,
          321,
          909,
          112,
          23,
          537,
          345,
          440,
          294,
          8,
          144,
          1126,
          324,
          229,
          584,
          752,
          22,
          10,
          563,
          379,
          9,
          437,
          756,
          7,
          171,
          588,
          267,
          135,
          711,
          79,
          267,
          561,
          230,
          2,
          22,
          587,
          1296,
          66,
          244,
          18,
          4,
          15,
          1215,
          3,
          574,
          897,
          516,
          146,
          165,
          176,
          714,
          8,
          1,
          44,
          1148,
          816,
          10,
          635,
          1,
          408,
          110,
          27,
          1,
          595,
          15,
          982,
          897,
          6,
          737,
          620,
          16,
          183,
          714,
          160,
          691,
          112,
          459,
          95,
          11,
          25,
          635,
          100,
          2,
          129,
          91,
          386,
          209,
          38,
          2,
          631,
          50,
          3,
          30,
          532,
          71,
          255,
          163,
          15,
          1016,
          123,
          443,
          1459,
          7,
          267,
          527,
          667,
          621,
          243,
          29,
          18,
          1073,
          708,
          312,
          12,
          40,
          531,
          56,
          941,
          8,
          1121,
          0,
          13,
          412,
          18,
          1045,
          128,
          584,
          641,
          122,
          9,
          102,
          673,
          40,
          1092,
          4,
          315,
          182,
          587,
          17,
          19,
          958,
          532,
          180,
          229,
          158,
          5,
          17,
          104,
          70,
          2,
          43,
          77,
          531,
          918,
          741,
          23,
          33,
          302,
          23,
          908
         ],
         "yaxis": "y"
        },
        {
         "hovertemplate": "marital_status=%{x}<br>mntwines=%{y}<extra></extra>",
         "legendgroup": "Widow",
         "marker": {
          "color": "#FFA15A",
          "symbol": "circle"
         },
         "mode": "markers",
         "name": "Widow",
         "showlegend": true,
         "type": "scattergl",
         "x": [
          "Widow",
          "Widow",
          "Widow",
          "Widow",
          "Widow",
          "Widow",
          "Widow",
          "Widow",
          "Widow",
          "Widow",
          "Widow",
          "Widow",
          "Widow",
          "Widow",
          "Widow",
          "Widow",
          "Widow",
          "Widow",
          "Widow",
          "Widow",
          "Widow",
          "Widow",
          "Widow",
          "Widow",
          "Widow",
          "Widow",
          "Widow",
          "Widow",
          "Widow",
          "Widow",
          "Widow",
          "Widow",
          "Widow",
          "Widow",
          "Widow",
          "Widow",
          "Widow",
          "Widow",
          "Widow",
          "Widow",
          "Widow",
          "Widow",
          "Widow",
          "Widow",
          "Widow",
          "Widow",
          "Widow",
          "Widow",
          "Widow",
          "Widow",
          "Widow",
          "Widow",
          "Widow",
          "Widow",
          "Widow",
          "Widow",
          "Widow",
          "Widow",
          "Widow",
          "Widow",
          "Widow",
          "Widow",
          "Widow",
          "Widow",
          "Widow",
          "Widow",
          "Widow",
          "Widow",
          "Widow",
          "Widow",
          "Widow",
          "Widow",
          "Widow",
          "Widow",
          "Widow",
          "Widow",
          "Widow"
         ],
         "xaxis": "x",
         "y": [
          55,
          245,
          546,
          505,
          182,
          901,
          395,
          1,
          15,
          512,
          43,
          400,
          161,
          112,
          4,
          24,
          815,
          162,
          63,
          416,
          1060,
          55,
          162,
          5,
          625,
          445,
          371,
          67,
          445,
          19,
          860,
          205,
          5,
          953,
          12,
          27,
          158,
          508,
          735,
          1298,
          341,
          62,
          13,
          972,
          508,
          332,
          431,
          293,
          595,
          67,
          50,
          19,
          612,
          861,
          380,
          15,
          267,
          167,
          488,
          100,
          953,
          710,
          344,
          605,
          67,
          1462,
          526,
          618,
          526,
          544,
          3,
          532,
          189,
          154,
          154,
          570,
          332
         ],
         "yaxis": "y"
        },
        {
         "hovertemplate": "marital_status=%{x}<br>mntwines=%{y}<extra></extra>",
         "legendgroup": "Alone",
         "marker": {
          "color": "#19d3f3",
          "symbol": "circle"
         },
         "mode": "markers",
         "name": "Alone",
         "showlegend": true,
         "type": "scattergl",
         "x": [
          "Alone",
          "Alone",
          "Alone"
         ],
         "xaxis": "x",
         "y": [
          534,
          15,
          5
         ],
         "yaxis": "y"
        },
        {
         "hovertemplate": "marital_status=%{x}<br>mntwines=%{y}<extra></extra>",
         "legendgroup": "Absurd",
         "marker": {
          "color": "#FF6692",
          "symbol": "circle"
         },
         "mode": "markers",
         "name": "Absurd",
         "showlegend": true,
         "type": "scattergl",
         "x": [
          "Absurd",
          "Absurd"
         ],
         "xaxis": "x",
         "y": [
          471,
          240
         ],
         "yaxis": "y"
        },
        {
         "hovertemplate": "marital_status=%{x}<br>mntwines=%{y}<extra></extra>",
         "legendgroup": "YOLO",
         "marker": {
          "color": "#B6E880",
          "symbol": "circle"
         },
         "mode": "markers",
         "name": "YOLO",
         "showlegend": true,
         "type": "scattergl",
         "x": [
          "YOLO",
          "YOLO"
         ],
         "xaxis": "x",
         "y": [
          322,
          322
         ],
         "yaxis": "y"
        }
       ],
       "layout": {
        "autosize": false,
        "height": 500,
        "legend": {
         "title": {
          "text": "marital_status"
         },
         "tracegroupgap": 0
        },
        "margin": {
         "t": 60
        },
        "template": {
         "data": {
          "bar": [
           {
            "error_x": {
             "color": "#2a3f5f"
            },
            "error_y": {
             "color": "#2a3f5f"
            },
            "marker": {
             "line": {
              "color": "#E5ECF6",
              "width": 0.5
             }
            },
            "type": "bar"
           }
          ],
          "barpolar": [
           {
            "marker": {
             "line": {
              "color": "#E5ECF6",
              "width": 0.5
             }
            },
            "type": "barpolar"
           }
          ],
          "carpet": [
           {
            "aaxis": {
             "endlinecolor": "#2a3f5f",
             "gridcolor": "white",
             "linecolor": "white",
             "minorgridcolor": "white",
             "startlinecolor": "#2a3f5f"
            },
            "baxis": {
             "endlinecolor": "#2a3f5f",
             "gridcolor": "white",
             "linecolor": "white",
             "minorgridcolor": "white",
             "startlinecolor": "#2a3f5f"
            },
            "type": "carpet"
           }
          ],
          "choropleth": [
           {
            "colorbar": {
             "outlinewidth": 0,
             "ticks": ""
            },
            "type": "choropleth"
           }
          ],
          "contour": [
           {
            "colorbar": {
             "outlinewidth": 0,
             "ticks": ""
            },
            "colorscale": [
             [
              0,
              "#0d0887"
             ],
             [
              0.1111111111111111,
              "#46039f"
             ],
             [
              0.2222222222222222,
              "#7201a8"
             ],
             [
              0.3333333333333333,
              "#9c179e"
             ],
             [
              0.4444444444444444,
              "#bd3786"
             ],
             [
              0.5555555555555556,
              "#d8576b"
             ],
             [
              0.6666666666666666,
              "#ed7953"
             ],
             [
              0.7777777777777778,
              "#fb9f3a"
             ],
             [
              0.8888888888888888,
              "#fdca26"
             ],
             [
              1,
              "#f0f921"
             ]
            ],
            "type": "contour"
           }
          ],
          "contourcarpet": [
           {
            "colorbar": {
             "outlinewidth": 0,
             "ticks": ""
            },
            "type": "contourcarpet"
           }
          ],
          "heatmap": [
           {
            "colorbar": {
             "outlinewidth": 0,
             "ticks": ""
            },
            "colorscale": [
             [
              0,
              "#0d0887"
             ],
             [
              0.1111111111111111,
              "#46039f"
             ],
             [
              0.2222222222222222,
              "#7201a8"
             ],
             [
              0.3333333333333333,
              "#9c179e"
             ],
             [
              0.4444444444444444,
              "#bd3786"
             ],
             [
              0.5555555555555556,
              "#d8576b"
             ],
             [
              0.6666666666666666,
              "#ed7953"
             ],
             [
              0.7777777777777778,
              "#fb9f3a"
             ],
             [
              0.8888888888888888,
              "#fdca26"
             ],
             [
              1,
              "#f0f921"
             ]
            ],
            "type": "heatmap"
           }
          ],
          "heatmapgl": [
           {
            "colorbar": {
             "outlinewidth": 0,
             "ticks": ""
            },
            "colorscale": [
             [
              0,
              "#0d0887"
             ],
             [
              0.1111111111111111,
              "#46039f"
             ],
             [
              0.2222222222222222,
              "#7201a8"
             ],
             [
              0.3333333333333333,
              "#9c179e"
             ],
             [
              0.4444444444444444,
              "#bd3786"
             ],
             [
              0.5555555555555556,
              "#d8576b"
             ],
             [
              0.6666666666666666,
              "#ed7953"
             ],
             [
              0.7777777777777778,
              "#fb9f3a"
             ],
             [
              0.8888888888888888,
              "#fdca26"
             ],
             [
              1,
              "#f0f921"
             ]
            ],
            "type": "heatmapgl"
           }
          ],
          "histogram": [
           {
            "marker": {
             "colorbar": {
              "outlinewidth": 0,
              "ticks": ""
             }
            },
            "type": "histogram"
           }
          ],
          "histogram2d": [
           {
            "colorbar": {
             "outlinewidth": 0,
             "ticks": ""
            },
            "colorscale": [
             [
              0,
              "#0d0887"
             ],
             [
              0.1111111111111111,
              "#46039f"
             ],
             [
              0.2222222222222222,
              "#7201a8"
             ],
             [
              0.3333333333333333,
              "#9c179e"
             ],
             [
              0.4444444444444444,
              "#bd3786"
             ],
             [
              0.5555555555555556,
              "#d8576b"
             ],
             [
              0.6666666666666666,
              "#ed7953"
             ],
             [
              0.7777777777777778,
              "#fb9f3a"
             ],
             [
              0.8888888888888888,
              "#fdca26"
             ],
             [
              1,
              "#f0f921"
             ]
            ],
            "type": "histogram2d"
           }
          ],
          "histogram2dcontour": [
           {
            "colorbar": {
             "outlinewidth": 0,
             "ticks": ""
            },
            "colorscale": [
             [
              0,
              "#0d0887"
             ],
             [
              0.1111111111111111,
              "#46039f"
             ],
             [
              0.2222222222222222,
              "#7201a8"
             ],
             [
              0.3333333333333333,
              "#9c179e"
             ],
             [
              0.4444444444444444,
              "#bd3786"
             ],
             [
              0.5555555555555556,
              "#d8576b"
             ],
             [
              0.6666666666666666,
              "#ed7953"
             ],
             [
              0.7777777777777778,
              "#fb9f3a"
             ],
             [
              0.8888888888888888,
              "#fdca26"
             ],
             [
              1,
              "#f0f921"
             ]
            ],
            "type": "histogram2dcontour"
           }
          ],
          "mesh3d": [
           {
            "colorbar": {
             "outlinewidth": 0,
             "ticks": ""
            },
            "type": "mesh3d"
           }
          ],
          "parcoords": [
           {
            "line": {
             "colorbar": {
              "outlinewidth": 0,
              "ticks": ""
             }
            },
            "type": "parcoords"
           }
          ],
          "pie": [
           {
            "automargin": true,
            "type": "pie"
           }
          ],
          "scatter": [
           {
            "marker": {
             "colorbar": {
              "outlinewidth": 0,
              "ticks": ""
             }
            },
            "type": "scatter"
           }
          ],
          "scatter3d": [
           {
            "line": {
             "colorbar": {
              "outlinewidth": 0,
              "ticks": ""
             }
            },
            "marker": {
             "colorbar": {
              "outlinewidth": 0,
              "ticks": ""
             }
            },
            "type": "scatter3d"
           }
          ],
          "scattercarpet": [
           {
            "marker": {
             "colorbar": {
              "outlinewidth": 0,
              "ticks": ""
             }
            },
            "type": "scattercarpet"
           }
          ],
          "scattergeo": [
           {
            "marker": {
             "colorbar": {
              "outlinewidth": 0,
              "ticks": ""
             }
            },
            "type": "scattergeo"
           }
          ],
          "scattergl": [
           {
            "marker": {
             "colorbar": {
              "outlinewidth": 0,
              "ticks": ""
             }
            },
            "type": "scattergl"
           }
          ],
          "scattermapbox": [
           {
            "marker": {
             "colorbar": {
              "outlinewidth": 0,
              "ticks": ""
             }
            },
            "type": "scattermapbox"
           }
          ],
          "scatterpolar": [
           {
            "marker": {
             "colorbar": {
              "outlinewidth": 0,
              "ticks": ""
             }
            },
            "type": "scatterpolar"
           }
          ],
          "scatterpolargl": [
           {
            "marker": {
             "colorbar": {
              "outlinewidth": 0,
              "ticks": ""
             }
            },
            "type": "scatterpolargl"
           }
          ],
          "scatterternary": [
           {
            "marker": {
             "colorbar": {
              "outlinewidth": 0,
              "ticks": ""
             }
            },
            "type": "scatterternary"
           }
          ],
          "surface": [
           {
            "colorbar": {
             "outlinewidth": 0,
             "ticks": ""
            },
            "colorscale": [
             [
              0,
              "#0d0887"
             ],
             [
              0.1111111111111111,
              "#46039f"
             ],
             [
              0.2222222222222222,
              "#7201a8"
             ],
             [
              0.3333333333333333,
              "#9c179e"
             ],
             [
              0.4444444444444444,
              "#bd3786"
             ],
             [
              0.5555555555555556,
              "#d8576b"
             ],
             [
              0.6666666666666666,
              "#ed7953"
             ],
             [
              0.7777777777777778,
              "#fb9f3a"
             ],
             [
              0.8888888888888888,
              "#fdca26"
             ],
             [
              1,
              "#f0f921"
             ]
            ],
            "type": "surface"
           }
          ],
          "table": [
           {
            "cells": {
             "fill": {
              "color": "#EBF0F8"
             },
             "line": {
              "color": "white"
             }
            },
            "header": {
             "fill": {
              "color": "#C8D4E3"
             },
             "line": {
              "color": "white"
             }
            },
            "type": "table"
           }
          ]
         },
         "layout": {
          "annotationdefaults": {
           "arrowcolor": "#2a3f5f",
           "arrowhead": 0,
           "arrowwidth": 1
          },
          "coloraxis": {
           "colorbar": {
            "outlinewidth": 0,
            "ticks": ""
           }
          },
          "colorscale": {
           "diverging": [
            [
             0,
             "#8e0152"
            ],
            [
             0.1,
             "#c51b7d"
            ],
            [
             0.2,
             "#de77ae"
            ],
            [
             0.3,
             "#f1b6da"
            ],
            [
             0.4,
             "#fde0ef"
            ],
            [
             0.5,
             "#f7f7f7"
            ],
            [
             0.6,
             "#e6f5d0"
            ],
            [
             0.7,
             "#b8e186"
            ],
            [
             0.8,
             "#7fbc41"
            ],
            [
             0.9,
             "#4d9221"
            ],
            [
             1,
             "#276419"
            ]
           ],
           "sequential": [
            [
             0,
             "#0d0887"
            ],
            [
             0.1111111111111111,
             "#46039f"
            ],
            [
             0.2222222222222222,
             "#7201a8"
            ],
            [
             0.3333333333333333,
             "#9c179e"
            ],
            [
             0.4444444444444444,
             "#bd3786"
            ],
            [
             0.5555555555555556,
             "#d8576b"
            ],
            [
             0.6666666666666666,
             "#ed7953"
            ],
            [
             0.7777777777777778,
             "#fb9f3a"
            ],
            [
             0.8888888888888888,
             "#fdca26"
            ],
            [
             1,
             "#f0f921"
            ]
           ],
           "sequentialminus": [
            [
             0,
             "#0d0887"
            ],
            [
             0.1111111111111111,
             "#46039f"
            ],
            [
             0.2222222222222222,
             "#7201a8"
            ],
            [
             0.3333333333333333,
             "#9c179e"
            ],
            [
             0.4444444444444444,
             "#bd3786"
            ],
            [
             0.5555555555555556,
             "#d8576b"
            ],
            [
             0.6666666666666666,
             "#ed7953"
            ],
            [
             0.7777777777777778,
             "#fb9f3a"
            ],
            [
             0.8888888888888888,
             "#fdca26"
            ],
            [
             1,
             "#f0f921"
            ]
           ]
          },
          "colorway": [
           "#636efa",
           "#EF553B",
           "#00cc96",
           "#ab63fa",
           "#FFA15A",
           "#19d3f3",
           "#FF6692",
           "#B6E880",
           "#FF97FF",
           "#FECB52"
          ],
          "font": {
           "color": "#2a3f5f"
          },
          "geo": {
           "bgcolor": "white",
           "lakecolor": "white",
           "landcolor": "#E5ECF6",
           "showlakes": true,
           "showland": true,
           "subunitcolor": "white"
          },
          "hoverlabel": {
           "align": "left"
          },
          "hovermode": "closest",
          "mapbox": {
           "style": "light"
          },
          "paper_bgcolor": "white",
          "plot_bgcolor": "#E5ECF6",
          "polar": {
           "angularaxis": {
            "gridcolor": "white",
            "linecolor": "white",
            "ticks": ""
           },
           "bgcolor": "#E5ECF6",
           "radialaxis": {
            "gridcolor": "white",
            "linecolor": "white",
            "ticks": ""
           }
          },
          "scene": {
           "xaxis": {
            "backgroundcolor": "#E5ECF6",
            "gridcolor": "white",
            "gridwidth": 2,
            "linecolor": "white",
            "showbackground": true,
            "ticks": "",
            "zerolinecolor": "white"
           },
           "yaxis": {
            "backgroundcolor": "#E5ECF6",
            "gridcolor": "white",
            "gridwidth": 2,
            "linecolor": "white",
            "showbackground": true,
            "ticks": "",
            "zerolinecolor": "white"
           },
           "zaxis": {
            "backgroundcolor": "#E5ECF6",
            "gridcolor": "white",
            "gridwidth": 2,
            "linecolor": "white",
            "showbackground": true,
            "ticks": "",
            "zerolinecolor": "white"
           }
          },
          "shapedefaults": {
           "line": {
            "color": "#2a3f5f"
           }
          },
          "ternary": {
           "aaxis": {
            "gridcolor": "white",
            "linecolor": "white",
            "ticks": ""
           },
           "baxis": {
            "gridcolor": "white",
            "linecolor": "white",
            "ticks": ""
           },
           "bgcolor": "#E5ECF6",
           "caxis": {
            "gridcolor": "white",
            "linecolor": "white",
            "ticks": ""
           }
          },
          "title": {
           "x": 0.05
          },
          "xaxis": {
           "automargin": true,
           "gridcolor": "white",
           "linecolor": "white",
           "ticks": "",
           "title": {
            "standoff": 15
           },
           "zerolinecolor": "white",
           "zerolinewidth": 2
          },
          "yaxis": {
           "automargin": true,
           "gridcolor": "white",
           "linecolor": "white",
           "ticks": "",
           "title": {
            "standoff": 15
           },
           "zerolinecolor": "white",
           "zerolinewidth": 2
          }
         }
        },
        "width": 500,
        "xaxis": {
         "anchor": "y",
         "autorange": true,
         "categoryarray": [
          "Single",
          "Together",
          "Married",
          "Divorced",
          "Widow",
          "Alone",
          "Absurd",
          "YOLO"
         ],
         "categoryorder": "array",
         "domain": [
          0,
          1
         ],
         "range": [
          -0.497033741193919,
          7.497033741193919
         ],
         "title": {
          "text": "marital_status"
         },
         "type": "category"
        },
        "yaxis": {
         "anchor": "x",
         "autorange": true,
         "domain": [
          0,
          1
         ],
         "range": [
          -102.59952606635072,
          1595.5995260663508
         ],
         "title": {
          "text": "mntwines"
         },
         "type": "linear"
        }
       }
      },
      "image/png": "[encoded data removed]",
      "text/html": [
       "<div>                            <div id=\"89139864-1c39-469d-ad4d-f7bf9949c8a7\" class=\"plotly-graph-div\" style=\"height:500px; width:500px;\"></div>            <script type=\"text/javascript\">                require([\"plotly\"], function(Plotly) {                    window.PLOTLYENV=window.PLOTLYENV || {};                                    if (document.getElementById(\"89139864-1c39-469d-ad4d-f7bf9949c8a7\")) {                    Plotly.newPlot(                        \"89139864-1c39-469d-ad4d-f7bf9949c8a7\",                        [{\"hovertemplate\": \"marital_status=%{x}<br>mntwines=%{y}<extra></extra>\", \"legendgroup\": \"Single\", \"marker\": {\"color\": \"#636efa\", \"symbol\": \"circle\"}, \"mode\": \"markers\", \"name\": \"Single\", \"showlegend\": true, \"type\": \"scattergl\", \"x\": [\"Single\", \"Single\", \"Single\", \"Single\", \"Single\", \"Single\", \"Single\", \"Single\", \"Single\", \"Single\", \"Single\", \"Single\", \"Single\", \"Single\", \"Single\", \"Single\", \"Single\", \"Single\", \"Single\", \"Single\", \"Single\", \"Single\", \"Single\", \"Single\", \"Single\", \"Single\", \"Single\", \"Single\", \"Single\", \"Single\", \"Single\", \"Single\", \"Single\", \"Single\", \"Single\", \"Single\", \"Single\", \"Single\", \"Single\", \"Single\", \"Single\", \"Single\", \"Single\", \"Single\", \"Single\", \"Single\", \"Single\", \"Single\", \"Single\", \"Single\", \"Single\", \"Single\", \"Single\", \"Single\", \"Single\", \"Single\", \"Single\", \"Single\", \"Single\", \"Single\", \"Single\", \"Single\", \"Single\", \"Single\", \"Single\", \"Single\", \"Single\", \"Single\", \"Single\", \"Single\", \"Single\", \"Single\", \"Single\", \"Single\", \"Single\", \"Single\", \"Single\", \"Single\", \"Single\", \"Single\", \"Single\", \"Single\", \"Single\", \"Single\", \"Single\", \"Single\", \"Single\", \"Single\", \"Single\", \"Single\", \"Single\", \"Single\", \"Single\", \"Single\", \"Single\", \"Single\", \"Single\", \"Single\", \"Single\", \"Single\", \"Single\", \"Single\", \"Single\", \"Single\", \"Single\", \"Single\", \"Single\", \"Single\", \"Single\", \"Single\", \"Single\", \"Single\", \"Single\", \"Single\", \"Single\", \"Single\", \"Single\", \"Single\", \"Single\", \"Single\", \"Single\", \"Single\", \"Single\", \"Single\", \"Single\", \"Single\", \"Single\", \"Single\", \"Single\", \"Single\", \"Single\", \"Single\", \"Single\", \"Single\", \"Single\", \"Single\", \"Single\", \"Single\", \"Single\", \"Single\", \"Single\", \"Single\", \"Single\", \"Single\", \"Single\", \"Single\", \"Single\", \"Single\", \"Single\", \"Single\", \"Single\", \"Single\", \"Single\", \"Single\", \"Single\", \"Single\", \"Single\", \"Single\", \"Single\", \"Single\", \"Single\", \"Single\", \"Single\", \"Single\", \"Single\", \"Single\", \"Single\", \"Single\", \"Single\", \"Single\", \"Single\", \"Single\", \"Single\", \"Single\", \"Single\", \"Single\", \"Single\", \"Single\", \"Single\", \"Single\", \"Single\", \"Single\", \"Single\", \"Single\", \"Single\", \"Single\", \"Single\", \"Single\", \"Single\", \"Single\", \"Single\", \"Single\", \"Single\", \"Single\", \"Single\", \"Single\", \"Single\", \"Single\", \"Single\", \"Single\", \"Single\", \"Single\", \"Single\", \"Single\", \"Single\", \"Single\", \"Single\", \"Single\", \"Single\", \"Single\", \"Single\", \"Single\", \"Single\", \"Single\", \"Single\", \"Single\", \"Single\", \"Single\", \"Single\", \"Single\", \"Single\", \"Single\", \"Single\", \"Single\", \"Single\", \"Single\", \"Single\", \"Single\", \"Single\", \"Single\", \"Single\", \"Single\", \"Single\", \"Single\", \"Single\", \"Single\", \"Single\", \"Single\", \"Single\", \"Single\", \"Single\", \"Single\", \"Single\", \"Single\", \"Single\", \"Single\", \"Single\", \"Single\", \"Single\", \"Single\", \"Single\", \"Single\", \"Single\", \"Single\", \"Single\", \"Single\", \"Single\", \"Single\", \"Single\", \"Single\", \"Single\", \"Single\", \"Single\", \"Single\", \"Single\", \"Single\", \"Single\", \"Single\", \"Single\", \"Single\", \"Single\", \"Single\", \"Single\", \"Single\", \"Single\", \"Single\", \"Single\", \"Single\", \"Single\", \"Single\", \"Single\", \"Single\", \"Single\", \"Single\", \"Single\", \"Single\", \"Single\", \"Single\", \"Single\", \"Single\", \"Single\", \"Single\", \"Single\", \"Single\", \"Single\", \"Single\", \"Single\", \"Single\", \"Single\", \"Single\", \"Single\", \"Single\", \"Single\", \"Single\", \"Single\", \"Single\", \"Single\", \"Single\", \"Single\", \"Single\", \"Single\", \"Single\", \"Single\", \"Single\", \"Single\", \"Single\", \"Single\", \"Single\", \"Single\", \"Single\", \"Single\", \"Single\", \"Single\", \"Single\", \"Single\", \"Single\", \"Single\", \"Single\", \"Single\", \"Single\", \"Single\", \"Single\", \"Single\", \"Single\", \"Single\", \"Single\", \"Single\", \"Single\", \"Single\", \"Single\", \"Single\", \"Single\", \"Single\", \"Single\", \"Single\", \"Single\", \"Single\", \"Single\", \"Single\", \"Single\", \"Single\", \"Single\", \"Single\", \"Single\", \"Single\", \"Single\", \"Single\", \"Single\", \"Single\", \"Single\", \"Single\", \"Single\", \"Single\", \"Single\", \"Single\", \"Single\", \"Single\", \"Single\", \"Single\", \"Single\", \"Single\", \"Single\", \"Single\", \"Single\", \"Single\", \"Single\", \"Single\", \"Single\", \"Single\", \"Single\", \"Single\", \"Single\", \"Single\", \"Single\", \"Single\", \"Single\", \"Single\", \"Single\", \"Single\", \"Single\", \"Single\", \"Single\", \"Single\", \"Single\", \"Single\", \"Single\", \"Single\", \"Single\", \"Single\", \"Single\", \"Single\", \"Single\", \"Single\", \"Single\", \"Single\", \"Single\", \"Single\", \"Single\", \"Single\", \"Single\", \"Single\", \"Single\", \"Single\", \"Single\", \"Single\", \"Single\", \"Single\", \"Single\", \"Single\", \"Single\", \"Single\", \"Single\", \"Single\", \"Single\", \"Single\", \"Single\", \"Single\", \"Single\", \"Single\", \"Single\", \"Single\", \"Single\", \"Single\", \"Single\", \"Single\", \"Single\", \"Single\", \"Single\", \"Single\", \"Single\", \"Single\", \"Single\", \"Single\", \"Single\", \"Single\", \"Single\", \"Single\", \"Single\", \"Single\", \"Single\", \"Single\", \"Single\", \"Single\", \"Single\", \"Single\", \"Single\", \"Single\", \"Single\", \"Single\", \"Single\", \"Single\", \"Single\", \"Single\", \"Single\", \"Single\", \"Single\", \"Single\", \"Single\", \"Single\", \"Single\", \"Single\", \"Single\", \"Single\", \"Single\", \"Single\", \"Single\", \"Single\", \"Single\", \"Single\", \"Single\"], \"xaxis\": \"x\", \"y\": [635, 11, 1006, 4, 6, 5, 40, 81, 123, 48, 12, 13, 11, 712, 523, 688, 1032, 64, 292, 7, 15, 53, 41, 76, 1332, 490, 64, 34, 722, 450, 962, 614, 212, 8, 536, 5, 277, 59, 35, 96, 265, 22, 6, 12, 231, 0, 415, 5, 8, 14, 16, 3, 24, 138, 12, 11, 778, 16, 216, 196, 395, 80, 675, 768, 91, 738, 424, 68, 9, 40, 456, 452, 1048, 22, 404, 789, 7, 977, 38, 57, 3, 10, 3, 12, 4, 375, 2, 67, 416, 19, 4, 85, 822, 1248, 25, 10, 398, 430, 14, 606, 789, 4, 20, 138, 691, 493, 325, 1288, 11, 982, 1000, 619, 11, 19, 252, 15, 6, 458, 308, 249, 747, 14, 51, 19, 292, 36, 400, 88, 101, 389, 27, 17, 10, 215, 41, 10, 514, 387, 305, 1000, 100, 1, 327, 789, 187, 365, 899, 466, 4, 20, 273, 1184, 664, 6, 8, 948, 28, 283, 4, 245, 39, 203, 392, 70, 26, 522, 412, 2, 4, 31, 219, 606, 604, 12, 184, 68, 840, 464, 351, 191, 31, 479, 5, 605, 547, 104, 224, 265, 88, 275, 6, 515, 48, 387, 6, 899, 189, 852, 0, 825, 494, 464, 604, 770, 156, 960, 315, 15, 871, 375, 31, 819, 203, 371, 480, 7, 20, 263, 492, 311, 218, 4, 1285, 157, 10, 154, 18, 19, 4, 576, 39, 68, 73, 80, 347, 631, 124, 530, 234, 251, 918, 4, 336, 68, 38, 162, 160, 760, 709, 12, 1000, 19, 381, 23, 957, 1, 6, 1067, 56, 10, 35, 364, 1156, 6, 4, 5, 899, 87, 48, 279, 62, 1, 618, 95, 1, 411, 10, 46, 630, 420, 125, 14, 4, 52, 6, 556, 37, 173, 67, 774, 139, 2, 6, 420, 231, 182, 557, 79, 543, 254, 143, 27, 283, 347, 5, 8, 204, 52, 191, 279, 977, 7, 33, 9, 703, 37, 1302, 29, 556, 112, 265, 553, 1181, 57, 60, 3, 910, 34, 2, 784, 57, 104, 9, 448, 14, 51, 268, 928, 1006, 1156, 255, 85, 322, 141, 342, 456, 836, 100, 158, 313, 479, 980, 30, 1003, 239, 19, 40, 21, 202, 1, 493, 493, 494, 1, 6, 2, 520, 704, 172, 5, 9, 204, 245, 56, 3, 3, 80, 16, 347, 64, 0, 93, 153, 52, 34, 163, 29, 231, 81, 12, 965, 777, 503, 79, 37, 2, 536, 712, 68, 162, 3, 31, 502, 1, 581, 6, 185, 273, 1020, 6, 15, 957, 159, 23, 18, 23, 1324, 1193, 505, 652, 154, 22, 18, 144, 483, 338, 172, 448, 50, 23, 58, 3, 280, 1276, 1017, 90, 7, 10, 68, 94, 995, 240, 202, 433, 45, 676, 367, 51, 28, 23, 124, 264, 16, 178, 830, 816, 960, 2, 654, 912, 89, 1, 62, 162, 23, 492, 2, 671, 12, 56, 5, 266, 158, 594, 712, 580, 229, 24, 853, 5], \"yaxis\": \"y\"}, {\"hovertemplate\": \"marital_status=%{x}<br>mntwines=%{y}<extra></extra>\", \"legendgroup\": \"Together\", \"marker\": {\"color\": \"#EF553B\", \"symbol\": \"circle\"}, \"mode\": \"markers\", \"name\": \"Together\", \"showlegend\": true, \"type\": \"scattergl\", \"x\": [\"Together\", \"Together\", \"Together\", \"Together\", \"Together\", \"Together\", \"Together\", \"Together\", \"Together\", \"Together\", \"Together\", \"Together\", \"Together\", \"Together\", \"Together\", \"Together\", \"Together\", \"Together\", \"Together\", \"Together\", \"Together\", \"Together\", \"Together\", \"Together\", \"Together\", \"Together\", \"Together\", \"Together\", \"Together\", \"Together\", \"Together\", \"Together\", \"Together\", \"Together\", \"Together\", \"Together\", \"Together\", \"Together\", \"Together\", \"Together\", \"Together\", \"Together\", \"Together\", \"Together\", \"Together\", \"Together\", \"Together\", \"Together\", \"Together\", \"Together\", \"Together\", \"Together\", \"Together\", \"Together\", \"Together\", \"Together\", \"Together\", \"Together\", \"Together\", \"Together\", \"Together\", \"Together\", \"Together\", \"Together\", \"Together\", \"Together\", \"Together\", \"Together\", \"Together\", \"Together\", \"Together\", \"Together\", \"Together\", \"Together\", \"Together\", \"Together\", \"Together\", \"Together\", \"Together\", \"Together\", \"Together\", \"Together\", \"Together\", \"Together\", \"Together\", \"Together\", \"Together\", \"Together\", \"Together\", \"Together\", \"Together\", \"Together\", \"Together\", \"Together\", \"Together\", \"Together\", \"Together\", \"Together\", \"Together\", \"Together\", \"Together\", \"Together\", \"Together\", \"Together\", \"Together\", \"Together\", \"Together\", \"Together\", \"Together\", \"Together\", \"Together\", \"Together\", \"Together\", \"Together\", \"Together\", \"Together\", \"Together\", \"Together\", \"Together\", \"Together\", \"Together\", \"Together\", \"Together\", \"Together\", \"Together\", \"Together\", \"Together\", \"Together\", \"Together\", \"Together\", \"Together\", \"Together\", \"Together\", \"Together\", \"Together\", \"Together\", \"Together\", \"Together\", \"Together\", \"Together\", \"Together\", \"Together\", \"Together\", \"Together\", \"Together\", \"Together\", \"Together\", \"Together\", \"Together\", \"Together\", \"Together\", \"Together\", \"Together\", \"Together\", \"Together\", \"Together\", \"Together\", \"Together\", \"Together\", \"Together\", \"Together\", \"Together\", \"Together\", \"Together\", \"Together\", \"Together\", \"Together\", \"Together\", \"Together\", \"Together\", \"Together\", \"Together\", \"Together\", \"Together\", \"Together\", \"Together\", \"Together\", \"Together\", \"Together\", \"Together\", \"Together\", \"Together\", \"Together\", \"Together\", \"Together\", \"Together\", \"Together\", \"Together\", \"Together\", \"Together\", \"Together\", \"Together\", \"Together\", \"Together\", \"Together\", \"Together\", \"Together\", \"Together\", \"Together\", \"Together\", \"Together\", \"Together\", \"Together\", \"Together\", \"Together\", \"Together\", \"Together\", \"Together\", \"Together\", \"Together\", \"Together\", \"Together\", \"Together\", \"Together\", \"Together\", \"Together\", \"Together\", \"Together\", \"Together\", \"Together\", \"Together\", \"Together\", \"Together\", \"Together\", \"Together\", \"Together\", \"Together\", \"Together\", \"Together\", \"Together\", \"Together\", \"Together\", \"Together\", \"Together\", \"Together\", \"Together\", \"Together\", \"Together\", \"Together\", \"Together\", \"Together\", \"Together\", \"Together\", \"Together\", \"Together\", \"Together\", \"Together\", \"Together\", \"Together\", \"Together\", \"Together\", \"Together\", \"Together\", \"Together\", \"Together\", \"Together\", \"Together\", \"Together\", \"Together\", \"Together\", \"Together\", \"Together\", \"Together\", \"Together\", \"Together\", \"Together\", \"Together\", \"Together\", \"Together\", \"Together\", \"Together\", \"Together\", \"Together\", \"Together\", \"Together\", \"Together\", \"Together\", \"Together\", \"Together\", \"Together\", \"Together\", \"Together\", \"Together\", \"Together\", \"Together\", \"Together\", \"Together\", \"Together\", \"Together\", \"Together\", \"Together\", \"Together\", \"Together\", \"Together\", \"Together\", \"Together\", \"Together\", \"Together\", \"Together\", \"Together\", \"Together\", \"Together\", \"Together\", \"Together\", \"Together\", \"Together\", \"Together\", \"Together\", \"Together\", \"Together\", \"Together\", \"Together\", \"Together\", \"Together\", \"Together\", \"Together\", \"Together\", \"Together\", \"Together\", \"Together\", \"Together\", \"Together\", \"Together\", \"Together\", \"Together\", \"Together\", \"Together\", \"Together\", \"Together\", \"Together\", \"Together\", \"Together\", \"Together\", \"Together\", \"Together\", \"Together\", \"Together\", \"Together\", \"Together\", \"Together\", \"Together\", \"Together\", \"Together\", \"Together\", \"Together\", \"Together\", \"Together\", \"Together\", \"Together\", \"Together\", \"Together\", \"Together\", \"Together\", \"Together\", \"Together\", \"Together\", \"Together\", \"Together\", \"Together\", \"Together\", \"Together\", \"Together\", \"Together\", \"Together\", \"Together\", \"Together\", \"Together\", \"Together\", \"Together\", \"Together\", \"Together\", \"Together\", \"Together\", \"Together\", \"Together\", \"Together\", \"Together\", \"Together\", \"Together\", \"Together\", \"Together\", \"Together\", \"Together\", \"Together\", \"Together\", \"Together\", \"Together\", \"Together\", \"Together\", \"Together\", \"Together\", \"Together\", \"Together\", \"Together\", \"Together\", \"Together\", \"Together\", \"Together\", \"Together\", \"Together\", \"Together\", \"Together\", \"Together\", \"Together\", \"Together\", \"Together\", \"Together\", \"Together\", \"Together\", \"Together\", \"Together\", \"Together\", \"Together\", \"Together\", \"Together\", \"Together\", \"Together\", \"Together\", \"Together\", \"Together\", \"Together\", \"Together\", \"Together\", \"Together\", \"Together\", \"Together\", \"Together\", \"Together\", \"Together\", \"Together\", \"Together\", \"Together\", \"Together\", \"Together\", \"Together\", \"Together\", \"Together\", \"Together\", \"Together\", \"Together\", \"Together\", \"Together\", \"Together\", \"Together\", \"Together\", \"Together\", \"Together\", \"Together\", \"Together\", \"Together\", \"Together\", \"Together\", \"Together\", \"Together\", \"Together\", \"Together\", \"Together\", \"Together\", \"Together\", \"Together\", \"Together\", \"Together\", \"Together\", \"Together\", \"Together\", \"Together\", \"Together\", \"Together\", \"Together\", \"Together\", \"Together\", \"Together\", \"Together\", \"Together\", \"Together\", \"Together\", \"Together\", \"Together\", \"Together\", \"Together\", \"Together\", \"Together\", \"Together\", \"Together\", \"Together\", \"Together\", \"Together\", \"Together\", \"Together\", \"Together\", \"Together\", \"Together\", \"Together\", \"Together\", \"Together\", \"Together\", \"Together\", \"Together\", \"Together\", \"Together\", \"Together\", \"Together\", \"Together\", \"Together\", \"Together\", \"Together\", \"Together\", \"Together\", \"Together\", \"Together\", \"Together\", \"Together\", \"Together\", \"Together\", \"Together\", \"Together\", \"Together\", \"Together\", \"Together\", \"Together\", \"Together\", \"Together\", \"Together\", \"Together\", \"Together\", \"Together\", \"Together\", \"Together\", \"Together\", \"Together\", \"Together\", \"Together\", \"Together\", \"Together\", \"Together\", \"Together\", \"Together\", \"Together\", \"Together\", \"Together\", \"Together\", \"Together\", \"Together\", \"Together\", \"Together\", \"Together\", \"Together\", \"Together\", \"Together\", \"Together\", \"Together\", \"Together\", \"Together\", \"Together\", \"Together\", \"Together\", \"Together\", \"Together\", \"Together\", \"Together\", \"Together\", \"Together\", \"Together\", \"Together\", \"Together\", \"Together\", \"Together\", \"Together\", \"Together\", \"Together\", \"Together\", \"Together\", \"Together\", \"Together\", \"Together\", \"Together\", \"Together\", \"Together\", \"Together\", \"Together\"], \"xaxis\": \"x\", \"y\": [426, 11, 520, 14, 28, 84, 270, 112, 110, 9, 13, 984, 452, 398, 10, 247, 856, 1, 577, 112, 135, 445, 386, 1, 425, 527, 12, 1, 320, 162, 492, 796, 738, 32, 6, 233, 888, 997, 42, 18, 15, 7, 81, 2, 1, 466, 763, 7, 72, 613, 410, 824, 30, 520, 131, 297, 4, 3, 18, 382, 960, 45, 650, 918, 177, 10, 167, 625, 68, 297, 84, 204, 304, 285, 20, 39, 8, 9, 1241, 65, 513, 14, 154, 24, 11, 856, 755, 378, 1, 269, 833, 1043, 314, 571, 70, 594, 140, 919, 5, 6, 610, 65, 14, 583, 2, 966, 2, 2, 515, 31, 398, 1239, 639, 746, 407, 738, 1170, 983, 1396, 529, 13, 28, 31, 127, 1168, 284, 227, 881, 456, 172, 78, 99, 1, 198, 90, 1492, 465, 189, 6, 12, 200, 56, 145, 270, 9, 46, 31, 399, 8, 12, 6, 31, 526, 80, 85, 1001, 603, 571, 586, 1200, 1009, 315, 16, 30, 111, 45, 410, 509, 4, 14, 34, 116, 565, 760, 260, 67, 2, 434, 712, 299, 99, 9, 412, 349, 138, 509, 39, 13, 901, 518, 350, 709, 359, 799, 595, 107, 13, 680, 6, 6, 18, 521, 627, 410, 376, 1492, 3, 421, 2, 18, 724, 24, 27, 13, 167, 46, 243, 121, 4, 1308, 4, 562, 769, 12, 889, 230, 316, 243, 181, 151, 29, 571, 741, 38, 812, 73, 471, 26, 354, 517, 1111, 6, 11, 42, 30, 14, 197, 186, 59, 829, 1206, 729, 393, 795, 15, 4, 901, 1230, 81, 63, 127, 38, 986, 61, 806, 380, 458, 26, 292, 14, 75, 8, 336, 743, 26, 736, 473, 288, 1050, 9, 5, 152, 8, 227, 6, 211, 1224, 2, 41, 717, 166, 320, 29, 46, 454, 897, 777, 258, 454, 241, 28, 5, 373, 108, 291, 35, 87, 309, 172, 625, 972, 132, 919, 23, 18, 18, 97, 997, 244, 152, 12, 5, 736, 1142, 25, 817, 113, 62, 20, 545, 39, 1111, 606, 266, 771, 202, 209, 171, 20, 170, 491, 345, 358, 274, 641, 794, 1, 368, 488, 51, 280, 187, 84, 19, 25, 9, 19, 709, 10, 25, 172, 2, 68, 7, 30, 5, 26, 14, 966, 587, 399, 56, 167, 458, 15, 290, 38, 2, 901, 846, 69, 526, 2, 378, 751, 406, 123, 1259, 344, 896, 931, 216, 350, 620, 2, 252, 53, 7, 215, 33, 505, 65, 292, 167, 459, 233, 35, 1252, 8, 368, 33, 45, 108, 2, 202, 18, 23, 6, 98, 398, 109, 16, 11, 410, 159, 5, 269, 9, 8, 230, 1, 340, 1, 213, 284, 51, 446, 8, 690, 43, 691, 11, 582, 6, 962, 112, 44, 75, 87, 194, 505, 48, 482, 136, 275, 303, 1, 918, 178, 358, 376, 194, 71, 653, 199, 46, 600, 425, 18, 734, 135, 734, 340, 453, 1073, 135, 620, 27, 438, 17, 402, 5, 362, 367, 298, 16, 159, 97, 56, 86, 389, 239, 2, 539, 36, 174, 28, 284, 938, 664, 355, 957, 1, 378, 45, 493, 829, 15, 8, 19, 69, 1285, 8, 499, 381, 631, 913, 199, 9, 6, 226, 561, 908, 12, 8, 22, 9, 520, 5, 384, 208, 848, 25, 375, 39, 587, 29, 16, 376, 161, 0, 121, 520, 240, 529, 728, 7, 35, 742, 750, 37, 4, 54, 997, 890, 4, 25, 24, 141, 9, 11, 224, 200, 224, 116, 240, 293, 41, 3, 519, 4, 18, 5, 171, 2, 368, 32, 9, 406, 428], \"yaxis\": \"y\"}, {\"hovertemplate\": \"marital_status=%{x}<br>mntwines=%{y}<extra></extra>\", \"legendgroup\": \"Married\", \"marker\": {\"color\": \"#00cc96\", \"symbol\": \"circle\"}, \"mode\": \"markers\", \"name\": \"Married\", \"showlegend\": true, \"type\": \"scattergl\", \"x\": [\"Married\", \"Married\", \"Married\", \"Married\", \"Married\", \"Married\", \"Married\", \"Married\", \"Married\", \"Married\", \"Married\", \"Married\", \"Married\", \"Married\", \"Married\", \"Married\", \"Married\", \"Married\", \"Married\", \"Married\", \"Married\", \"Married\", \"Married\", \"Married\", \"Married\", \"Married\", \"Married\", \"Married\", \"Married\", \"Married\", \"Married\", \"Married\", \"Married\", \"Married\", \"Married\", \"Married\", \"Married\", \"Married\", \"Married\", \"Married\", \"Married\", \"Married\", \"Married\", \"Married\", \"Married\", \"Married\", \"Married\", \"Married\", \"Married\", \"Married\", \"Married\", \"Married\", \"Married\", \"Married\", \"Married\", \"Married\", \"Married\", \"Married\", \"Married\", \"Married\", \"Married\", \"Married\", \"Married\", \"Married\", \"Married\", \"Married\", \"Married\", \"Married\", \"Married\", \"Married\", \"Married\", \"Married\", \"Married\", \"Married\", \"Married\", \"Married\", \"Married\", \"Married\", \"Married\", \"Married\", \"Married\", \"Married\", \"Married\", \"Married\", \"Married\", \"Married\", \"Married\", \"Married\", \"Married\", \"Married\", \"Married\", \"Married\", \"Married\", \"Married\", \"Married\", \"Married\", \"Married\", \"Married\", \"Married\", \"Married\", \"Married\", \"Married\", \"Married\", \"Married\", \"Married\", \"Married\", \"Married\", \"Married\", \"Married\", \"Married\", \"Married\", \"Married\", \"Married\", \"Married\", \"Married\", \"Married\", \"Married\", \"Married\", \"Married\", \"Married\", \"Married\", \"Married\", \"Married\", \"Married\", \"Married\", \"Married\", \"Married\", \"Married\", \"Married\", \"Married\", \"Married\", \"Married\", \"Married\", \"Married\", \"Married\", \"Married\", \"Married\", \"Married\", \"Married\", \"Married\", \"Married\", \"Married\", \"Married\", \"Married\", \"Married\", \"Married\", \"Married\", \"Married\", \"Married\", \"Married\", \"Married\", \"Married\", \"Married\", \"Married\", \"Married\", \"Married\", \"Married\", \"Married\", \"Married\", \"Married\", \"Married\", \"Married\", \"Married\", \"Married\", \"Married\", \"Married\", \"Married\", \"Married\", \"Married\", \"Married\", \"Married\", \"Married\", \"Married\", \"Married\", \"Married\", \"Married\", \"Married\", \"Married\", \"Married\", \"Married\", \"Married\", \"Married\", \"Married\", \"Married\", \"Married\", \"Married\", \"Married\", \"Married\", \"Married\", \"Married\", \"Married\", \"Married\", \"Married\", \"Married\", \"Married\", \"Married\", \"Married\", \"Married\", \"Married\", \"Married\", \"Married\", \"Married\", \"Married\", \"Married\", \"Married\", \"Married\", \"Married\", \"Married\", \"Married\", \"Married\", \"Married\", \"Married\", \"Married\", \"Married\", \"Married\", \"Married\", \"Married\", \"Married\", \"Married\", \"Married\", \"Married\", \"Married\", \"Married\", \"Married\", \"Married\", \"Married\", \"Married\", \"Married\", \"Married\", \"Married\", \"Married\", \"Married\", \"Married\", \"Married\", \"Married\", \"Married\", \"Married\", \"Married\", \"Married\", \"Married\", \"Married\", \"Married\", \"Married\", \"Married\", \"Married\", \"Married\", \"Married\", \"Married\", \"Married\", \"Married\", \"Married\", \"Married\", \"Married\", \"Married\", \"Married\", \"Married\", \"Married\", \"Married\", \"Married\", \"Married\", \"Married\", \"Married\", \"Married\", \"Married\", \"Married\", \"Married\", \"Married\", \"Married\", \"Married\", \"Married\", \"Married\", \"Married\", \"Married\", \"Married\", \"Married\", \"Married\", \"Married\", \"Married\", \"Married\", \"Married\", \"Married\", \"Married\", \"Married\", \"Married\", \"Married\", \"Married\", \"Married\", \"Married\", \"Married\", \"Married\", \"Married\", \"Married\", \"Married\", \"Married\", \"Married\", \"Married\", \"Married\", \"Married\", \"Married\", \"Married\", \"Married\", \"Married\", \"Married\", \"Married\", \"Married\", \"Married\", \"Married\", \"Married\", \"Married\", \"Married\", \"Married\", \"Married\", \"Married\", \"Married\", \"Married\", \"Married\", \"Married\", \"Married\", \"Married\", \"Married\", \"Married\", \"Married\", \"Married\", \"Married\", \"Married\", \"Married\", \"Married\", \"Married\", \"Married\", \"Married\", \"Married\", \"Married\", \"Married\", \"Married\", \"Married\", \"Married\", \"Married\", \"Married\", \"Married\", \"Married\", \"Married\", \"Married\", \"Married\", \"Married\", \"Married\", \"Married\", \"Married\", \"Married\", \"Married\", \"Married\", \"Married\", \"Married\", \"Married\", \"Married\", \"Married\", \"Married\", \"Married\", \"Married\", \"Married\", \"Married\", \"Married\", \"Married\", \"Married\", \"Married\", \"Married\", \"Married\", \"Married\", \"Married\", \"Married\", \"Married\", \"Married\", \"Married\", \"Married\", \"Married\", \"Married\", \"Married\", \"Married\", \"Married\", \"Married\", \"Married\", \"Married\", \"Married\", \"Married\", \"Married\", \"Married\", \"Married\", \"Married\", \"Married\", \"Married\", \"Married\", \"Married\", \"Married\", \"Married\", \"Married\", \"Married\", \"Married\", \"Married\", \"Married\", \"Married\", \"Married\", \"Married\", \"Married\", \"Married\", \"Married\", \"Married\", \"Married\", \"Married\", \"Married\", \"Married\", \"Married\", \"Married\", \"Married\", \"Married\", \"Married\", \"Married\", \"Married\", \"Married\", \"Married\", \"Married\", \"Married\", \"Married\", \"Married\", \"Married\", \"Married\", \"Married\", \"Married\", \"Married\", \"Married\", \"Married\", \"Married\", \"Married\", \"Married\", \"Married\", \"Married\", \"Married\", \"Married\", \"Married\", \"Married\", \"Married\", \"Married\", \"Married\", \"Married\", \"Married\", \"Married\", \"Married\", \"Married\", \"Married\", \"Married\", \"Married\", \"Married\", \"Married\", \"Married\", \"Married\", \"Married\", \"Married\", \"Married\", \"Married\", \"Married\", \"Married\", \"Married\", \"Married\", \"Married\", \"Married\", \"Married\", \"Married\", \"Married\", \"Married\", \"Married\", \"Married\", \"Married\", \"Married\", \"Married\", \"Married\", \"Married\", \"Married\", \"Married\", \"Married\", \"Married\", \"Married\", \"Married\", \"Married\", \"Married\", \"Married\", \"Married\", \"Married\", \"Married\", \"Married\", \"Married\", \"Married\", \"Married\", \"Married\", \"Married\", \"Married\", \"Married\", \"Married\", \"Married\", \"Married\", \"Married\", \"Married\", \"Married\", \"Married\", \"Married\", \"Married\", \"Married\", \"Married\", \"Married\", \"Married\", \"Married\", \"Married\", \"Married\", \"Married\", \"Married\", \"Married\", \"Married\", \"Married\", \"Married\", \"Married\", \"Married\", \"Married\", \"Married\", \"Married\", \"Married\", \"Married\", \"Married\", \"Married\", \"Married\", \"Married\", \"Married\", \"Married\", \"Married\", \"Married\", \"Married\", \"Married\", \"Married\", \"Married\", \"Married\", \"Married\", \"Married\", \"Married\", \"Married\", \"Married\", \"Married\", \"Married\", \"Married\", \"Married\", \"Married\", \"Married\", \"Married\", \"Married\", \"Married\", \"Married\", \"Married\", \"Married\", \"Married\", \"Married\", \"Married\", \"Married\", \"Married\", \"Married\", \"Married\", \"Married\", \"Married\", \"Married\", \"Married\", \"Married\", \"Married\", \"Married\", \"Married\", \"Married\", \"Married\", \"Married\", \"Married\", \"Married\", \"Married\", \"Married\", \"Married\", \"Married\", \"Married\", \"Married\", \"Married\", \"Married\", \"Married\", \"Married\", \"Married\", \"Married\", \"Married\", \"Married\", \"Married\", \"Married\", \"Married\", \"Married\", \"Married\", \"Married\", \"Married\", \"Married\", \"Married\", \"Married\", \"Married\", \"Married\", \"Married\", \"Married\", \"Married\", \"Married\", \"Married\", \"Married\", \"Married\", \"Married\", \"Married\", \"Married\", \"Married\", \"Married\", \"Married\", \"Married\", \"Married\", \"Married\", \"Married\", \"Married\", \"Married\", \"Married\", \"Married\", \"Married\", \"Married\", \"Married\", \"Married\", \"Married\", \"Married\", \"Married\", \"Married\", \"Married\", \"Married\", \"Married\", \"Married\", \"Married\", \"Married\", \"Married\", \"Married\", \"Married\", \"Married\", \"Married\", \"Married\", \"Married\", \"Married\", \"Married\", \"Married\", \"Married\", \"Married\", \"Married\", \"Married\", \"Married\", \"Married\", \"Married\", \"Married\", \"Married\", \"Married\", \"Married\", \"Married\", \"Married\", \"Married\", \"Married\", \"Married\", \"Married\", \"Married\", \"Married\", \"Married\", \"Married\", \"Married\", \"Married\", \"Married\", \"Married\", \"Married\", \"Married\", \"Married\", \"Married\", \"Married\", \"Married\", \"Married\", \"Married\", \"Married\", \"Married\", \"Married\", \"Married\", \"Married\", \"Married\", \"Married\", \"Married\", \"Married\", \"Married\", \"Married\", \"Married\", \"Married\", \"Married\", \"Married\", \"Married\", \"Married\", \"Married\", \"Married\", \"Married\", \"Married\", \"Married\", \"Married\", \"Married\", \"Married\", \"Married\", \"Married\", \"Married\", \"Married\", \"Married\", \"Married\", \"Married\", \"Married\", \"Married\", \"Married\", \"Married\", \"Married\", \"Married\", \"Married\", \"Married\", \"Married\", \"Married\", \"Married\", \"Married\", \"Married\", \"Married\", \"Married\", \"Married\", \"Married\", \"Married\", \"Married\", \"Married\", \"Married\", \"Married\", \"Married\", \"Married\", \"Married\", \"Married\", \"Married\", \"Married\", \"Married\", \"Married\", \"Married\", \"Married\", \"Married\", \"Married\", \"Married\", \"Married\", \"Married\", \"Married\", \"Married\", \"Married\", \"Married\", \"Married\", \"Married\", \"Married\", \"Married\", \"Married\", \"Married\", \"Married\", \"Married\", \"Married\", \"Married\", \"Married\", \"Married\", \"Married\", \"Married\", \"Married\", \"Married\", \"Married\", \"Married\", \"Married\", \"Married\", \"Married\", \"Married\", \"Married\", \"Married\", \"Married\", \"Married\", \"Married\", \"Married\", \"Married\", \"Married\", \"Married\", \"Married\", \"Married\", \"Married\", \"Married\", \"Married\", \"Married\", \"Married\", \"Married\", \"Married\", \"Married\", \"Married\", \"Married\", \"Married\", \"Married\", \"Married\", \"Married\", \"Married\", \"Married\", \"Married\", \"Married\", \"Married\", \"Married\", \"Married\", \"Married\", \"Married\", \"Married\", \"Married\", \"Married\", \"Married\", \"Married\", \"Married\", \"Married\", \"Married\", \"Married\", \"Married\", \"Married\", \"Married\", \"Married\", \"Married\", \"Married\", \"Married\", \"Married\", \"Married\", \"Married\", \"Married\", \"Married\", \"Married\", \"Married\", \"Married\", \"Married\", \"Married\", \"Married\", \"Married\", \"Married\", \"Married\", \"Married\", \"Married\", \"Married\", \"Married\", \"Married\", \"Married\", \"Married\", \"Married\", \"Married\", \"Married\", \"Married\", \"Married\", \"Married\", \"Married\", \"Married\", \"Married\", \"Married\", \"Married\", \"Married\", \"Married\", \"Married\", \"Married\", \"Married\", \"Married\", \"Married\", \"Married\", \"Married\", \"Married\"], \"xaxis\": \"x\", \"y\": [173, 76, 5, 6, 3, 53, 1012, 86, 1, 867, 384, 173, 36, 684, 482, 702, 6, 421, 13, 3, 3, 826, 650, 328, 447, 1, 496, 25, 258, 565, 14, 721, 4, 25, 17, 130, 350, 230, 27, 5, 207, 135, 562, 217, 144, 295, 454, 378, 547, 47, 9, 70, 352, 120, 236, 231, 220, 53, 399, 598, 2, 73, 42, 295, 346, 1349, 53, 20, 12, 85, 1149, 847, 29, 207, 152, 12, 620, 47, 1, 10, 356, 783, 42, 23, 235, 10, 656, 519, 344, 54, 224, 239, 171, 1076, 377, 155, 792, 562, 5, 559, 789, 11, 1218, 925, 864, 167, 9, 38, 483, 77, 182, 13, 4, 26, 15, 777, 37, 525, 509, 25, 861, 185, 44, 11, 412, 3, 792, 22, 33, 909, 23, 10, 1103, 30, 9, 495, 656, 546, 78, 561, 629, 736, 19, 9, 247, 333, 10, 159, 11, 3, 73, 102, 554, 96, 23, 370, 407, 1200, 483, 604, 19, 5, 1076, 1285, 10, 551, 800, 378, 235, 438, 99, 1, 5, 77, 3, 0, 14, 208, 656, 141, 507, 164, 116, 143, 522, 483, 7, 335, 563, 2, 22, 478, 451, 371, 281, 19, 213, 502, 11, 388, 16, 1047, 225, 34, 238, 65, 1035, 179, 1379, 32, 8, 141, 206, 112, 1478, 8, 42, 14, 17, 30, 179, 557, 7, 30, 129, 98, 32, 25, 1050, 117, 9, 203, 37, 264, 817, 130, 19, 4, 410, 8, 410, 2, 25, 215, 179, 352, 390, 10, 1181, 129, 121, 707, 163, 721, 757, 3, 2, 6, 26, 111, 418, 275, 1, 1004, 56, 55, 92, 212, 656, 23, 1, 749, 670, 524, 6, 597, 7, 54, 445, 292, 328, 967, 432, 0, 307, 2, 769, 778, 895, 40, 76, 11, 647, 138, 587, 43, 301, 180, 794, 39, 1, 4, 327, 184, 183, 479, 24, 330, 28, 1039, 411, 34, 161, 623, 3, 393, 7, 642, 8, 7, 30, 1279, 25, 336, 91, 2, 362, 8, 384, 556, 408, 34, 374, 600, 0, 29, 27, 22, 48, 35, 255, 194, 183, 102, 63, 398, 1478, 19, 372, 760, 1, 1253, 1166, 261, 20, 115, 69, 80, 97, 693, 43, 14, 434, 16, 318, 292, 30, 674, 284, 1023, 1394, 3, 384, 349, 223, 397, 14, 30, 90, 635, 13, 45, 4, 201, 5, 350, 45, 359, 403, 34, 30, 463, 538, 635, 1315, 12, 192, 241, 1099, 397, 10, 444, 32, 1001, 7, 172, 565, 652, 938, 105, 614, 70, 120, 11, 53, 7, 391, 199, 16, 88, 508, 74, 110, 815, 8, 29, 229, 23, 350, 5, 162, 342, 658, 356, 213, 457, 210, 441, 19, 476, 0, 0, 863, 349, 184, 8, 277, 134, 24, 27, 57, 43, 964, 572, 63, 221, 140, 544, 684, 1, 157, 2, 51, 952, 11, 318, 56, 303, 5, 46, 790, 882, 615, 1004, 133, 293, 313, 151, 15, 28, 489, 145, 760, 464, 1090, 3, 24, 254, 13, 7, 462, 22, 968, 283, 1, 30, 558, 4, 546, 1142, 1074, 371, 35, 12, 44, 779, 7, 1205, 10, 97, 6, 73, 711, 163, 82, 66, 262, 1099, 32, 6, 135, 86, 823, 8, 6, 5, 134, 689, 5, 18, 992, 158, 14, 622, 100, 201, 642, 97, 513, 88, 329, 296, 422, 1218, 5, 507, 20, 20, 6, 3, 14, 10, 12, 693, 16, 201, 14, 29, 9, 99, 482, 714, 227, 153, 30, 443, 9, 8, 72, 169, 460, 73, 944, 2, 1449, 267, 22, 247, 758, 244, 539, 750, 306, 331, 434, 811, 423, 675, 30, 40, 19, 490, 1171, 674, 5, 1000, 267, 10, 11, 173, 423, 757, 12, 29, 411, 5, 46, 483, 733, 34, 7, 244, 34, 48, 158, 754, 199, 739, 18, 378, 1083, 12, 35, 548, 365, 397, 5, 10, 238, 86, 856, 4, 216, 105, 629, 217, 24, 298, 3, 539, 593, 21, 1181, 1004, 1184, 390, 726, 50, 308, 22, 27, 6, 205, 24, 9, 12, 532, 387, 56, 70, 293, 199, 1060, 940, 342, 5, 462, 2, 979, 533, 6, 560, 173, 22, 324, 620, 1493, 98, 24, 31, 138, 166, 707, 5, 465, 1, 123, 102, 21, 206, 71, 920, 376, 11, 18, 292, 572, 369, 387, 15, 674, 686, 63, 209, 198, 313, 179, 5, 2, 383, 322, 707, 666, 407, 823, 407, 1218, 15, 22, 175, 864, 25, 42, 272, 279, 398, 637, 21, 15, 1017, 32, 200, 2, 1103, 353, 379, 46, 162, 8, 17, 340, 8, 2, 1050, 274, 68, 145, 217, 256, 512, 20, 261, 111, 16, 63, 29, 28, 879, 62, 182, 83, 38, 228, 85, 448, 504, 239, 16, 35, 575, 228, 11, 3, 14, 106, 820, 753, 13, 315, 15, 110, 555, 11, 6, 37, 167, 129, 713, 450, 22, 724, 757, 40, 1245, 19, 184, 15, 627, 14, 71, 8, 293, 758, 656, 196, 835, 9, 26, 1486, 1115, 29, 13, 934, 2, 4, 62, 173, 188, 0, 99, 176, 356, 1311, 2, 1, 301, 23, 4, 71, 35, 496, 9, 26, 576, 1013, 675, 572, 626, 1074, 254, 22, 516, 14, 28, 530, 519, 611, 4, 9, 556, 833, 297, 39, 366, 32, 269, 12, 270, 21, 457, 3, 3, 709, 84], \"yaxis\": \"y\"}, {\"hovertemplate\": \"marital_status=%{x}<br>mntwines=%{y}<extra></extra>\", \"legendgroup\": \"Divorced\", \"marker\": {\"color\": \"#ab63fa\", \"symbol\": \"circle\"}, \"mode\": \"markers\", \"name\": \"Divorced\", \"showlegend\": true, \"type\": \"scattergl\", \"x\": [\"Divorced\", \"Divorced\", \"Divorced\", \"Divorced\", \"Divorced\", \"Divorced\", \"Divorced\", \"Divorced\", \"Divorced\", \"Divorced\", \"Divorced\", \"Divorced\", \"Divorced\", \"Divorced\", \"Divorced\", \"Divorced\", \"Divorced\", \"Divorced\", \"Divorced\", \"Divorced\", \"Divorced\", \"Divorced\", \"Divorced\", \"Divorced\", \"Divorced\", \"Divorced\", \"Divorced\", \"Divorced\", \"Divorced\", \"Divorced\", \"Divorced\", \"Divorced\", \"Divorced\", \"Divorced\", \"Divorced\", \"Divorced\", \"Divorced\", \"Divorced\", \"Divorced\", \"Divorced\", \"Divorced\", \"Divorced\", \"Divorced\", \"Divorced\", \"Divorced\", \"Divorced\", \"Divorced\", \"Divorced\", \"Divorced\", \"Divorced\", \"Divorced\", \"Divorced\", \"Divorced\", \"Divorced\", \"Divorced\", \"Divorced\", \"Divorced\", \"Divorced\", \"Divorced\", \"Divorced\", \"Divorced\", \"Divorced\", \"Divorced\", \"Divorced\", \"Divorced\", \"Divorced\", \"Divorced\", \"Divorced\", \"Divorced\", \"Divorced\", \"Divorced\", \"Divorced\", \"Divorced\", \"Divorced\", \"Divorced\", \"Divorced\", \"Divorced\", \"Divorced\", \"Divorced\", \"Divorced\", \"Divorced\", \"Divorced\", \"Divorced\", \"Divorced\", \"Divorced\", \"Divorced\", \"Divorced\", \"Divorced\", \"Divorced\", \"Divorced\", \"Divorced\", \"Divorced\", \"Divorced\", \"Divorced\", \"Divorced\", \"Divorced\", \"Divorced\", \"Divorced\", \"Divorced\", \"Divorced\", \"Divorced\", \"Divorced\", \"Divorced\", \"Divorced\", \"Divorced\", \"Divorced\", \"Divorced\", \"Divorced\", \"Divorced\", \"Divorced\", \"Divorced\", \"Divorced\", \"Divorced\", \"Divorced\", \"Divorced\", \"Divorced\", \"Divorced\", \"Divorced\", \"Divorced\", \"Divorced\", \"Divorced\", \"Divorced\", \"Divorced\", \"Divorced\", \"Divorced\", \"Divorced\", \"Divorced\", \"Divorced\", \"Divorced\", \"Divorced\", \"Divorced\", \"Divorced\", \"Divorced\", \"Divorced\", \"Divorced\", \"Divorced\", \"Divorced\", \"Divorced\", \"Divorced\", \"Divorced\", \"Divorced\", \"Divorced\", \"Divorced\", \"Divorced\", \"Divorced\", \"Divorced\", \"Divorced\", \"Divorced\", \"Divorced\", \"Divorced\", \"Divorced\", \"Divorced\", \"Divorced\", \"Divorced\", \"Divorced\", \"Divorced\", \"Divorced\", \"Divorced\", \"Divorced\", \"Divorced\", \"Divorced\", \"Divorced\", \"Divorced\", \"Divorced\", \"Divorced\", \"Divorced\", \"Divorced\", \"Divorced\", \"Divorced\", \"Divorced\", \"Divorced\", \"Divorced\", \"Divorced\", \"Divorced\", \"Divorced\", \"Divorced\", \"Divorced\", \"Divorced\", \"Divorced\", \"Divorced\", \"Divorced\", \"Divorced\", \"Divorced\", \"Divorced\", \"Divorced\", \"Divorced\", \"Divorced\", \"Divorced\", \"Divorced\", \"Divorced\", \"Divorced\", \"Divorced\", \"Divorced\", \"Divorced\", \"Divorced\", \"Divorced\", \"Divorced\", \"Divorced\", \"Divorced\", \"Divorced\", \"Divorced\", \"Divorced\", \"Divorced\", \"Divorced\", \"Divorced\", \"Divorced\", \"Divorced\", \"Divorced\", \"Divorced\", \"Divorced\", \"Divorced\", \"Divorced\", \"Divorced\", \"Divorced\", \"Divorced\", \"Divorced\", \"Divorced\", \"Divorced\", \"Divorced\", \"Divorced\", \"Divorced\", \"Divorced\", \"Divorced\", \"Divorced\", \"Divorced\", \"Divorced\", \"Divorced\", \"Divorced\", \"Divorced\", \"Divorced\", \"Divorced\", \"Divorced\"], \"xaxis\": \"x\", \"y\": [235, 194, 233, 8, 96, 437, 510, 295, 2, 163, 51, 17, 0, 17, 1001, 125, 212, 15, 448, 587, 81, 1170, 897, 787, 983, 168, 1, 554, 33, 635, 248, 6, 801, 36, 3, 16, 731, 21, 317, 797, 37, 204, 189, 2, 866, 23, 155, 357, 0, 76, 26, 483, 185, 504, 317, 29, 382, 27, 464, 174, 16, 5, 19, 14, 965, 1063, 125, 219, 1, 595, 1132, 372, 459, 321, 909, 112, 23, 537, 345, 440, 294, 8, 144, 1126, 324, 229, 584, 752, 22, 10, 563, 379, 9, 437, 756, 7, 171, 588, 267, 135, 711, 79, 267, 561, 230, 2, 22, 587, 1296, 66, 244, 18, 4, 15, 1215, 3, 574, 897, 516, 146, 165, 176, 714, 8, 1, 44, 1148, 816, 10, 635, 1, 408, 110, 27, 1, 595, 15, 982, 897, 6, 737, 620, 16, 183, 714, 160, 691, 112, 459, 95, 11, 25, 635, 100, 2, 129, 91, 386, 209, 38, 2, 631, 50, 3, 30, 532, 71, 255, 163, 15, 1016, 123, 443, 1459, 7, 267, 527, 667, 621, 243, 29, 18, 1073, 708, 312, 12, 40, 531, 56, 941, 8, 1121, 0, 13, 412, 18, 1045, 128, 584, 641, 122, 9, 102, 673, 40, 1092, 4, 315, 182, 587, 17, 19, 958, 532, 180, 229, 158, 5, 17, 104, 70, 2, 43, 77, 531, 918, 741, 23, 33, 302, 23, 908], \"yaxis\": \"y\"}, {\"hovertemplate\": \"marital_status=%{x}<br>mntwines=%{y}<extra></extra>\", \"legendgroup\": \"Widow\", \"marker\": {\"color\": \"#FFA15A\", \"symbol\": \"circle\"}, \"mode\": \"markers\", \"name\": \"Widow\", \"showlegend\": true, \"type\": \"scattergl\", \"x\": [\"Widow\", \"Widow\", \"Widow\", \"Widow\", \"Widow\", \"Widow\", \"Widow\", \"Widow\", \"Widow\", \"Widow\", \"Widow\", \"Widow\", \"Widow\", \"Widow\", \"Widow\", \"Widow\", \"Widow\", \"Widow\", \"Widow\", \"Widow\", \"Widow\", \"Widow\", \"Widow\", \"Widow\", \"Widow\", \"Widow\", \"Widow\", \"Widow\", \"Widow\", \"Widow\", \"Widow\", \"Widow\", \"Widow\", \"Widow\", \"Widow\", \"Widow\", \"Widow\", \"Widow\", \"Widow\", \"Widow\", \"Widow\", \"Widow\", \"Widow\", \"Widow\", \"Widow\", \"Widow\", \"Widow\", \"Widow\", \"Widow\", \"Widow\", \"Widow\", \"Widow\", \"Widow\", \"Widow\", \"Widow\", \"Widow\", \"Widow\", \"Widow\", \"Widow\", \"Widow\", \"Widow\", \"Widow\", \"Widow\", \"Widow\", \"Widow\", \"Widow\", \"Widow\", \"Widow\", \"Widow\", \"Widow\", \"Widow\", \"Widow\", \"Widow\", \"Widow\", \"Widow\", \"Widow\", \"Widow\"], \"xaxis\": \"x\", \"y\": [55, 245, 546, 505, 182, 901, 395, 1, 15, 512, 43, 400, 161, 112, 4, 24, 815, 162, 63, 416, 1060, 55, 162, 5, 625, 445, 371, 67, 445, 19, 860, 205, 5, 953, 12, 27, 158, 508, 735, 1298, 341, 62, 13, 972, 508, 332, 431, 293, 595, 67, 50, 19, 612, 861, 380, 15, 267, 167, 488, 100, 953, 710, 344, 605, 67, 1462, 526, 618, 526, 544, 3, 532, 189, 154, 154, 570, 332], \"yaxis\": \"y\"}, {\"hovertemplate\": \"marital_status=%{x}<br>mntwines=%{y}<extra></extra>\", \"legendgroup\": \"Alone\", \"marker\": {\"color\": \"#19d3f3\", \"symbol\": \"circle\"}, \"mode\": \"markers\", \"name\": \"Alone\", \"showlegend\": true, \"type\": \"scattergl\", \"x\": [\"Alone\", \"Alone\", \"Alone\"], \"xaxis\": \"x\", \"y\": [534, 15, 5], \"yaxis\": \"y\"}, {\"hovertemplate\": \"marital_status=%{x}<br>mntwines=%{y}<extra></extra>\", \"legendgroup\": \"Absurd\", \"marker\": {\"color\": \"#FF6692\", \"symbol\": \"circle\"}, \"mode\": \"markers\", \"name\": \"Absurd\", \"showlegend\": true, \"type\": \"scattergl\", \"x\": [\"Absurd\", \"Absurd\"], \"xaxis\": \"x\", \"y\": [471, 240], \"yaxis\": \"y\"}, {\"hovertemplate\": \"marital_status=%{x}<br>mntwines=%{y}<extra></extra>\", \"legendgroup\": \"YOLO\", \"marker\": {\"color\": \"#B6E880\", \"symbol\": \"circle\"}, \"mode\": \"markers\", \"name\": \"YOLO\", \"showlegend\": true, \"type\": \"scattergl\", \"x\": [\"YOLO\", \"YOLO\"], \"xaxis\": \"x\", \"y\": [322, 322], \"yaxis\": \"y\"}],                        {\"autosize\": false, \"height\": 500, \"legend\": {\"title\": {\"text\": \"marital_status\"}, \"tracegroupgap\": 0}, \"margin\": {\"t\": 60}, \"template\": {\"data\": {\"bar\": [{\"error_x\": {\"color\": \"#2a3f5f\"}, \"error_y\": {\"color\": \"#2a3f5f\"}, \"marker\": {\"line\": {\"color\": \"#E5ECF6\", \"width\": 0.5}}, \"type\": \"bar\"}], \"barpolar\": [{\"marker\": {\"line\": {\"color\": \"#E5ECF6\", \"width\": 0.5}}, \"type\": \"barpolar\"}], \"carpet\": [{\"aaxis\": {\"endlinecolor\": \"#2a3f5f\", \"gridcolor\": \"white\", \"linecolor\": \"white\", \"minorgridcolor\": \"white\", \"startlinecolor\": \"#2a3f5f\"}, \"baxis\": {\"endlinecolor\": \"#2a3f5f\", \"gridcolor\": \"white\", \"linecolor\": \"white\", \"minorgridcolor\": \"white\", \"startlinecolor\": \"#2a3f5f\"}, \"type\": \"carpet\"}], \"choropleth\": [{\"colorbar\": {\"outlinewidth\": 0, \"ticks\": \"\"}, \"type\": \"choropleth\"}], \"contour\": [{\"colorbar\": {\"outlinewidth\": 0, \"ticks\": \"\"}, \"colorscale\": [[0.0, \"#0d0887\"], [0.1111111111111111, \"#46039f\"], [0.2222222222222222, \"#7201a8\"], [0.3333333333333333, \"#9c179e\"], [0.4444444444444444, \"#bd3786\"], [0.5555555555555556, \"#d8576b\"], [0.6666666666666666, \"#ed7953\"], [0.7777777777777778, \"#fb9f3a\"], [0.8888888888888888, \"#fdca26\"], [1.0, \"#f0f921\"]], \"type\": \"contour\"}], \"contourcarpet\": [{\"colorbar\": {\"outlinewidth\": 0, \"ticks\": \"\"}, \"type\": \"contourcarpet\"}], \"heatmap\": [{\"colorbar\": {\"outlinewidth\": 0, \"ticks\": \"\"}, \"colorscale\": [[0.0, \"#0d0887\"], [0.1111111111111111, \"#46039f\"], [0.2222222222222222, \"#7201a8\"], [0.3333333333333333, \"#9c179e\"], [0.4444444444444444, \"#bd3786\"], [0.5555555555555556, \"#d8576b\"], [0.6666666666666666, \"#ed7953\"], [0.7777777777777778, \"#fb9f3a\"], [0.8888888888888888, \"#fdca26\"], [1.0, \"#f0f921\"]], \"type\": \"heatmap\"}], \"heatmapgl\": [{\"colorbar\": {\"outlinewidth\": 0, \"ticks\": \"\"}, \"colorscale\": [[0.0, \"#0d0887\"], [0.1111111111111111, \"#46039f\"], [0.2222222222222222, \"#7201a8\"], [0.3333333333333333, \"#9c179e\"], [0.4444444444444444, \"#bd3786\"], [0.5555555555555556, \"#d8576b\"], [0.6666666666666666, \"#ed7953\"], [0.7777777777777778, \"#fb9f3a\"], [0.8888888888888888, \"#fdca26\"], [1.0, \"#f0f921\"]], \"type\": \"heatmapgl\"}], \"histogram\": [{\"marker\": {\"colorbar\": {\"outlinewidth\": 0, \"ticks\": \"\"}}, \"type\": \"histogram\"}], \"histogram2d\": [{\"colorbar\": {\"outlinewidth\": 0, \"ticks\": \"\"}, \"colorscale\": [[0.0, \"#0d0887\"], [0.1111111111111111, \"#46039f\"], [0.2222222222222222, \"#7201a8\"], [0.3333333333333333, \"#9c179e\"], [0.4444444444444444, \"#bd3786\"], [0.5555555555555556, \"#d8576b\"], [0.6666666666666666, \"#ed7953\"], [0.7777777777777778, \"#fb9f3a\"], [0.8888888888888888, \"#fdca26\"], [1.0, \"#f0f921\"]], \"type\": \"histogram2d\"}], \"histogram2dcontour\": [{\"colorbar\": {\"outlinewidth\": 0, \"ticks\": \"\"}, \"colorscale\": [[0.0, \"#0d0887\"], [0.1111111111111111, \"#46039f\"], [0.2222222222222222, \"#7201a8\"], [0.3333333333333333, \"#9c179e\"], [0.4444444444444444, \"#bd3786\"], [0.5555555555555556, \"#d8576b\"], [0.6666666666666666, \"#ed7953\"], [0.7777777777777778, \"#fb9f3a\"], [0.8888888888888888, \"#fdca26\"], [1.0, \"#f0f921\"]], \"type\": \"histogram2dcontour\"}], \"mesh3d\": [{\"colorbar\": {\"outlinewidth\": 0, \"ticks\": \"\"}, \"type\": \"mesh3d\"}], \"parcoords\": [{\"line\": {\"colorbar\": {\"outlinewidth\": 0, \"ticks\": \"\"}}, \"type\": \"parcoords\"}], \"pie\": [{\"automargin\": true, \"type\": \"pie\"}], \"scatter\": [{\"marker\": {\"colorbar\": {\"outlinewidth\": 0, \"ticks\": \"\"}}, \"type\": \"scatter\"}], \"scatter3d\": [{\"line\": {\"colorbar\": {\"outlinewidth\": 0, \"ticks\": \"\"}}, \"marker\": {\"colorbar\": {\"outlinewidth\": 0, \"ticks\": \"\"}}, \"type\": \"scatter3d\"}], \"scattercarpet\": [{\"marker\": {\"colorbar\": {\"outlinewidth\": 0, \"ticks\": \"\"}}, \"type\": \"scattercarpet\"}], \"scattergeo\": [{\"marker\": {\"colorbar\": {\"outlinewidth\": 0, \"ticks\": \"\"}}, \"type\": \"scattergeo\"}], \"scattergl\": [{\"marker\": {\"colorbar\": {\"outlinewidth\": 0, \"ticks\": \"\"}}, \"type\": \"scattergl\"}], \"scattermapbox\": [{\"marker\": {\"colorbar\": {\"outlinewidth\": 0, \"ticks\": \"\"}}, \"type\": \"scattermapbox\"}], \"scatterpolar\": [{\"marker\": {\"colorbar\": {\"outlinewidth\": 0, \"ticks\": \"\"}}, \"type\": \"scatterpolar\"}], \"scatterpolargl\": [{\"marker\": {\"colorbar\": {\"outlinewidth\": 0, \"ticks\": \"\"}}, \"type\": \"scatterpolargl\"}], \"scatterternary\": [{\"marker\": {\"colorbar\": {\"outlinewidth\": 0, \"ticks\": \"\"}}, \"type\": \"scatterternary\"}], \"surface\": [{\"colorbar\": {\"outlinewidth\": 0, \"ticks\": \"\"}, \"colorscale\": [[0.0, \"#0d0887\"], [0.1111111111111111, \"#46039f\"], [0.2222222222222222, \"#7201a8\"], [0.3333333333333333, \"#9c179e\"], [0.4444444444444444, \"#bd3786\"], [0.5555555555555556, \"#d8576b\"], [0.6666666666666666, \"#ed7953\"], [0.7777777777777778, \"#fb9f3a\"], [0.8888888888888888, \"#fdca26\"], [1.0, \"#f0f921\"]], \"type\": \"surface\"}], \"table\": [{\"cells\": {\"fill\": {\"color\": \"#EBF0F8\"}, \"line\": {\"color\": \"white\"}}, \"header\": {\"fill\": {\"color\": \"#C8D4E3\"}, \"line\": {\"color\": \"white\"}}, \"type\": \"table\"}]}, \"layout\": {\"annotationdefaults\": {\"arrowcolor\": \"#2a3f5f\", \"arrowhead\": 0, \"arrowwidth\": 1}, \"coloraxis\": {\"colorbar\": {\"outlinewidth\": 0, \"ticks\": \"\"}}, \"colorscale\": {\"diverging\": [[0, \"#8e0152\"], [0.1, \"#c51b7d\"], [0.2, \"#de77ae\"], [0.3, \"#f1b6da\"], [0.4, \"#fde0ef\"], [0.5, \"#f7f7f7\"], [0.6, \"#e6f5d0\"], [0.7, \"#b8e186\"], [0.8, \"#7fbc41\"], [0.9, \"#4d9221\"], [1, \"#276419\"]], \"sequential\": [[0.0, \"#0d0887\"], [0.1111111111111111, \"#46039f\"], [0.2222222222222222, \"#7201a8\"], [0.3333333333333333, \"#9c179e\"], [0.4444444444444444, \"#bd3786\"], [0.5555555555555556, \"#d8576b\"], [0.6666666666666666, \"#ed7953\"], [0.7777777777777778, \"#fb9f3a\"], [0.8888888888888888, \"#fdca26\"], [1.0, \"#f0f921\"]], \"sequentialminus\": [[0.0, \"#0d0887\"], [0.1111111111111111, \"#46039f\"], [0.2222222222222222, \"#7201a8\"], [0.3333333333333333, \"#9c179e\"], [0.4444444444444444, \"#bd3786\"], [0.5555555555555556, \"#d8576b\"], [0.6666666666666666, \"#ed7953\"], [0.7777777777777778, \"#fb9f3a\"], [0.8888888888888888, \"#fdca26\"], [1.0, \"#f0f921\"]]}, \"colorway\": [\"#636efa\", \"#EF553B\", \"#00cc96\", \"#ab63fa\", \"#FFA15A\", \"#19d3f3\", \"#FF6692\", \"#B6E880\", \"#FF97FF\", \"#FECB52\"], \"font\": {\"color\": \"#2a3f5f\"}, \"geo\": {\"bgcolor\": \"white\", \"lakecolor\": \"white\", \"landcolor\": \"#E5ECF6\", \"showlakes\": true, \"showland\": true, \"subunitcolor\": \"white\"}, \"hoverlabel\": {\"align\": \"left\"}, \"hovermode\": \"closest\", \"mapbox\": {\"style\": \"light\"}, \"paper_bgcolor\": \"white\", \"plot_bgcolor\": \"#E5ECF6\", \"polar\": {\"angularaxis\": {\"gridcolor\": \"white\", \"linecolor\": \"white\", \"ticks\": \"\"}, \"bgcolor\": \"#E5ECF6\", \"radialaxis\": {\"gridcolor\": \"white\", \"linecolor\": \"white\", \"ticks\": \"\"}}, \"scene\": {\"xaxis\": {\"backgroundcolor\": \"#E5ECF6\", \"gridcolor\": \"white\", \"gridwidth\": 2, \"linecolor\": \"white\", \"showbackground\": true, \"ticks\": \"\", \"zerolinecolor\": \"white\"}, \"yaxis\": {\"backgroundcolor\": \"#E5ECF6\", \"gridcolor\": \"white\", \"gridwidth\": 2, \"linecolor\": \"white\", \"showbackground\": true, \"ticks\": \"\", \"zerolinecolor\": \"white\"}, \"zaxis\": {\"backgroundcolor\": \"#E5ECF6\", \"gridcolor\": \"white\", \"gridwidth\": 2, \"linecolor\": \"white\", \"showbackground\": true, \"ticks\": \"\", \"zerolinecolor\": \"white\"}}, \"shapedefaults\": {\"line\": {\"color\": \"#2a3f5f\"}}, \"ternary\": {\"aaxis\": {\"gridcolor\": \"white\", \"linecolor\": \"white\", \"ticks\": \"\"}, \"baxis\": {\"gridcolor\": \"white\", \"linecolor\": \"white\", \"ticks\": \"\"}, \"bgcolor\": \"#E5ECF6\", \"caxis\": {\"gridcolor\": \"white\", \"linecolor\": \"white\", \"ticks\": \"\"}}, \"title\": {\"x\": 0.05}, \"xaxis\": {\"automargin\": true, \"gridcolor\": \"white\", \"linecolor\": \"white\", \"ticks\": \"\", \"title\": {\"standoff\": 15}, \"zerolinecolor\": \"white\", \"zerolinewidth\": 2}, \"yaxis\": {\"automargin\": true, \"gridcolor\": \"white\", \"linecolor\": \"white\", \"ticks\": \"\", \"title\": {\"standoff\": 15}, \"zerolinecolor\": \"white\", \"zerolinewidth\": 2}}}, \"width\": 500, \"xaxis\": {\"anchor\": \"y\", \"categoryarray\": [\"Single\", \"Together\", \"Married\", \"Divorced\", \"Widow\", \"Alone\", \"Absurd\", \"YOLO\"], \"categoryorder\": \"array\", \"domain\": [0.0, 1.0], \"title\": {\"text\": \"marital_status\"}}, \"yaxis\": {\"anchor\": \"x\", \"domain\": [0.0, 1.0], \"title\": {\"text\": \"mntwines\"}}},                        {\"responsive\": true}                    ).then(function(){\n",
       "                            \n",
       "var gd = document.getElementById('89139864-1c39-469d-ad4d-f7bf9949c8a7');\n",
       "var x = new MutationObserver(function (mutations, observer) {{\n",
       "        var display = window.getComputedStyle(gd).display;\n",
       "        if (!display || display === 'none') {{\n",
       "            console.log([gd, 'removed!']);\n",
       "            Plotly.purge(gd);\n",
       "            observer.disconnect();\n",
       "        }}\n",
       "}});\n",
       "\n",
       "// Listen for the removal of the full notebook cells\n",
       "var notebookContainer = gd.closest('#notebook-container');\n",
       "if (notebookContainer) {{\n",
       "    x.observe(notebookContainer, {childList: true});\n",
       "}}\n",
       "\n",
       "// Listen for the clearing of the current output cell\n",
       "var outputEl = gd.closest('.output');\n",
       "if (outputEl) {{\n",
       "    x.observe(outputEl, {childList: true});\n",
       "}}\n",
       "\n",
       "                        })                };                });            </script>        </div>"
      ]
     },
     "metadata": {},
     "output_type": "display_data"
    }
   ],
   "source": [
    "fig = px.scatter(df,\n",
    "                 x = \"marital_status\",\n",
    "                 y = \"mntwines\",\n",
    "                 color=\"marital_status\")\n",
    "\n",
    "\n",
    "fig.update_layout(\n",
    "    autosize=False,\n",
    "    width=500,\n",
    "    height=500\n",
    ")\n",
    "\n",
    "fig.show()"
   ]
  },
  {
   "cell_type": "code",
   "execution_count": 48,
   "metadata": {},
   "outputs": [],
   "source": [
    "# kidhome = df.groupby([\"kidhome\", \"teenhome\"])\n",
    "# kidhome.head()"
   ]
  },
  {
   "cell_type": "code",
   "execution_count": null,
   "metadata": {},
   "outputs": [],
   "source": []
  }
 ],
 "metadata": {
  "kernelspec": {
   "display_name": "Python 3",
   "language": "python",
   "name": "python3"
  },
  "language_info": {
   "codemirror_mode": {
    "name": "ipython",
    "version": 3
   },
   "file_extension": ".py",
   "mimetype": "text/x-python",
   "name": "python",
   "nbconvert_exporter": "python",
   "pygments_lexer": "ipython3",
   "version": "3.8.5"
  }
 },
 "nbformat": 4,
 "nbformat_minor": 4
}
